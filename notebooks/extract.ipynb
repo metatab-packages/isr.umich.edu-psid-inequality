{
 "cells": [
  {
   "cell_type": "code",
   "execution_count": 1,
   "metadata": {},
   "outputs": [],
   "source": [
    "%load_ext autoreload\n",
    "%autoreload 2\n",
    "\n",
    "import seaborn as sns\n",
    "import metapack as mp\n",
    "import pandas as pd\n",
    "import numpy as np\n",
    "import matplotlib.pyplot as plt\n",
    "from IPython.display import display \n",
    "\n",
    "import re\n",
    "import xml.etree.ElementTree as ET\n",
    "import pandas as pd\n",
    "\n",
    "%matplotlib inline\n",
    "sns.set_context('notebook')\n",
    "mp.jupyter.init()\n"
   ]
  },
  {
   "cell_type": "code",
   "execution_count": 2,
   "metadata": {},
   "outputs": [
    {
     "data": {
      "text/plain": "\n`isr.umich.edu-psid-inequality-1.1.1` Last Update: 2023-06-06T20:57:36\n\n__\n\n\n\n## Updating Data\n\nTo update the data, use the data extration tool at the (PSID website. )[https://simba.isr.umich.edu/Cart/co.aspx], adding any new variables to your data cart. The (variable entry text box)[https://simba.isr.umich.edu/DC/l.aspx] is a handy way to copy the existing varibles into a new cart.  When you checkout your data cart, ( click on the cart icon ) fetch your dataset with these options: \n\n* Codebook Type: XML\n* Data output type: dBase Data File, create compressed file\n\nDownload the ZIP file ( you might have to recompress it if your browser unpacks it ) and move it into the ``data`` directory. Set the reference to the new ZIP file, then re-build the package.\n## Documentation Links\n\n* [PSID Homepage](https://psidonline.isr.umich.edu/default.aspx) \n\n \n\n## Contacts\n\n* **Wrangler** [Eric Busboom](mailto:eric@civicknowledge.com), [Civic Knowledge](http://civicknowledge.com)\n\n## Resources\n\n* **[psid_ineq](notebooks/extract.ipynb#df)**. PSID, Inequality extract\n* **[_labels](notebooks/extract.ipynb#labels)**. Categorical value labels\n* **[data_dictionary](notebooks/extract.ipynb#mdf)**. List of Variables\n\n## References\n<ul><li> <strong><a href=\"https://psidonline.isr.umich.edu/help/xyr/psid.xlsx\">variables</a></strong>. Variable descriptions, in a cross-year format.</li><li> <strong>source</string>, <em>data/J321027.zip</em>. Downloaded source file</li><ul>\n",
      "text/html": "<p><code>isr.umich.edu-psid-inequality-1.1.1</code> Last Update: 2023-06-06T20:57:36</p>\n<p>__</p>\n<h2>Updating Data</h2>\n<p>To update the data, use the data extration tool at the (PSID website. )[https://simba.isr.umich.edu/Cart/co.aspx], adding any new variables to your data cart. The (variable entry text box)[https://simba.isr.umich.edu/DC/l.aspx] is a handy way to copy the existing varibles into a new cart.  When you checkout your data cart, ( click on the cart icon ) fetch your dataset with these options: </p>\n<ul>\n<li>Codebook Type: XML</li>\n<li>Data output type: dBase Data File, create compressed file</li>\n</ul>\n<p>Download the ZIP file ( you might have to recompress it if your browser unpacks it ) and move it into the <code>data</code> directory. Set the reference to the new ZIP file, then re-build the package.</p>\n<h2>Documentation Links</h2>\n<ul>\n<li><a href=\"https://psidonline.isr.umich.edu/default.aspx\">PSID Homepage</a> </li>\n</ul>\n<h2>Contacts</h2>\n<ul>\n<li><strong>Wrangler</strong> <a href=\"mailto:eric@civicknowledge.com\">Eric Busboom</a>, <a href=\"http://civicknowledge.com\">Civic Knowledge</a></li>\n</ul>\n<h2>Resources</h2>\n<ul>\n<li><strong><a href=\"notebooks/extract.ipynb#df\">psid_ineq</a></strong>. PSID, Inequality extract</li>\n<li><strong><a href=\"notebooks/extract.ipynb#labels\">_labels</a></strong>. Categorical value labels</li>\n<li><strong><a href=\"notebooks/extract.ipynb#mdf\">data_dictionary</a></strong>. List of Variables</li>\n</ul>\n<h2>References</h2>\n<ul><li> <strong><a href=\"https://psidonline.isr.umich.edu/help/xyr/psid.xlsx\">variables</a></strong>. Variable descriptions, in a cross-year format.</li><li> <strong>source</string>, <em>data/J321027.zip</em>. Downloaded source file</li><ul>"
     },
     "execution_count": 2,
     "metadata": {},
     "output_type": "execute_result"
    }
   ],
   "source": [
    "#pkg = mp.jupyter.open_package()\n",
    "pkg = mp.jupyter.open_source_package()\n",
    "pkg.set_sys_path()\n",
    "from pylib import *\n",
    "pkg"
   ]
  },
  {
   "cell_type": "code",
   "execution_count": 3,
   "outputs": [],
   "source": [
    "# create URLs to the files inside the data distribution ZIP file\n",
    "surl   = pkg.reference('source').resolved_url\n",
    "base_name = surl.resource_file.split('.')[0]\n",
    "database_url = surl.set_target_file(base_name+'.dbf')\n",
    "\n",
    "from simpledbf import Dbf5\n",
    "dbf = Dbf5(database_url.get_target().fspath)\n",
    "df = dbf.to_dataframe()\n",
    "\n",
    "# Make everything as numerical as possible\n",
    "for c in df.columns:\n",
    "    df[c] = pd.to_numeric(df[c])\n",
    "\n",
    "# Recommended construction of unique persion id\n",
    "df['pid'] = df['ER30001'] + df['ER30002']\n"
   ],
   "metadata": {
    "collapsed": false
   }
  },
  {
   "cell_type": "code",
   "execution_count": 9,
   "metadata": {},
   "outputs": [],
   "source": [
    "# opening_columns. These should always be at the start of the schema.\n",
    "init_cols = ['ER30000','ER30001','ER30002']\n"
   ]
  },
  {
   "cell_type": "code",
   "execution_count": 6,
   "metadata": {},
   "outputs": [],
   "source": [
    "mdf = extract_metadata(pkg)\n",
    "labels = extract_labels(pkg)"
   ]
  },
  {
   "cell_type": "markdown",
   "source": [],
   "metadata": {
    "collapsed": false
   }
  },
  {
   "cell_type": "code",
   "execution_count": 11,
   "outputs": [
    {
     "data": {
      "text/plain": "     year type_id     name                                     label  \\\n1    1968       0  ER30001                     1968 INTERVIEW NUMBER   \n2    1968       0  ER30002  PERSON NUMBER                         68   \n0    1968       0  ER30000                            RELEASE NUMBER   \n56   2001       2  ER33601                     2001 INTERVIEW NUMBER   \n119  2003       2  ER33701                     2003 INTERVIEW NUMBER   \n..    ...     ...      ...                                       ...   \n530  2015       1  ER64873       L72 OCCUPATION 1ST FULL TIME JOB-HD   \n177  2005       1  ER27446   L72-72A OCCUPATION 1ST FULL TIME JOB-HD   \n246  2007       1  ER40618   L72-72A OCCUPATION 1ST FULL TIME JOB-HD   \n315  2009       1  ER46596   L72-72A OCCUPATION 1ST FULL TIME JOB-HD   \n109  2003       1  ER23478      L72-72A OCCUPATION 1ST FULL-TIME JOB   \n\n                                                 qtext  \\\n1               1968 Interview Number (1968 ID Number)   \n2                                        Person Number   \n0                                     Release Number     \n56              2001 Interview Number (2001 ID Number)   \n119             2003 Interview Number (2003 ID Number)   \n..                                                 ...   \n530  L72. Thinking of (your/his/her) first full-tim...   \n177  L72. Thinking of your first full-time regular ...   \n246  L72. Thinking of your first full-time regular ...   \n315  L72. Thinking of your first full-time regular ...   \n109  L72. Thinking of your first full-time regular ...   \n\n                                                 etext           type  \\\n1     This variable is the 1968 family ID number. T...     INDIVIDUAL   \n2                                                          INDIVIDUAL   \n0     For Release 2 we have updated Relation to Hea...     INDIVIDUAL   \n56   The values for this variable represent the 200...     INDIVIDUAL   \n119  The values for this variable represent the 200...     INDIVIDUAL   \n..                                                 ...            ...   \n530   The 3-digit occupation code from 2000 CENSUS ...  FAMILY PUBLIC   \n177  See the note at ER27352.  The 3-digit occupati...  FAMILY PUBLIC   \n246  See the note at ER40527.  The 3-digit occupati...  FAMILY PUBLIC   \n315  See the note at ER46504.  The 3-digit occupati...  FAMILY PUBLIC   \n109  See the note at ER23388.  The 3-digit occupati...  FAMILY PUBLIC   \n\n               category                                               text  \\\n1    SURVEY INFORMATION  01>SURVEY INFORMATION:\\n02>Interview Informati...   \n2    SURVEY INFORMATION  01>SURVEY INFORMATION:\\n02>Interview Informati...   \n0    SURVEY INFORMATION  01>SURVEY INFORMATION:\\n02>Interview Informati...   \n56   SURVEY INFORMATION  01>SURVEY INFORMATION:\\n02>Interview Informati...   \n119  SURVEY INFORMATION  01>SURVEY INFORMATION:\\n02>Interview Informati...   \n..                  ...                                                ...   \n530                WORK  01>WORK\\n02>Occupation\\n03>1st full-time job\\n...   \n177                WORK  01>WORK\\n02>Occupation\\n03>1st full-time job\\n...   \n246                WORK  01>WORK\\n02>Occupation\\n03>1st full-time job\\n...   \n315                WORK  01>WORK\\n02>Occupation\\n03>1st full-time job\\n...   \n109                WORK  01>WORK\\n02>Occupation\\n03>1st full-time job\\n...   \n\n    head_wife  var_count                                               path  \n1                   41.0  /survey information:/interview information/id ...  \n2                    1.0  /survey information:/interview information/per...  \n0                    1.0  /survey information:/interview information/rel...  \n56                  41.0  /survey information:/interview information/id ...  \n119                 41.0  /survey information:/interview information/id ...  \n..        ...        ...                                                ...  \n530      HEAD        7.0  /work/occupation/st full-time job/-digit,  cen...  \n177      HEAD        7.0  /work/occupation/st full-time job/-digit,  cen...  \n246      HEAD        7.0  /work/occupation/st full-time job/-digit,  cen...  \n315      HEAD        7.0  /work/occupation/st full-time job/-digit,  cen...  \n109      HEAD        7.0  /work/occupation/st full-time job/-digit,  cen...  \n\n[687 rows x 12 columns]",
      "text/html": "<div>\n<style scoped>\n    .dataframe tbody tr th:only-of-type {\n        vertical-align: middle;\n    }\n\n    .dataframe tbody tr th {\n        vertical-align: top;\n    }\n\n    .dataframe thead th {\n        text-align: right;\n    }\n</style>\n<table border=\"1\" class=\"dataframe\">\n  <thead>\n    <tr style=\"text-align: right;\">\n      <th></th>\n      <th>year</th>\n      <th>type_id</th>\n      <th>name</th>\n      <th>label</th>\n      <th>qtext</th>\n      <th>etext</th>\n      <th>type</th>\n      <th>category</th>\n      <th>text</th>\n      <th>head_wife</th>\n      <th>var_count</th>\n      <th>path</th>\n    </tr>\n  </thead>\n  <tbody>\n    <tr>\n      <th>1</th>\n      <td>1968</td>\n      <td>0</td>\n      <td>ER30001</td>\n      <td>1968 INTERVIEW NUMBER</td>\n      <td>1968 Interview Number (1968 ID Number)</td>\n      <td>This variable is the 1968 family ID number. T...</td>\n      <td>INDIVIDUAL</td>\n      <td>SURVEY INFORMATION</td>\n      <td>01&gt;SURVEY INFORMATION:\\n02&gt;Interview Informati...</td>\n      <td></td>\n      <td>41.0</td>\n      <td>/survey information:/interview information/id ...</td>\n    </tr>\n    <tr>\n      <th>2</th>\n      <td>1968</td>\n      <td>0</td>\n      <td>ER30002</td>\n      <td>PERSON NUMBER                         68</td>\n      <td>Person Number</td>\n      <td></td>\n      <td>INDIVIDUAL</td>\n      <td>SURVEY INFORMATION</td>\n      <td>01&gt;SURVEY INFORMATION:\\n02&gt;Interview Informati...</td>\n      <td></td>\n      <td>1.0</td>\n      <td>/survey information:/interview information/per...</td>\n    </tr>\n    <tr>\n      <th>0</th>\n      <td>1968</td>\n      <td>0</td>\n      <td>ER30000</td>\n      <td>RELEASE NUMBER</td>\n      <td>Release Number</td>\n      <td>For Release 2 we have updated Relation to Hea...</td>\n      <td>INDIVIDUAL</td>\n      <td>SURVEY INFORMATION</td>\n      <td>01&gt;SURVEY INFORMATION:\\n02&gt;Interview Informati...</td>\n      <td></td>\n      <td>1.0</td>\n      <td>/survey information:/interview information/rel...</td>\n    </tr>\n    <tr>\n      <th>56</th>\n      <td>2001</td>\n      <td>2</td>\n      <td>ER33601</td>\n      <td>2001 INTERVIEW NUMBER</td>\n      <td>2001 Interview Number (2001 ID Number)</td>\n      <td>The values for this variable represent the 200...</td>\n      <td>INDIVIDUAL</td>\n      <td>SURVEY INFORMATION</td>\n      <td>01&gt;SURVEY INFORMATION:\\n02&gt;Interview Informati...</td>\n      <td></td>\n      <td>41.0</td>\n      <td>/survey information:/interview information/id ...</td>\n    </tr>\n    <tr>\n      <th>119</th>\n      <td>2003</td>\n      <td>2</td>\n      <td>ER33701</td>\n      <td>2003 INTERVIEW NUMBER</td>\n      <td>2003 Interview Number (2003 ID Number)</td>\n      <td>The values for this variable represent the 200...</td>\n      <td>INDIVIDUAL</td>\n      <td>SURVEY INFORMATION</td>\n      <td>01&gt;SURVEY INFORMATION:\\n02&gt;Interview Informati...</td>\n      <td></td>\n      <td>41.0</td>\n      <td>/survey information:/interview information/id ...</td>\n    </tr>\n    <tr>\n      <th>...</th>\n      <td>...</td>\n      <td>...</td>\n      <td>...</td>\n      <td>...</td>\n      <td>...</td>\n      <td>...</td>\n      <td>...</td>\n      <td>...</td>\n      <td>...</td>\n      <td>...</td>\n      <td>...</td>\n      <td>...</td>\n    </tr>\n    <tr>\n      <th>530</th>\n      <td>2015</td>\n      <td>1</td>\n      <td>ER64873</td>\n      <td>L72 OCCUPATION 1ST FULL TIME JOB-HD</td>\n      <td>L72. Thinking of (your/his/her) first full-tim...</td>\n      <td>The 3-digit occupation code from 2000 CENSUS ...</td>\n      <td>FAMILY PUBLIC</td>\n      <td>WORK</td>\n      <td>01&gt;WORK\\n02&gt;Occupation\\n03&gt;1st full-time job\\n...</td>\n      <td>HEAD</td>\n      <td>7.0</td>\n      <td>/work/occupation/st full-time job/-digit,  cen...</td>\n    </tr>\n    <tr>\n      <th>177</th>\n      <td>2005</td>\n      <td>1</td>\n      <td>ER27446</td>\n      <td>L72-72A OCCUPATION 1ST FULL TIME JOB-HD</td>\n      <td>L72. Thinking of your first full-time regular ...</td>\n      <td>See the note at ER27352.  The 3-digit occupati...</td>\n      <td>FAMILY PUBLIC</td>\n      <td>WORK</td>\n      <td>01&gt;WORK\\n02&gt;Occupation\\n03&gt;1st full-time job\\n...</td>\n      <td>HEAD</td>\n      <td>7.0</td>\n      <td>/work/occupation/st full-time job/-digit,  cen...</td>\n    </tr>\n    <tr>\n      <th>246</th>\n      <td>2007</td>\n      <td>1</td>\n      <td>ER40618</td>\n      <td>L72-72A OCCUPATION 1ST FULL TIME JOB-HD</td>\n      <td>L72. Thinking of your first full-time regular ...</td>\n      <td>See the note at ER40527.  The 3-digit occupati...</td>\n      <td>FAMILY PUBLIC</td>\n      <td>WORK</td>\n      <td>01&gt;WORK\\n02&gt;Occupation\\n03&gt;1st full-time job\\n...</td>\n      <td>HEAD</td>\n      <td>7.0</td>\n      <td>/work/occupation/st full-time job/-digit,  cen...</td>\n    </tr>\n    <tr>\n      <th>315</th>\n      <td>2009</td>\n      <td>1</td>\n      <td>ER46596</td>\n      <td>L72-72A OCCUPATION 1ST FULL TIME JOB-HD</td>\n      <td>L72. Thinking of your first full-time regular ...</td>\n      <td>See the note at ER46504.  The 3-digit occupati...</td>\n      <td>FAMILY PUBLIC</td>\n      <td>WORK</td>\n      <td>01&gt;WORK\\n02&gt;Occupation\\n03&gt;1st full-time job\\n...</td>\n      <td>HEAD</td>\n      <td>7.0</td>\n      <td>/work/occupation/st full-time job/-digit,  cen...</td>\n    </tr>\n    <tr>\n      <th>109</th>\n      <td>2003</td>\n      <td>1</td>\n      <td>ER23478</td>\n      <td>L72-72A OCCUPATION 1ST FULL-TIME JOB</td>\n      <td>L72. Thinking of your first full-time regular ...</td>\n      <td>See the note at ER23388.  The 3-digit occupati...</td>\n      <td>FAMILY PUBLIC</td>\n      <td>WORK</td>\n      <td>01&gt;WORK\\n02&gt;Occupation\\n03&gt;1st full-time job\\n...</td>\n      <td>HEAD</td>\n      <td>7.0</td>\n      <td>/work/occupation/st full-time job/-digit,  cen...</td>\n    </tr>\n  </tbody>\n</table>\n<p>687 rows × 12 columns</p>\n</div>"
     },
     "metadata": {},
     "output_type": "display_data"
    },
    {
     "data": {
      "text/plain": "   pid  ER30001  ER30002  ER30000  ER33601  ER33701  ER33801  ER33901  \\\n0    7        4        3        3       96     1392      289      148   \n1    8        4        4        3     5987     6278     2356     5399   \n2    9        4        5        3     6872     7782        0        0   \n3   10        4        6        3     5599     4812     4097      720   \n4   11        4        7        3     7091        0     6880        0   \n\n   ER34001  ER34101  ...  ER46502  ER51863  ER57603  ER51957  ER57713  \\\n0       13      218  ...    832.0    832.0      NaN    936.0      NaN   \n1     1827     8397  ...      0.0      0.0      0.0    516.0    516.0   \n2        0        0  ...      NaN      NaN      NaN      NaN      NaN   \n3     1840     2541  ...      0.0      0.0      0.0    476.0    476.0   \n4     1840     2541  ...      0.0      0.0      0.0    476.0    476.0   \n\n   ER64873  ER27446  ER40618  ER46596  ER23478  \n0      NaN    936.0    936.0    936.0    936.0  \n1      NaN    516.0    516.0    516.0    516.0  \n2      NaN      NaN      NaN      NaN    742.0  \n3    476.0    476.0    476.0    476.0    476.0  \n4    476.0    832.0      NaN    476.0      NaN  \n\n[5 rows x 688 columns]",
      "text/html": "<div>\n<style scoped>\n    .dataframe tbody tr th:only-of-type {\n        vertical-align: middle;\n    }\n\n    .dataframe tbody tr th {\n        vertical-align: top;\n    }\n\n    .dataframe thead th {\n        text-align: right;\n    }\n</style>\n<table border=\"1\" class=\"dataframe\">\n  <thead>\n    <tr style=\"text-align: right;\">\n      <th></th>\n      <th>pid</th>\n      <th>ER30001</th>\n      <th>ER30002</th>\n      <th>ER30000</th>\n      <th>ER33601</th>\n      <th>ER33701</th>\n      <th>ER33801</th>\n      <th>ER33901</th>\n      <th>ER34001</th>\n      <th>ER34101</th>\n      <th>...</th>\n      <th>ER46502</th>\n      <th>ER51863</th>\n      <th>ER57603</th>\n      <th>ER51957</th>\n      <th>ER57713</th>\n      <th>ER64873</th>\n      <th>ER27446</th>\n      <th>ER40618</th>\n      <th>ER46596</th>\n      <th>ER23478</th>\n    </tr>\n  </thead>\n  <tbody>\n    <tr>\n      <th>0</th>\n      <td>7</td>\n      <td>4</td>\n      <td>3</td>\n      <td>3</td>\n      <td>96</td>\n      <td>1392</td>\n      <td>289</td>\n      <td>148</td>\n      <td>13</td>\n      <td>218</td>\n      <td>...</td>\n      <td>832.0</td>\n      <td>832.0</td>\n      <td>NaN</td>\n      <td>936.0</td>\n      <td>NaN</td>\n      <td>NaN</td>\n      <td>936.0</td>\n      <td>936.0</td>\n      <td>936.0</td>\n      <td>936.0</td>\n    </tr>\n    <tr>\n      <th>1</th>\n      <td>8</td>\n      <td>4</td>\n      <td>4</td>\n      <td>3</td>\n      <td>5987</td>\n      <td>6278</td>\n      <td>2356</td>\n      <td>5399</td>\n      <td>1827</td>\n      <td>8397</td>\n      <td>...</td>\n      <td>0.0</td>\n      <td>0.0</td>\n      <td>0.0</td>\n      <td>516.0</td>\n      <td>516.0</td>\n      <td>NaN</td>\n      <td>516.0</td>\n      <td>516.0</td>\n      <td>516.0</td>\n      <td>516.0</td>\n    </tr>\n    <tr>\n      <th>2</th>\n      <td>9</td>\n      <td>4</td>\n      <td>5</td>\n      <td>3</td>\n      <td>6872</td>\n      <td>7782</td>\n      <td>0</td>\n      <td>0</td>\n      <td>0</td>\n      <td>0</td>\n      <td>...</td>\n      <td>NaN</td>\n      <td>NaN</td>\n      <td>NaN</td>\n      <td>NaN</td>\n      <td>NaN</td>\n      <td>NaN</td>\n      <td>NaN</td>\n      <td>NaN</td>\n      <td>NaN</td>\n      <td>742.0</td>\n    </tr>\n    <tr>\n      <th>3</th>\n      <td>10</td>\n      <td>4</td>\n      <td>6</td>\n      <td>3</td>\n      <td>5599</td>\n      <td>4812</td>\n      <td>4097</td>\n      <td>720</td>\n      <td>1840</td>\n      <td>2541</td>\n      <td>...</td>\n      <td>0.0</td>\n      <td>0.0</td>\n      <td>0.0</td>\n      <td>476.0</td>\n      <td>476.0</td>\n      <td>476.0</td>\n      <td>476.0</td>\n      <td>476.0</td>\n      <td>476.0</td>\n      <td>476.0</td>\n    </tr>\n    <tr>\n      <th>4</th>\n      <td>11</td>\n      <td>4</td>\n      <td>7</td>\n      <td>3</td>\n      <td>7091</td>\n      <td>0</td>\n      <td>6880</td>\n      <td>0</td>\n      <td>1840</td>\n      <td>2541</td>\n      <td>...</td>\n      <td>0.0</td>\n      <td>0.0</td>\n      <td>0.0</td>\n      <td>476.0</td>\n      <td>476.0</td>\n      <td>476.0</td>\n      <td>832.0</td>\n      <td>NaN</td>\n      <td>476.0</td>\n      <td>NaN</td>\n    </tr>\n  </tbody>\n</table>\n<p>5 rows × 688 columns</p>\n</div>"
     },
     "execution_count": 11,
     "metadata": {},
     "output_type": "execute_result"
    }
   ],
   "source": [
    "# Re-order the data dictionary\n",
    "mdf_sel = mdf[mdf.name.isin(df.columns)].sort_values(['category', 'label', 'year'])\n",
    "\n",
    "is_init = mdf_sel['name'].isin(init_cols)\n",
    "is_si = mdf_sel.category == 'SURVEY INFORMATION'\n",
    "\n",
    "a = mdf_sel.loc[ is_init ]\n",
    "b = mdf_sel.loc[~is_init &  is_si]\n",
    "c = mdf_sel.loc[~is_init & ~is_si]\n",
    "\n",
    "mdf_sel = pd.concat([a,b,c])\n",
    "\n",
    "display(mdf_sel)\n",
    "\n",
    "st = pkg.resource('psid_ineq').schema_term\n",
    "df = update_schema(st, mdf_sel, df)\n",
    "\n",
    "df.head()\n"
   ],
   "metadata": {
    "collapsed": false
   }
  }
 ],
 "metadata": {
  "kernelspec": {
   "display_name": "Python 3 (ipykernel)",
   "language": "python",
   "name": "python3"
  },
  "language_info": {
   "codemirror_mode": {
    "name": "ipython",
    "version": 3
   },
   "file_extension": ".py",
   "mimetype": "text/x-python",
   "name": "python",
   "nbconvert_exporter": "python",
   "pygments_lexer": "ipython3",
   "version": "3.10.6"
  }
 },
 "nbformat": 4,
 "nbformat_minor": 4
}
