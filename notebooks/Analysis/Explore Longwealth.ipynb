{
 "cells": [
  {
   "cell_type": "code",
   "execution_count": 1,
   "outputs": [],
   "source": [
    "%load_ext autoreload\n",
    "%autoreload 2\n",
    "import seaborn as sns\n",
    "import metapack as mp\n",
    "import pandas as pd\n",
    "import numpy as np\n",
    "import matplotlib.pyplot as plt\n",
    "from IPython.display import display\n",
    "\n",
    "%matplotlib inline\n",
    "sns.set_context('notebook')\n",
    "mp.jupyter.init()\n"
   ],
   "metadata": {
    "collapsed": false
   }
  },
  {
   "cell_type": "code",
   "execution_count": 2,
   "outputs": [
    {
     "data": {
      "text/plain": "\n`isr.umich.edu-psid-inequality-3.2.1` Last Update: 2023-06-16T00:20:09\n\n__\n\n\n\n## Updating Data\n\nTo update the data, use the data extraction tool at the (PSID website. )[https://simba.isr.umich.edu/Cart/co.aspx], adding any new variables to your data cart. The (variable entry text box)[https://simba.isr.umich.edu/DC/l.aspx] is a handy way to copy the existing varibles into a new cart.  When you checkout your data cart, ( click on the cart icon ) fetch your dataset with these options: \n\n* Codebook Type: XML\n* Data output type: dBase Data File, create compressed file\n\nDownload the ZIP file ( you might have to recompress it if your browser unpacks it ) and move it into the ``data`` directory. Set the reference to the new ZIP file, then re-build the package.\n## Documentation Links\n\n* [PSID Homepage](https://psidonline.isr.umich.edu/default.aspx) \n\n \n\n## Contacts\n\n* **Wrangler** [Eric Busboom](mailto:eric@civicknowledge.com), [Civic Knowledge](http://civicknowledge.com)\n\n## Resources\n\n* **[variables](data/variables.csv)**. All PSID variables, with group infor for connecting variables across years.\n* **[cmp9919_labels](data/cmp9919_labels.csv)**. Categorical value labels\n* **[long_wealth_labels](data/long_wealth_labels.csv)**. Categorical value labels\n* **[cmp9919_dd](data/cmp9919_dd.csv)**. Data dictionary with information about variables in this collection, extracted from XML\n* **[long_wealth_dd](data/long_wealth_dd.csv)**. Data dictionary with information about variables in this collection, extracted from XML\n* **[cmp9919](data/cmp9919.csv)**. PSID, Inequality extract\n* **[long_wealth](data/long_wealth.csv)**. Longitudinal Wealth\n\n## References\n<ul><li> <strong><a href=\"https://fred.stlouisfed.org/graph/fredgraph.csv?&id=CPIAUCSL\">cpi</a></strong>. Consumer Price Index, from FRED series CPIAUCSL</li><li> <strong><a href=\"https://psidonline.isr.umich.edu/help/xyr/psid.xlsx\">variables</a></strong>. Variable descriptions, in a cross-year format.</li><li> <strong>cmp9919_source</string>, <em>data/J321148.zip</em>. Source file for comparing 1999 to 2019</li><li> <strong>long_wealth_source</string>, <em>data/J321388.zip</em>. Source data package for Longitudinal Wealth Study</li><ul>\n",
      "text/html": "<p><code>isr.umich.edu-psid-inequality-3.2.1</code> Last Update: 2023-06-16T00:20:09</p>\n<p>__</p>\n<h2>Updating Data</h2>\n<p>To update the data, use the data extraction tool at the (PSID website. )[https://simba.isr.umich.edu/Cart/co.aspx], adding any new variables to your data cart. The (variable entry text box)[https://simba.isr.umich.edu/DC/l.aspx] is a handy way to copy the existing varibles into a new cart.  When you checkout your data cart, ( click on the cart icon ) fetch your dataset with these options: </p>\n<ul>\n<li>Codebook Type: XML</li>\n<li>Data output type: dBase Data File, create compressed file</li>\n</ul>\n<p>Download the ZIP file ( you might have to recompress it if your browser unpacks it ) and move it into the <code>data</code> directory. Set the reference to the new ZIP file, then re-build the package.</p>\n<h2>Documentation Links</h2>\n<ul>\n<li><a href=\"https://psidonline.isr.umich.edu/default.aspx\">PSID Homepage</a> </li>\n</ul>\n<h2>Contacts</h2>\n<ul>\n<li><strong>Wrangler</strong> <a href=\"mailto:eric@civicknowledge.com\">Eric Busboom</a>, <a href=\"http://civicknowledge.com\">Civic Knowledge</a></li>\n</ul>\n<h2>Resources</h2>\n<ul>\n<li><strong><a href=\"data/variables.csv\">variables</a></strong>. All PSID variables, with group infor for connecting variables across years.</li>\n<li><strong><a href=\"data/cmp9919_labels.csv\">cmp9919_labels</a></strong>. Categorical value labels</li>\n<li><strong><a href=\"data/long_wealth_labels.csv\">long_wealth_labels</a></strong>. Categorical value labels</li>\n<li><strong><a href=\"data/cmp9919_dd.csv\">cmp9919_dd</a></strong>. Data dictionary with information about variables in this collection, extracted from XML</li>\n<li><strong><a href=\"data/long_wealth_dd.csv\">long_wealth_dd</a></strong>. Data dictionary with information about variables in this collection, extracted from XML</li>\n<li><strong><a href=\"data/cmp9919.csv\">cmp9919</a></strong>. PSID, Inequality extract</li>\n<li><strong><a href=\"data/long_wealth.csv\">long_wealth</a></strong>. Longitudinal Wealth</li>\n</ul>\n<h2>References</h2>\n<ul><li> <strong><a href=\"https://fred.stlouisfed.org/graph/fredgraph.csv?&id=CPIAUCSL\">cpi</a></strong>. Consumer Price Index, from FRED series CPIAUCSL</li><li> <strong><a href=\"https://psidonline.isr.umich.edu/help/xyr/psid.xlsx\">variables</a></strong>. Variable descriptions, in a cross-year format.</li><li> <strong>cmp9919_source</string>, <em>data/J321148.zip</em>. Source file for comparing 1999 to 2019</li><li> <strong>long_wealth_source</string>, <em>data/J321388.zip</em>. Source data package for Longitudinal Wealth Study</li><ul>"
     },
     "execution_count": 2,
     "metadata": {},
     "output_type": "execute_result"
    }
   ],
   "source": [
    "pkg = mp.jupyter.open_package()\n",
    "#pkg = mp.jupyter.open_source_package()\n",
    "pkg.set_sys_path()\n",
    "from pylib import *\n",
    "pkg"
   ],
   "metadata": {
    "collapsed": false
   }
  },
  {
   "cell_type": "code",
   "execution_count": 3,
   "outputs": [
    {
     "data": {
      "text/plain": "    pid  year race  er30001  er30002  er30000  er33501  er33503  er13001  \\\n0  4001  2001  NaN        4        1        3        0        0      NaN   \n1  4003  2001  1.0        4        3        3       96       10      6.0   \n2  4004  2001  1.0        4        4        3     5987       10      6.0   \n3  4006  2001  1.0        4        6        3     5599       22      6.0   \n4  4007  2001  1.0        4        7        3     7091       10      6.0   \n\n   er33502  ...  er16462  er16518     s405     s419     s420  s415     s411  \\\n0        0  ...      NaN      NaN      NaN      NaN      NaN   NaN      NaN   \n1        1  ...  50880.0   19.812     50.0      0.0  90000.0   0.0  15000.0   \n2        1  ...  50000.0   30.397  10000.0  35000.0  68000.0   0.0  10000.0   \n3        2  ...  92000.0   19.566   4000.0      0.0  13000.0   0.0      0.0   \n4        1  ...  55616.0   24.971  15000.0      0.0  17000.0   0.0      0.0   \n\n      s413      s417      s416  \n0      NaN       NaN       NaN  \n1   8000.0  113050.0   23050.0  \n2  20000.0  493000.0  425000.0  \n3   6000.0   23000.0   10000.0  \n4   9000.0   41000.0   24000.0  \n\n[5 rows x 68 columns]",
      "text/html": "<div>\n<style scoped>\n    .dataframe tbody tr th:only-of-type {\n        vertical-align: middle;\n    }\n\n    .dataframe tbody tr th {\n        vertical-align: top;\n    }\n\n    .dataframe thead th {\n        text-align: right;\n    }\n</style>\n<table border=\"1\" class=\"dataframe\">\n  <thead>\n    <tr style=\"text-align: right;\">\n      <th></th>\n      <th>pid</th>\n      <th>year</th>\n      <th>race</th>\n      <th>er30001</th>\n      <th>er30002</th>\n      <th>er30000</th>\n      <th>er33501</th>\n      <th>er33503</th>\n      <th>er13001</th>\n      <th>er33502</th>\n      <th>...</th>\n      <th>er16462</th>\n      <th>er16518</th>\n      <th>s405</th>\n      <th>s419</th>\n      <th>s420</th>\n      <th>s415</th>\n      <th>s411</th>\n      <th>s413</th>\n      <th>s417</th>\n      <th>s416</th>\n    </tr>\n  </thead>\n  <tbody>\n    <tr>\n      <th>0</th>\n      <td>4001</td>\n      <td>2001</td>\n      <td>NaN</td>\n      <td>4</td>\n      <td>1</td>\n      <td>3</td>\n      <td>0</td>\n      <td>0</td>\n      <td>NaN</td>\n      <td>0</td>\n      <td>...</td>\n      <td>NaN</td>\n      <td>NaN</td>\n      <td>NaN</td>\n      <td>NaN</td>\n      <td>NaN</td>\n      <td>NaN</td>\n      <td>NaN</td>\n      <td>NaN</td>\n      <td>NaN</td>\n      <td>NaN</td>\n    </tr>\n    <tr>\n      <th>1</th>\n      <td>4003</td>\n      <td>2001</td>\n      <td>1.0</td>\n      <td>4</td>\n      <td>3</td>\n      <td>3</td>\n      <td>96</td>\n      <td>10</td>\n      <td>6.0</td>\n      <td>1</td>\n      <td>...</td>\n      <td>50880.0</td>\n      <td>19.812</td>\n      <td>50.0</td>\n      <td>0.0</td>\n      <td>90000.0</td>\n      <td>0.0</td>\n      <td>15000.0</td>\n      <td>8000.0</td>\n      <td>113050.0</td>\n      <td>23050.0</td>\n    </tr>\n    <tr>\n      <th>2</th>\n      <td>4004</td>\n      <td>2001</td>\n      <td>1.0</td>\n      <td>4</td>\n      <td>4</td>\n      <td>3</td>\n      <td>5987</td>\n      <td>10</td>\n      <td>6.0</td>\n      <td>1</td>\n      <td>...</td>\n      <td>50000.0</td>\n      <td>30.397</td>\n      <td>10000.0</td>\n      <td>35000.0</td>\n      <td>68000.0</td>\n      <td>0.0</td>\n      <td>10000.0</td>\n      <td>20000.0</td>\n      <td>493000.0</td>\n      <td>425000.0</td>\n    </tr>\n    <tr>\n      <th>3</th>\n      <td>4006</td>\n      <td>2001</td>\n      <td>1.0</td>\n      <td>4</td>\n      <td>6</td>\n      <td>3</td>\n      <td>5599</td>\n      <td>22</td>\n      <td>6.0</td>\n      <td>2</td>\n      <td>...</td>\n      <td>92000.0</td>\n      <td>19.566</td>\n      <td>4000.0</td>\n      <td>0.0</td>\n      <td>13000.0</td>\n      <td>0.0</td>\n      <td>0.0</td>\n      <td>6000.0</td>\n      <td>23000.0</td>\n      <td>10000.0</td>\n    </tr>\n    <tr>\n      <th>4</th>\n      <td>4007</td>\n      <td>2001</td>\n      <td>1.0</td>\n      <td>4</td>\n      <td>7</td>\n      <td>3</td>\n      <td>7091</td>\n      <td>10</td>\n      <td>6.0</td>\n      <td>1</td>\n      <td>...</td>\n      <td>55616.0</td>\n      <td>24.971</td>\n      <td>15000.0</td>\n      <td>0.0</td>\n      <td>17000.0</td>\n      <td>0.0</td>\n      <td>0.0</td>\n      <td>9000.0</td>\n      <td>41000.0</td>\n      <td>24000.0</td>\n    </tr>\n  </tbody>\n</table>\n<p>5 rows × 68 columns</p>\n</div>"
     },
     "execution_count": 3,
     "metadata": {},
     "output_type": "execute_result"
    }
   ],
   "source": [
    "r = pkg.resource('long_wealth')\n",
    "df = pkg.resource('long_wealth').dataframe()\n",
    "df.head()"
   ],
   "metadata": {
    "collapsed": false
   }
  },
  {
   "cell_type": "code",
   "execution_count": 4,
   "outputs": [
    {
     "data": {
      "text/plain": "                                                         241\ntype                                              INDIVIDUAL\ncategory                                           EDUCATION\ntext       01>EDUCATION:\\n02>Completed Education\\n03>grad...\nhead_wife                                                NaN\nvar_count                                                 40\ngroup                                                     64\nyear                                                    2001\nname                                                 ER33616\npath       /education:/completed education/grades completed:",
      "text/html": "<div>\n<style scoped>\n    .dataframe tbody tr th:only-of-type {\n        vertical-align: middle;\n    }\n\n    .dataframe tbody tr th {\n        vertical-align: top;\n    }\n\n    .dataframe thead th {\n        text-align: right;\n    }\n</style>\n<table border=\"1\" class=\"dataframe\">\n  <thead>\n    <tr style=\"text-align: right;\">\n      <th></th>\n      <th>241</th>\n    </tr>\n  </thead>\n  <tbody>\n    <tr>\n      <th>type</th>\n      <td>INDIVIDUAL</td>\n    </tr>\n    <tr>\n      <th>category</th>\n      <td>EDUCATION</td>\n    </tr>\n    <tr>\n      <th>text</th>\n      <td>01&gt;EDUCATION:\\n02&gt;Completed Education\\n03&gt;grad...</td>\n    </tr>\n    <tr>\n      <th>head_wife</th>\n      <td>NaN</td>\n    </tr>\n    <tr>\n      <th>var_count</th>\n      <td>40</td>\n    </tr>\n    <tr>\n      <th>group</th>\n      <td>64</td>\n    </tr>\n    <tr>\n      <th>year</th>\n      <td>2001</td>\n    </tr>\n    <tr>\n      <th>name</th>\n      <td>ER33616</td>\n    </tr>\n    <tr>\n      <th>path</th>\n      <td>/education:/completed education/grades completed:</td>\n    </tr>\n  </tbody>\n</table>\n</div>"
     },
     "execution_count": 4,
     "metadata": {},
     "output_type": "execute_result"
    }
   ],
   "source": [
    "m = Metadata(r)\n",
    "m.lookup('ER33616').T"
   ],
   "metadata": {
    "collapsed": false
   }
  },
  {
   "cell_type": "code",
   "execution_count": 27,
   "outputs": [],
   "source": [
    "r = pkg.resource('long_wealth')\n",
    "cat = r.cat\n",
    "\n",
    "# These have missing/imputed values that make them categories, but they really should be numeric\n",
    "non_cats = ['ER16515B3', 'ER16515B2', 'ER16515B5', 'ER16515B4',\n",
    "            'S405', 'S419', 'S420', 'S415', 'S411', 'S413', 'S417', 'S416' ]\n",
    "\n",
    "non_cats = [c.lower() for c in non_cats]\n",
    "\n",
    "for c in non_cats:\n",
    "    try:\n",
    "        cat.remove(c)\n",
    "    except KeyError:\n",
    "        print(\"Can't remove \", c, \" from cat\")\n",
    "\n",
    "    if not c.startswith('S'):\n",
    "        df[c] = df[c].replace( { 9999999.0: np.nan } )\n",
    "\n",
    "df['married'] = (df.er33507 != 0)\n",
    "\n",
    "\n",
    "dfc = cat.to_categorical(df)\n"
   ],
   "metadata": {
    "collapsed": false
   }
  },
  {
   "cell_type": "code",
   "execution_count": 28,
   "outputs": [],
   "source": [
    "# Calculate the sum of all expenditures\n",
    "\n",
    "# Exclude some to avoid double counts.\n",
    "excludes = ['er16515a2', 'er16515a3', 'er16515a4', # components of food\n",
    "            'er16515a6' # mortgage, component of housing\n",
    "\n",
    "            ]\n",
    "\n",
    "exp_cols = [c['name'] for c in r.columns() if c['category'] == 'EXPENDITURES' and c['name'] not in excludes ]\n",
    "dfc['exp'] = dfc[exp_cols].sum(axis=1) # df categorized\n",
    "\n"
   ],
   "metadata": {
    "collapsed": false
   }
  },
  {
   "cell_type": "code",
   "execution_count": 28,
   "outputs": [],
   "source": [],
   "metadata": {
    "collapsed": false
   }
  },
  {
   "cell_type": "code",
   "execution_count": 35,
   "outputs": [],
   "source": [
    "col_map = {\n",
    "\n",
    "    'er30001':'1968_interview_number',\n",
    "    'er30002':'person_number',\n",
    "    'er30000':'release_number',\n",
    "\n",
    "    'er13001': 'release_number',\n",
    "    'er13009': 'num_in_fu',\n",
    "    'er13010': 'age_of_head',\n",
    "    'er13011': 'sex_of_head',\n",
    "    'er13012': 'age_of_wife',\n",
    "    'er13013': 'num_children_in_fu',\n",
    "    'er13041': 'house_value',\n",
    "    'er15928': 'race_of_head_1',\n",
    "    'er15929': 'race_of_head_2',\n",
    "    'er15930': 'race_of_head_3',\n",
    "    'er15931': 'race_of_head_4',\n",
    "    'er16462': 'total_family_income',\n",
    "\n",
    "    's420': 'home_equity',\n",
    "    's416': 'wealth_wo_equity',\n",
    "    's417': 'wealth_w_equity',\n",
    "    'er33501': 'interview_number',\n",
    "    'er33502': 'sequence_number',\n",
    "    'er33503': 'relation_to_head',\n",
    "    'er33507': 'marital_pairs_indicator',\n",
    "    'er33516': 'years_completed_education',\n",
    "\n",
    "    'er16519': 'family_weight_cs', # Cross-sectional family weight\n",
    "    'er16518':'family_weight',\n",
    "\n",
    "    'er15836':'k34_87_race_of_wife_1',\n",
    "    'er15837':'k34_87_race_of_wife_2',\n",
    "    'er15838':'k34_87_race_of_wife_3',\n",
    "    'er15839':'k34_87_race_of_wife_4',\n",
    "\n",
    "    'er16515a1': 'food_expenditure',\n",
    "    'er16515a2': 'food_at_home_expenditure',\n",
    "    'er16515a3': 'food_away_from_home_expenditure',\n",
    "    'er16515a4': 'food_delivered_expenditure',\n",
    "    'er16515a5': 'housing_expenditure',\n",
    "    'er16515a6': 'mortgage_expenditure',\n",
    "    'er16515b6': 'transportation_expenditure',\n",
    "    'er16515b7': 'vehicle_loan_payment_expenditure',\n",
    "    'er16515b9': 'vehicle_lease_payment_expenditure',\n",
    "    'er16515c9': 'education_expenditure',\n",
    "    'er16515d1': 'childcare_expenditure',\n",
    "    'er16515c2':'additional_vehicle_expenditure',\n",
    "    'er16515c1':'auto_insurance_expenditure',\n",
    "    'er16515c6':'bus_train_expenditure',\n",
    "    'er16515d4':'doctor_expenditure_1998',\n",
    "    'er16515b3':'electricity_expenditure',\n",
    "    'er16515b2':'gas_for_home_expenditure',\n",
    "    'er16515c4':'gasoline_expenditure',\n",
    "    'er16515d2':'health_care_expenditure',\n",
    "    'er16515d6':'health_insurance_expenditure',\n",
    "    'er16515a9':'home_insurance_expenditure',\n",
    "    'er16515d3':'hospital_nursing_home_expenditure_1998',\n",
    "    'er16515c8':'other_transportation_expenditure',\n",
    "    'er16515b5':'other_utility__expenditure',\n",
    "    'er16515c5':'parking_expenditure',\n",
    "    'er16515d5':'prescriptions_other_expenditure_1998',\n",
    "    'er16515a8':'property_tax_expenditure',\n",
    "    'er16515a7':'rent_expenditure',\n",
    "    'er16515c7':'taxicab_expenditure',\n",
    "    'er16515b1':'utility_expenditure',\n",
    "    'er16515b8':'vehicle_down_payment_expenditure',\n",
    "    'er16515c3':'vehicle_repair_expenditure',\n",
    "    'er16515b4':'water_sewer_expenditure'\n",
    "\n",
    "}\n",
    "\n",
    "cmap = { c['name']:c for c in r.columns() }\n",
    "\n",
    "for c in dfc.rename(columns=col_map).columns:\n",
    "    if  c.startswith('er'):\n",
    "        print(f\"'{c}':'{cmap[c]['label'].replace('/','_').replace(' ','_').replace('_1999','').lower()}',\")\n",
    "\n",
    "dfm = dfc.rename(columns=col_map) # df mapped"
   ],
   "metadata": {
    "collapsed": false
   }
  },
  {
   "cell_type": "code",
   "execution_count": 36,
   "outputs": [],
   "source": [
    "cats = dfm.relation_to_head.cat.categories.to_list()\n",
    "cats[0] = 'na'\n",
    "cats[1] = 'head'\n",
    "cats[2] = 'wife'\n",
    "cats[3] = 'chwife'\n",
    "cats[4] = 'child_of_head'\n",
    "\n",
    "dfm['relation_to_head'] = dfm.relation_to_head.cat.rename_categories(cats)\n",
    "\n",
    "dfm['nonmort_housing_expenditure'] = dfm.housing_expenditure - dfm.mortgage_expenditure\n",
    "\n"
   ],
   "metadata": {
    "collapsed": false
   }
  },
  {
   "cell_type": "code",
   "execution_count": 37,
   "outputs": [
    {
     "data": {
      "text/plain": "(31510, 71)"
     },
     "execution_count": 37,
     "metadata": {},
     "output_type": "execute_result"
    }
   ],
   "source": [
    "# Remove the records with an inconsistent head of family and fewer than 9 income observations\n",
    "\n",
    "t = dfm[(dfm.relation_to_head == 'head')].dropna(subset=['total_family_income','race'])\n",
    "t = t.groupby('pid').total_family_income.count()\n",
    "valid_pids = t[t==10].index.to_list() # For now, us 10 so we don't have to interpolate\n",
    "\n",
    "dfh = dfm[(dfm.pid.isin(valid_pids))]\n",
    "\n",
    "dfh.shape"
   ],
   "metadata": {
    "collapsed": false
   }
  },
  {
   "cell_type": "code",
   "execution_count": 38,
   "outputs": [],
   "source": [
    "# Add in CPI to adjust for inflation\n",
    "cpi = pkg.reference('cpi').dataframe()\n",
    "cpi.columns = ['date','cpi']\n",
    "cpi['date'] = pd.to_datetime(cpi.date)\n",
    "cpi.date = pd.to_datetime(cpi.date)\n",
    "cpi = cpi.groupby(cpi.date.dt.year).mean(numeric_only=True).reset_index().rename(columns={'date':'year'})\n",
    "\n",
    "cpi = cpi[cpi.year <= dfh.year.max()] # So cpi.max() uses the last year of the dataset\n",
    "\n",
    "cpi['cpi_current'] = cpi.cpi.max()/cpi.cpi\n",
    "\n",
    "dfh = dfh.merge(cpi,how='left',on='year')"
   ],
   "metadata": {
    "collapsed": false
   }
  },
  {
   "cell_type": "code",
   "execution_count": 207,
   "outputs": [],
   "source": [
    "dfe  = dfh[['pid','year','race','age_of_head', 'num_children_in_fu', 'married',\n",
    "            'total_family_income','exp','home_equity','wealth_w_equity','wealth_wo_equity',\n",
    "            'housing_expenditure', 'nonmort_housing_expenditure', 'mortgage_expenditure',\n",
    "            'cpi_current','family_weight'\n",
    "            ]].copy().sort_values(['pid','year'])\n",
    "\n",
    "dfe['race'] = dfe.race.astype(str) # So we can drop all by black/white, and the other groups wont show ur after groupby\n"
   ],
   "metadata": {
    "collapsed": false
   }
  },
  {
   "cell_type": "code",
   "execution_count": 208,
   "outputs": [],
   "source": [
    "cpi_cols = ['total_family_income','exp','home_equity','wealth_w_equity',  'wealth_wo_equity',\n",
    "            'nonmort_housing_expenditure', 'mortgage_expenditure']\n",
    "\n",
    "dfe[cpi_cols] = dfe[cpi_cols].multiply(dfe.cpi_current,axis=0).astype(int).copy()\n",
    "\n",
    "dfe = dfe[dfe.race.isin(['white','black'])]"
   ],
   "metadata": {
    "collapsed": false
   }
  },
  {
   "cell_type": "code",
   "execution_count": 210,
   "outputs": [
    {
     "data": {
      "text/plain": "race                             black                 white           \nmarried                          False      True       False      True \npid                          5683003.0  5635031.0  1577031.0  1579031.0\nyear                            2011.0     2009.0     2011.0     2009.0\nage_of_head                       49.0       50.0       54.0       52.0\nnum_children_in_fu                 0.0        1.0        0.0        0.0\ntotal_family_income            29591.0    77677.0    43641.0   102239.0\nexp                            38892.0    72430.0    43181.0    82934.5\nhome_equity                        0.0    32923.0     6472.0   104739.0\nwealth_w_equity                 5545.0    64142.0    49207.5   232998.5\nwealth_wo_equity                1444.0    17259.0    16582.5    87795.0\nhousing_expenditure             9036.0    15383.0     9420.0    18060.0\nnonmort_housing_expenditure     9206.0    12206.0     8838.5    12616.0\nmortgage_expenditure               0.0     5200.0        0.0     7767.0\ncpi_current                   1.136619    1.19149   1.136619    1.19149\nfamily_weight                    6.339       3.89     49.567    27.1765",
      "text/html": "<div>\n<style scoped>\n    .dataframe tbody tr th:only-of-type {\n        vertical-align: middle;\n    }\n\n    .dataframe tbody tr th {\n        vertical-align: top;\n    }\n\n    .dataframe thead tr th {\n        text-align: left;\n    }\n</style>\n<table border=\"1\" class=\"dataframe\">\n  <thead>\n    <tr>\n      <th>race</th>\n      <th colspan=\"2\" halign=\"left\">black</th>\n      <th colspan=\"2\" halign=\"left\">white</th>\n    </tr>\n    <tr>\n      <th>married</th>\n      <th>False</th>\n      <th>True</th>\n      <th>False</th>\n      <th>True</th>\n    </tr>\n  </thead>\n  <tbody>\n    <tr>\n      <th>pid</th>\n      <td>5683003.0</td>\n      <td>5635031.0</td>\n      <td>1577031.0</td>\n      <td>1579031.0</td>\n    </tr>\n    <tr>\n      <th>year</th>\n      <td>2011.0</td>\n      <td>2009.0</td>\n      <td>2011.0</td>\n      <td>2009.0</td>\n    </tr>\n    <tr>\n      <th>age_of_head</th>\n      <td>49.0</td>\n      <td>50.0</td>\n      <td>54.0</td>\n      <td>52.0</td>\n    </tr>\n    <tr>\n      <th>num_children_in_fu</th>\n      <td>0.0</td>\n      <td>1.0</td>\n      <td>0.0</td>\n      <td>0.0</td>\n    </tr>\n    <tr>\n      <th>total_family_income</th>\n      <td>29591.0</td>\n      <td>77677.0</td>\n      <td>43641.0</td>\n      <td>102239.0</td>\n    </tr>\n    <tr>\n      <th>exp</th>\n      <td>38892.0</td>\n      <td>72430.0</td>\n      <td>43181.0</td>\n      <td>82934.5</td>\n    </tr>\n    <tr>\n      <th>home_equity</th>\n      <td>0.0</td>\n      <td>32923.0</td>\n      <td>6472.0</td>\n      <td>104739.0</td>\n    </tr>\n    <tr>\n      <th>wealth_w_equity</th>\n      <td>5545.0</td>\n      <td>64142.0</td>\n      <td>49207.5</td>\n      <td>232998.5</td>\n    </tr>\n    <tr>\n      <th>wealth_wo_equity</th>\n      <td>1444.0</td>\n      <td>17259.0</td>\n      <td>16582.5</td>\n      <td>87795.0</td>\n    </tr>\n    <tr>\n      <th>housing_expenditure</th>\n      <td>9036.0</td>\n      <td>15383.0</td>\n      <td>9420.0</td>\n      <td>18060.0</td>\n    </tr>\n    <tr>\n      <th>nonmort_housing_expenditure</th>\n      <td>9206.0</td>\n      <td>12206.0</td>\n      <td>8838.5</td>\n      <td>12616.0</td>\n    </tr>\n    <tr>\n      <th>mortgage_expenditure</th>\n      <td>0.0</td>\n      <td>5200.0</td>\n      <td>0.0</td>\n      <td>7767.0</td>\n    </tr>\n    <tr>\n      <th>cpi_current</th>\n      <td>1.136619</td>\n      <td>1.19149</td>\n      <td>1.136619</td>\n      <td>1.19149</td>\n    </tr>\n    <tr>\n      <th>family_weight</th>\n      <td>6.339</td>\n      <td>3.89</td>\n      <td>49.567</td>\n      <td>27.1765</td>\n    </tr>\n  </tbody>\n</table>\n</div>"
     },
     "execution_count": 210,
     "metadata": {},
     "output_type": "execute_result"
    }
   ],
   "source": [
    "dfe.groupby(['race','married']).median().T"
   ],
   "metadata": {
    "collapsed": false
   }
  },
  {
   "cell_type": "code",
   "execution_count": 252,
   "outputs": [],
   "source": [
    "# Columns where we will compute a difference between the first and last year\n",
    "diff_cols = ['home_equity','wealth_w_equity',  'wealth_wo_equity']\n",
    "\n",
    "# Columns where we will sum the values\n",
    "sum_cols = ['total_family_income','exp','housing_expenditure', 'nonmort_housing_expenditure', 'mortgage_expenditure']\n",
    "\n",
    "def compile(x):\n",
    "    return pd.concat([\n",
    "        pd.Series({'age':x.age_of_head.mean(),\n",
    "                   'race': x.race.mode()[0],\n",
    "                   'years_married':x.married.sum(), # Number of years married\n",
    "                   'num_children':x.num_children_in_fu.mean()}),\n",
    "\n",
    "        x[sum_cols].sum() * 2, # x2 because we only have samples for 1/2 of the years\n",
    "        (x[diff_cols].iloc[-1] - x[diff_cols].iloc[0])\n",
    "\n",
    "    ])\n",
    "\n",
    "sumry = dfe[dfe.race.isin(['black','white'])].groupby('pid').apply(compile)"
   ],
   "metadata": {
    "collapsed": false
   }
  },
  {
   "cell_type": "code",
   "execution_count": 253,
   "outputs": [],
   "source": [
    "sumry['income_q'] = pd.qcut(sumry.total_family_income, 10, labels=False, duplicates='drop')\n",
    "sumry['home_eq_q'] = pd.qcut(sumry.home_equity, 10, labels=False, duplicates='drop')\n",
    "sumry['wealth_w_equity_q'] = pd.qcut(sumry.wealth_w_equity, 10, labels=False, duplicates='drop')\n",
    "\n",
    "sumry['married'] = sumry.years_married.apply(lambda x: 'none' if x == 0 else  'all' if x == 10 else 'some')\n"
   ],
   "metadata": {
    "collapsed": false
   }
  },
  {
   "cell_type": "code",
   "execution_count": 260,
   "outputs": [
    {
     "data": {
      "text/plain": "           pid  year   race  age_of_head  num_children_in_fu  married  \\\n10942  2138003  2007  white         55.0                 0.0     True   \n31215  6156181  2019  white         56.0                 0.0    False   \n14750  3156001  2009  white         41.0                 2.0     True   \n17054  1878170  2011  white         67.0                 0.0     True   \n20055  1682032  2013  white         44.0                 2.0     True   \n2798   5995005  2001  black         36.0                 2.0    False   \n7753   2075032  2005  black         25.0                 0.0    False   \n21792  6200170  2013  black         60.0                 0.0     True   \n27268  2893173  2017  white         68.0                 0.0     True   \n21942  6605012  2013  black         52.0                 0.0    False   \n\n       total_family_income     exp  home_equity  wealth_w_equity  \\\n10942               206154  101501       305779           478397   \n31215                14109   25520            0           -14997   \n14750               124510  149858       212085           317889   \n17054                70697   62861        79563           536938   \n20055               172320  140648        76821            87795   \n2798                 25767   37761            0             3898   \n7753                 19998   34465            0           -26184   \n21792               158471   89090       274361           317161   \n27268                75823  102877       417184         12137981   \n21942                 2524    1079            0                0   \n\n       wealth_wo_equity  housing_expenditure  nonmort_housing_expenditure  \\\n10942            172617              36580.0                        19333   \n31215            -14997              10248.0                        10248   \n14750            105804              48394.0                        12474   \n17054            457375              20230.0                         6285   \n20055             10974              50980.0                        35315   \n2798               3898               6000.0                         8664   \n7753             -26184               9485.0                        12418   \n21792             42800              21000.0                        23046   \n27268          11720796              34280.0                        35752   \n21942                 0                192.0                          210   \n\n       mortgage_expenditure  cpi_current  family_weight  \n10942                 25769     1.232982         29.377  \n31215                     0     1.000000          0.245  \n14750                 45186     1.191490         26.591  \n17054                 16708     1.136619         41.371  \n20055                 20631     1.097445         10.342  \n2798                      0     1.444020          4.707  \n7753                      0     1.309244          0.852  \n21792                     0     1.097445          1.538  \n27268                     0     1.042961         31.319  \n21942                     0     1.097445          3.017  ",
      "text/html": "<div>\n<style scoped>\n    .dataframe tbody tr th:only-of-type {\n        vertical-align: middle;\n    }\n\n    .dataframe tbody tr th {\n        vertical-align: top;\n    }\n\n    .dataframe thead th {\n        text-align: right;\n    }\n</style>\n<table border=\"1\" class=\"dataframe\">\n  <thead>\n    <tr style=\"text-align: right;\">\n      <th></th>\n      <th>pid</th>\n      <th>year</th>\n      <th>race</th>\n      <th>age_of_head</th>\n      <th>num_children_in_fu</th>\n      <th>married</th>\n      <th>total_family_income</th>\n      <th>exp</th>\n      <th>home_equity</th>\n      <th>wealth_w_equity</th>\n      <th>wealth_wo_equity</th>\n      <th>housing_expenditure</th>\n      <th>nonmort_housing_expenditure</th>\n      <th>mortgage_expenditure</th>\n      <th>cpi_current</th>\n      <th>family_weight</th>\n    </tr>\n  </thead>\n  <tbody>\n    <tr>\n      <th>10942</th>\n      <td>2138003</td>\n      <td>2007</td>\n      <td>white</td>\n      <td>55.0</td>\n      <td>0.0</td>\n      <td>True</td>\n      <td>206154</td>\n      <td>101501</td>\n      <td>305779</td>\n      <td>478397</td>\n      <td>172617</td>\n      <td>36580.0</td>\n      <td>19333</td>\n      <td>25769</td>\n      <td>1.232982</td>\n      <td>29.377</td>\n    </tr>\n    <tr>\n      <th>31215</th>\n      <td>6156181</td>\n      <td>2019</td>\n      <td>white</td>\n      <td>56.0</td>\n      <td>0.0</td>\n      <td>False</td>\n      <td>14109</td>\n      <td>25520</td>\n      <td>0</td>\n      <td>-14997</td>\n      <td>-14997</td>\n      <td>10248.0</td>\n      <td>10248</td>\n      <td>0</td>\n      <td>1.000000</td>\n      <td>0.245</td>\n    </tr>\n    <tr>\n      <th>14750</th>\n      <td>3156001</td>\n      <td>2009</td>\n      <td>white</td>\n      <td>41.0</td>\n      <td>2.0</td>\n      <td>True</td>\n      <td>124510</td>\n      <td>149858</td>\n      <td>212085</td>\n      <td>317889</td>\n      <td>105804</td>\n      <td>48394.0</td>\n      <td>12474</td>\n      <td>45186</td>\n      <td>1.191490</td>\n      <td>26.591</td>\n    </tr>\n    <tr>\n      <th>17054</th>\n      <td>1878170</td>\n      <td>2011</td>\n      <td>white</td>\n      <td>67.0</td>\n      <td>0.0</td>\n      <td>True</td>\n      <td>70697</td>\n      <td>62861</td>\n      <td>79563</td>\n      <td>536938</td>\n      <td>457375</td>\n      <td>20230.0</td>\n      <td>6285</td>\n      <td>16708</td>\n      <td>1.136619</td>\n      <td>41.371</td>\n    </tr>\n    <tr>\n      <th>20055</th>\n      <td>1682032</td>\n      <td>2013</td>\n      <td>white</td>\n      <td>44.0</td>\n      <td>2.0</td>\n      <td>True</td>\n      <td>172320</td>\n      <td>140648</td>\n      <td>76821</td>\n      <td>87795</td>\n      <td>10974</td>\n      <td>50980.0</td>\n      <td>35315</td>\n      <td>20631</td>\n      <td>1.097445</td>\n      <td>10.342</td>\n    </tr>\n    <tr>\n      <th>2798</th>\n      <td>5995005</td>\n      <td>2001</td>\n      <td>black</td>\n      <td>36.0</td>\n      <td>2.0</td>\n      <td>False</td>\n      <td>25767</td>\n      <td>37761</td>\n      <td>0</td>\n      <td>3898</td>\n      <td>3898</td>\n      <td>6000.0</td>\n      <td>8664</td>\n      <td>0</td>\n      <td>1.444020</td>\n      <td>4.707</td>\n    </tr>\n    <tr>\n      <th>7753</th>\n      <td>2075032</td>\n      <td>2005</td>\n      <td>black</td>\n      <td>25.0</td>\n      <td>0.0</td>\n      <td>False</td>\n      <td>19998</td>\n      <td>34465</td>\n      <td>0</td>\n      <td>-26184</td>\n      <td>-26184</td>\n      <td>9485.0</td>\n      <td>12418</td>\n      <td>0</td>\n      <td>1.309244</td>\n      <td>0.852</td>\n    </tr>\n    <tr>\n      <th>21792</th>\n      <td>6200170</td>\n      <td>2013</td>\n      <td>black</td>\n      <td>60.0</td>\n      <td>0.0</td>\n      <td>True</td>\n      <td>158471</td>\n      <td>89090</td>\n      <td>274361</td>\n      <td>317161</td>\n      <td>42800</td>\n      <td>21000.0</td>\n      <td>23046</td>\n      <td>0</td>\n      <td>1.097445</td>\n      <td>1.538</td>\n    </tr>\n    <tr>\n      <th>27268</th>\n      <td>2893173</td>\n      <td>2017</td>\n      <td>white</td>\n      <td>68.0</td>\n      <td>0.0</td>\n      <td>True</td>\n      <td>75823</td>\n      <td>102877</td>\n      <td>417184</td>\n      <td>12137981</td>\n      <td>11720796</td>\n      <td>34280.0</td>\n      <td>35752</td>\n      <td>0</td>\n      <td>1.042961</td>\n      <td>31.319</td>\n    </tr>\n    <tr>\n      <th>21942</th>\n      <td>6605012</td>\n      <td>2013</td>\n      <td>black</td>\n      <td>52.0</td>\n      <td>0.0</td>\n      <td>False</td>\n      <td>2524</td>\n      <td>1079</td>\n      <td>0</td>\n      <td>0</td>\n      <td>0</td>\n      <td>192.0</td>\n      <td>210</td>\n      <td>0</td>\n      <td>1.097445</td>\n      <td>3.017</td>\n    </tr>\n  </tbody>\n</table>\n</div>"
     },
     "execution_count": 260,
     "metadata": {},
     "output_type": "execute_result"
    }
   ],
   "source": [
    "dfe.sample(10)"
   ],
   "metadata": {
    "collapsed": false
   }
  },
  {
   "cell_type": "code",
   "execution_count": 261,
   "outputs": [
    {
     "data": {
      "text/plain": "           pid  year   race  age_of_head  num_children_in_fu  married  \\\n1149   1682032  2001  white         32.0                 0.0    False   \n4300   1682032  2003  white         34.0                 0.0     True   \n7451   1682032  2005  white         36.0                 1.0     True   \n10602  1682032  2007  white         38.0                 2.0     True   \n13753  1682032  2009  white         40.0                 2.0     True   \n16904  1682032  2011  white         42.0                 2.0     True   \n20055  1682032  2013  white         44.0                 2.0     True   \n23206  1682032  2015  white         46.0                 2.0     True   \n26357  1682032  2017  white         48.0                 2.0     True   \n29508  1682032  2019  white         50.0                 2.0     True   \n\n       total_family_income     exp  home_equity  wealth_w_equity  \\\n1149                 60648   53729            0           -18772   \n4300                146860  101592        52797            13894   \n7451                148625  136008        85100            79863   \n10602               155392  154053       220703           223169   \n13753               166839  151867       178723           225191   \n16904               167787  143032        39781           150033   \n20055               172320  140648        76821            87795   \n23206               168869  145579       107869           118656   \n26357               187785  133060       125155           154358   \n29508               195026  168820       195000           246000   \n\n       wealth_wo_equity  housing_expenditure  nonmort_housing_expenditure  \\\n1149             -18772               8280.0                        11956   \n4300             -38903              17028.0                         9281   \n7451              -5236              36660.0                        24168   \n10602              2465              33650.0                        17323   \n13753             46468              34920.0                        23496   \n16904            110252              38290.0                        23800   \n20055             10974              50980.0                        35315   \n23206             10786              56730.0                        39943   \n26357             29202              44100.0                        25969   \n29508             51000              53170.0                        33570   \n\n       mortgage_expenditure  cpi_current  family_weight  \n1149                      0     1.444020         16.465  \n4300                  14377     1.389411          8.650  \n7451                  23828     1.309244          8.649  \n10602                 24166     1.232982          9.377  \n13753                 18110     1.191490          9.377  \n16904                 19720     1.136619         10.342  \n20055                 20631     1.097445         10.342  \n23206                 21250     1.078691         11.870  \n26357                 20024     1.042961         11.870  \n29508                 19600     1.000000         13.351  ",
      "text/html": "<div>\n<style scoped>\n    .dataframe tbody tr th:only-of-type {\n        vertical-align: middle;\n    }\n\n    .dataframe tbody tr th {\n        vertical-align: top;\n    }\n\n    .dataframe thead th {\n        text-align: right;\n    }\n</style>\n<table border=\"1\" class=\"dataframe\">\n  <thead>\n    <tr style=\"text-align: right;\">\n      <th></th>\n      <th>pid</th>\n      <th>year</th>\n      <th>race</th>\n      <th>age_of_head</th>\n      <th>num_children_in_fu</th>\n      <th>married</th>\n      <th>total_family_income</th>\n      <th>exp</th>\n      <th>home_equity</th>\n      <th>wealth_w_equity</th>\n      <th>wealth_wo_equity</th>\n      <th>housing_expenditure</th>\n      <th>nonmort_housing_expenditure</th>\n      <th>mortgage_expenditure</th>\n      <th>cpi_current</th>\n      <th>family_weight</th>\n    </tr>\n  </thead>\n  <tbody>\n    <tr>\n      <th>1149</th>\n      <td>1682032</td>\n      <td>2001</td>\n      <td>white</td>\n      <td>32.0</td>\n      <td>0.0</td>\n      <td>False</td>\n      <td>60648</td>\n      <td>53729</td>\n      <td>0</td>\n      <td>-18772</td>\n      <td>-18772</td>\n      <td>8280.0</td>\n      <td>11956</td>\n      <td>0</td>\n      <td>1.444020</td>\n      <td>16.465</td>\n    </tr>\n    <tr>\n      <th>4300</th>\n      <td>1682032</td>\n      <td>2003</td>\n      <td>white</td>\n      <td>34.0</td>\n      <td>0.0</td>\n      <td>True</td>\n      <td>146860</td>\n      <td>101592</td>\n      <td>52797</td>\n      <td>13894</td>\n      <td>-38903</td>\n      <td>17028.0</td>\n      <td>9281</td>\n      <td>14377</td>\n      <td>1.389411</td>\n      <td>8.650</td>\n    </tr>\n    <tr>\n      <th>7451</th>\n      <td>1682032</td>\n      <td>2005</td>\n      <td>white</td>\n      <td>36.0</td>\n      <td>1.0</td>\n      <td>True</td>\n      <td>148625</td>\n      <td>136008</td>\n      <td>85100</td>\n      <td>79863</td>\n      <td>-5236</td>\n      <td>36660.0</td>\n      <td>24168</td>\n      <td>23828</td>\n      <td>1.309244</td>\n      <td>8.649</td>\n    </tr>\n    <tr>\n      <th>10602</th>\n      <td>1682032</td>\n      <td>2007</td>\n      <td>white</td>\n      <td>38.0</td>\n      <td>2.0</td>\n      <td>True</td>\n      <td>155392</td>\n      <td>154053</td>\n      <td>220703</td>\n      <td>223169</td>\n      <td>2465</td>\n      <td>33650.0</td>\n      <td>17323</td>\n      <td>24166</td>\n      <td>1.232982</td>\n      <td>9.377</td>\n    </tr>\n    <tr>\n      <th>13753</th>\n      <td>1682032</td>\n      <td>2009</td>\n      <td>white</td>\n      <td>40.0</td>\n      <td>2.0</td>\n      <td>True</td>\n      <td>166839</td>\n      <td>151867</td>\n      <td>178723</td>\n      <td>225191</td>\n      <td>46468</td>\n      <td>34920.0</td>\n      <td>23496</td>\n      <td>18110</td>\n      <td>1.191490</td>\n      <td>9.377</td>\n    </tr>\n    <tr>\n      <th>16904</th>\n      <td>1682032</td>\n      <td>2011</td>\n      <td>white</td>\n      <td>42.0</td>\n      <td>2.0</td>\n      <td>True</td>\n      <td>167787</td>\n      <td>143032</td>\n      <td>39781</td>\n      <td>150033</td>\n      <td>110252</td>\n      <td>38290.0</td>\n      <td>23800</td>\n      <td>19720</td>\n      <td>1.136619</td>\n      <td>10.342</td>\n    </tr>\n    <tr>\n      <th>20055</th>\n      <td>1682032</td>\n      <td>2013</td>\n      <td>white</td>\n      <td>44.0</td>\n      <td>2.0</td>\n      <td>True</td>\n      <td>172320</td>\n      <td>140648</td>\n      <td>76821</td>\n      <td>87795</td>\n      <td>10974</td>\n      <td>50980.0</td>\n      <td>35315</td>\n      <td>20631</td>\n      <td>1.097445</td>\n      <td>10.342</td>\n    </tr>\n    <tr>\n      <th>23206</th>\n      <td>1682032</td>\n      <td>2015</td>\n      <td>white</td>\n      <td>46.0</td>\n      <td>2.0</td>\n      <td>True</td>\n      <td>168869</td>\n      <td>145579</td>\n      <td>107869</td>\n      <td>118656</td>\n      <td>10786</td>\n      <td>56730.0</td>\n      <td>39943</td>\n      <td>21250</td>\n      <td>1.078691</td>\n      <td>11.870</td>\n    </tr>\n    <tr>\n      <th>26357</th>\n      <td>1682032</td>\n      <td>2017</td>\n      <td>white</td>\n      <td>48.0</td>\n      <td>2.0</td>\n      <td>True</td>\n      <td>187785</td>\n      <td>133060</td>\n      <td>125155</td>\n      <td>154358</td>\n      <td>29202</td>\n      <td>44100.0</td>\n      <td>25969</td>\n      <td>20024</td>\n      <td>1.042961</td>\n      <td>11.870</td>\n    </tr>\n    <tr>\n      <th>29508</th>\n      <td>1682032</td>\n      <td>2019</td>\n      <td>white</td>\n      <td>50.0</td>\n      <td>2.0</td>\n      <td>True</td>\n      <td>195026</td>\n      <td>168820</td>\n      <td>195000</td>\n      <td>246000</td>\n      <td>51000</td>\n      <td>53170.0</td>\n      <td>33570</td>\n      <td>19600</td>\n      <td>1.000000</td>\n      <td>13.351</td>\n    </tr>\n  </tbody>\n</table>\n</div>"
     },
     "execution_count": 261,
     "metadata": {},
     "output_type": "execute_result"
    }
   ],
   "source": [
    "x = dfe[dfe.pid == 1682032]\n",
    "(x[diff_cols].iloc[-1] - x[diff_cols].iloc[0])\n",
    "x"
   ],
   "metadata": {
    "collapsed": false
   }
  },
  {
   "cell_type": "code",
   "execution_count": 254,
   "outputs": [
    {
     "data": {
      "text/plain": "race             black          white\nmarried                              \nall       33420.346154  157223.594059\nnone    -251320.526316  233005.190476\nsome      58321.120000   65808.926829",
      "text/html": "<div>\n<style scoped>\n    .dataframe tbody tr th:only-of-type {\n        vertical-align: middle;\n    }\n\n    .dataframe tbody tr th {\n        vertical-align: top;\n    }\n\n    .dataframe thead th {\n        text-align: right;\n    }\n</style>\n<table border=\"1\" class=\"dataframe\">\n  <thead>\n    <tr style=\"text-align: right;\">\n      <th>race</th>\n      <th>black</th>\n      <th>white</th>\n    </tr>\n    <tr>\n      <th>married</th>\n      <th></th>\n      <th></th>\n    </tr>\n  </thead>\n  <tbody>\n    <tr>\n      <th>all</th>\n      <td>33420.346154</td>\n      <td>157223.594059</td>\n    </tr>\n    <tr>\n      <th>none</th>\n      <td>-251320.526316</td>\n      <td>233005.190476</td>\n    </tr>\n    <tr>\n      <th>some</th>\n      <td>58321.120000</td>\n      <td>65808.926829</td>\n    </tr>\n  </tbody>\n</table>\n</div>"
     },
     "execution_count": 254,
     "metadata": {},
     "output_type": "execute_result"
    }
   ],
   "source": [
    "t = sumry[sumry.age.between(45,55) & sumry.income_q.isin([4,5,6])]\n",
    "\n",
    "t.groupby(['married', 'race']).wealth_w_equity.mean().unstack()"
   ],
   "metadata": {
    "collapsed": false
   }
  },
  {
   "cell_type": "markdown",
   "source": [],
   "metadata": {
    "collapsed": false
   }
  },
  {
   "cell_type": "code",
   "execution_count": 191,
   "outputs": [
    {
     "data": {
      "text/plain": "<AxesSubplot: xlabel='wealth_w_equity_q', ylabel='Density'>"
     },
     "execution_count": 191,
     "metadata": {},
     "output_type": "execute_result"
    },
    {
     "data": {
      "text/plain": "<Figure size 640x480 with 1 Axes>",
      "image/png": "[encoded data removed]"
     },
     "metadata": {},
     "output_type": "display_data"
    }
   ],
   "source": [
    "t =sumry[['race','income_q']].value_counts().reset_index().rename(columns={0:'count'})\n",
    "t.sort_values(['income_q', 'race'])\n",
    "\n",
    "# Plot a histogram of t, seperates in hue on race\n",
    "import seaborn as sns\n",
    "sns.kdeplot(data=sumry, x='wealth_w_equity_q',hue='race')\n"
   ],
   "metadata": {
    "collapsed": false
   }
  },
  {
   "cell_type": "code",
   "execution_count": 223,
   "outputs": [
    {
     "data": {
      "text/plain": "                   income_q  home_eq_q  wealth_w_equity_q  wealth_wo_equity\nincome_q           1.000000   0.314498           0.293691          0.079595\nhome_eq_q          0.314498   1.000000           0.670331          0.127242\nwealth_w_equity_q  0.293691   0.670331           1.000000          0.454931\nwealth_wo_equity   0.079595   0.127242           0.454931          1.000000",
      "text/html": "<div>\n<style scoped>\n    .dataframe tbody tr th:only-of-type {\n        vertical-align: middle;\n    }\n\n    .dataframe tbody tr th {\n        vertical-align: top;\n    }\n\n    .dataframe thead th {\n        text-align: right;\n    }\n</style>\n<table border=\"1\" class=\"dataframe\">\n  <thead>\n    <tr style=\"text-align: right;\">\n      <th></th>\n      <th>income_q</th>\n      <th>home_eq_q</th>\n      <th>wealth_w_equity_q</th>\n      <th>wealth_wo_equity</th>\n    </tr>\n  </thead>\n  <tbody>\n    <tr>\n      <th>income_q</th>\n      <td>1.000000</td>\n      <td>0.314498</td>\n      <td>0.293691</td>\n      <td>0.079595</td>\n    </tr>\n    <tr>\n      <th>home_eq_q</th>\n      <td>0.314498</td>\n      <td>1.000000</td>\n      <td>0.670331</td>\n      <td>0.127242</td>\n    </tr>\n    <tr>\n      <th>wealth_w_equity_q</th>\n      <td>0.293691</td>\n      <td>0.670331</td>\n      <td>1.000000</td>\n      <td>0.454931</td>\n    </tr>\n    <tr>\n      <th>wealth_wo_equity</th>\n      <td>0.079595</td>\n      <td>0.127242</td>\n      <td>0.454931</td>\n      <td>1.000000</td>\n    </tr>\n  </tbody>\n</table>\n</div>"
     },
     "execution_count": 223,
     "metadata": {},
     "output_type": "execute_result"
    }
   ],
   "source": [
    "sumry[sumry.married==False][['income_q','home_eq_q','wealth_w_equity_q', 'wealth_wo_equity']].corr()"
   ],
   "metadata": {
    "collapsed": false
   }
  },
  {
   "cell_type": "code",
   "execution_count": 157,
   "outputs": [
    {
     "data": {
      "text/plain": "                         level_0                      level_1         0\n119             wealth_wo_equity              wealth_w_equity  0.977504\n109              wealth_w_equity             wealth_wo_equity  0.977504\n59           housing_expenditure                          exp  0.870981\n49                           exp          housing_expenditure  0.870981\n62           housing_expenditure         mortgage_expenditure  0.841173\n82          mortgage_expenditure          housing_expenditure  0.841173\n71   nonmort_housing_expenditure          housing_expenditure  0.840668\n61           housing_expenditure  nonmort_housing_expenditure  0.840668\n47                           exp          total_family_income  0.776554\n37           total_family_income                          exp  0.776554",
      "text/html": "<div>\n<style scoped>\n    .dataframe tbody tr th:only-of-type {\n        vertical-align: middle;\n    }\n\n    .dataframe tbody tr th {\n        vertical-align: top;\n    }\n\n    .dataframe thead th {\n        text-align: right;\n    }\n</style>\n<table border=\"1\" class=\"dataframe\">\n  <thead>\n    <tr style=\"text-align: right;\">\n      <th></th>\n      <th>level_0</th>\n      <th>level_1</th>\n      <th>0</th>\n    </tr>\n  </thead>\n  <tbody>\n    <tr>\n      <th>119</th>\n      <td>wealth_wo_equity</td>\n      <td>wealth_w_equity</td>\n      <td>0.977504</td>\n    </tr>\n    <tr>\n      <th>109</th>\n      <td>wealth_w_equity</td>\n      <td>wealth_wo_equity</td>\n      <td>0.977504</td>\n    </tr>\n    <tr>\n      <th>59</th>\n      <td>housing_expenditure</td>\n      <td>exp</td>\n      <td>0.870981</td>\n    </tr>\n    <tr>\n      <th>49</th>\n      <td>exp</td>\n      <td>housing_expenditure</td>\n      <td>0.870981</td>\n    </tr>\n    <tr>\n      <th>62</th>\n      <td>housing_expenditure</td>\n      <td>mortgage_expenditure</td>\n      <td>0.841173</td>\n    </tr>\n    <tr>\n      <th>82</th>\n      <td>mortgage_expenditure</td>\n      <td>housing_expenditure</td>\n      <td>0.841173</td>\n    </tr>\n    <tr>\n      <th>71</th>\n      <td>nonmort_housing_expenditure</td>\n      <td>housing_expenditure</td>\n      <td>0.840668</td>\n    </tr>\n    <tr>\n      <th>61</th>\n      <td>housing_expenditure</td>\n      <td>nonmort_housing_expenditure</td>\n      <td>0.840668</td>\n    </tr>\n    <tr>\n      <th>47</th>\n      <td>exp</td>\n      <td>total_family_income</td>\n      <td>0.776554</td>\n    </tr>\n    <tr>\n      <th>37</th>\n      <td>total_family_income</td>\n      <td>exp</td>\n      <td>0.776554</td>\n    </tr>\n  </tbody>\n</table>\n</div>"
     },
     "execution_count": 157,
     "metadata": {},
     "output_type": "execute_result"
    }
   ],
   "source": [
    "z = sumry.corr(numeric_only=True).stack().reset_index().sort_values(0, ascending=False)\n",
    "z[z[0]!=1].head(10)"
   ],
   "metadata": {
    "collapsed": false
   }
  },
  {
   "cell_type": "code",
   "execution_count": 158,
   "outputs": [
    {
     "data": {
      "text/plain": "wealth_w_equity                1.000000\nwealth_wo_equity               0.976539\ntotal_family_income            0.462240\nhome_equity                    0.356173\nexp                            0.321057\nhousing_expenditure            0.283785\nnonmort_housing_expenditure    0.248196\nmortgage_expenditure           0.226978\nnum_children                  -0.005011\nage                           -0.037886\ndtype: float64"
     },
     "execution_count": 158,
     "metadata": {},
     "output_type": "execute_result"
    }
   ],
   "source": [
    "t.corrwith(t.wealth_w_equity, numeric_only=True).sort_values(ascending=False)"
   ],
   "metadata": {
    "collapsed": false
   }
  },
  {
   "cell_type": "code",
   "execution_count": 172,
   "outputs": [
    {
     "name": "stdout",
     "output_type": "stream",
     "text": [
      "1208384.4000000001 1829699.2\n",
      "2994 328\n"
     ]
    },
    {
     "data": {
      "text/plain": "race\nblack     82\nwhite    246\nName: home_equity, dtype: int64"
     },
     "execution_count": 172,
     "metadata": {},
     "output_type": "execute_result"
    }
   ],
   "source": [
    "a,b = sumry.total_family_income.quantile([.4,.6])\n",
    "print(a,b)\n",
    "sumry_46 = sumry[(sumry.total_family_income >= a) & (sumry.total_family_income <= b) ].copy()\n",
    "print(len(sumry), len(sumry_46))\n",
    "sumry_46.groupby('race').home_equity.count()"
   ],
   "metadata": {
    "collapsed": false
   }
  },
  {
   "cell_type": "code",
   "execution_count": 167,
   "outputs": [],
   "source": [
    "sumry_46['wir'] = sumry.wealth_w_equity/sumry.total_family_income\n",
    "sumry_46['eir'] = sumry.exp/sumry.total_family_income"
   ],
   "metadata": {
    "collapsed": false
   }
  },
  {
   "cell_type": "code",
   "execution_count": 168,
   "outputs": [
    {
     "data": {
      "text/plain": "             age  married  num_children  total_family_income           exp  \\\nrace                                                                         \nblack  51.447561      1.0      0.974390         1.489100e+06  1.502715e+06   \nwhite  52.273171      1.0      0.836179         1.535392e+06  1.459032e+06   \n\n       housing_expenditure  nonmort_housing_expenditure  mortgage_expenditure  \\\nrace                                                                            \nblack        327173.007073                255061.853659         127830.878049   \nwhite        314950.553333                245039.357724         121871.764228   \n\n        home_equity  wealth_w_equity  wealth_wo_equity       wir       eir  \\\nrace                                                                         \nblack  36674.804878    -27392.109756     -64066.743902 -0.022903  1.014159   \nwhite  46827.227642     69206.280488      22379.410569  0.047229  0.957359   \n\n                sav  \nrace                 \nblack -13615.048780  \nwhite  76359.430894  ",
      "text/html": "<div>\n<style scoped>\n    .dataframe tbody tr th:only-of-type {\n        vertical-align: middle;\n    }\n\n    .dataframe tbody tr th {\n        vertical-align: top;\n    }\n\n    .dataframe thead th {\n        text-align: right;\n    }\n</style>\n<table border=\"1\" class=\"dataframe\">\n  <thead>\n    <tr style=\"text-align: right;\">\n      <th></th>\n      <th>age</th>\n      <th>married</th>\n      <th>num_children</th>\n      <th>total_family_income</th>\n      <th>exp</th>\n      <th>housing_expenditure</th>\n      <th>nonmort_housing_expenditure</th>\n      <th>mortgage_expenditure</th>\n      <th>home_equity</th>\n      <th>wealth_w_equity</th>\n      <th>wealth_wo_equity</th>\n      <th>wir</th>\n      <th>eir</th>\n      <th>sav</th>\n    </tr>\n    <tr>\n      <th>race</th>\n      <th></th>\n      <th></th>\n      <th></th>\n      <th></th>\n      <th></th>\n      <th></th>\n      <th></th>\n      <th></th>\n      <th></th>\n      <th></th>\n      <th></th>\n      <th></th>\n      <th></th>\n      <th></th>\n    </tr>\n  </thead>\n  <tbody>\n    <tr>\n      <th>black</th>\n      <td>51.447561</td>\n      <td>1.0</td>\n      <td>0.974390</td>\n      <td>1.489100e+06</td>\n      <td>1.502715e+06</td>\n      <td>327173.007073</td>\n      <td>255061.853659</td>\n      <td>127830.878049</td>\n      <td>36674.804878</td>\n      <td>-27392.109756</td>\n      <td>-64066.743902</td>\n      <td>-0.022903</td>\n      <td>1.014159</td>\n      <td>-13615.048780</td>\n    </tr>\n    <tr>\n      <th>white</th>\n      <td>52.273171</td>\n      <td>1.0</td>\n      <td>0.836179</td>\n      <td>1.535392e+06</td>\n      <td>1.459032e+06</td>\n      <td>314950.553333</td>\n      <td>245039.357724</td>\n      <td>121871.764228</td>\n      <td>46827.227642</td>\n      <td>69206.280488</td>\n      <td>22379.410569</td>\n      <td>0.047229</td>\n      <td>0.957359</td>\n      <td>76359.430894</td>\n    </tr>\n  </tbody>\n</table>\n</div>"
     },
     "execution_count": 168,
     "metadata": {},
     "output_type": "execute_result"
    }
   ],
   "source": [
    "z = sumry_46.groupby('race').mean()\n",
    "z['sav'] = z.total_family_income - z.exp\n",
    "z"
   ],
   "metadata": {
    "collapsed": false
   }
  },
  {
   "cell_type": "code",
   "execution_count": 170,
   "outputs": [
    {
     "data": {
      "text/plain": "age                                0.825610\nmarried                            0.000000\nnum_children                      -0.138211\ntotal_family_income            46292.065041\nexp                           -43682.414634\nhousing_expenditure           -12222.453740\nnonmort_housing_expenditure   -10022.495935\nmortgage_expenditure           -5959.113821\nhome_equity                    10152.422764\nwealth_w_equity                96598.390244\nwealth_wo_equity               86446.154472\nwir                                0.070132\neir                               -0.056800\nsav                            89974.479675\ndtype: float64"
     },
     "execution_count": 170,
     "metadata": {},
     "output_type": "execute_result"
    }
   ],
   "source": [
    "z.iloc[1]-z.iloc[0]"
   ],
   "metadata": {
    "collapsed": false
   }
  },
  {
   "cell_type": "code",
   "execution_count": null,
   "outputs": [],
   "source": [],
   "metadata": {
    "collapsed": false
   }
  }
 ],
 "metadata": {
  "kernelspec": {
   "display_name": "Python 3",
   "language": "python",
   "name": "python3"
  },
  "language_info": {
   "codemirror_mode": {
    "name": "ipython",
    "version": 2
   },
   "file_extension": ".py",
   "mimetype": "text/x-python",
   "name": "python",
   "nbconvert_exporter": "python",
   "pygments_lexer": "ipython2",
   "version": "2.7.6"
  }
 },
 "nbformat": 4,
 "nbformat_minor": 0
}
