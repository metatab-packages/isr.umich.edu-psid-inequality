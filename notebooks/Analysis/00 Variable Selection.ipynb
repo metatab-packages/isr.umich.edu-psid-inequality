{
 "cells": [
  {
   "cell_type": "code",
   "execution_count": 10,
   "metadata": {
    "collapsed": true
   },
   "outputs": [
    {
     "name": "stdout",
     "output_type": "stream",
     "text": [
      "The autoreload extension is already loaded. To reload it, use:\n",
      "  %reload_ext autoreload\n"
     ]
    }
   ],
   "source": [
    "%load_ext autoreload\n",
    "%autoreload 2\n",
    "\n",
    "import seaborn as sns\n",
    "import metapack as mp\n",
    "import pandas as pd\n",
    "import numpy as np\n",
    "import matplotlib.pyplot as plt\n",
    "from IPython.display import display\n",
    "\n",
    "%matplotlib inline\n",
    "sns.set_context('notebook')\n",
    "mp.jupyter.init()\n"
   ]
  },
  {
   "cell_type": "code",
   "execution_count": 11,
   "outputs": [
    {
     "data": {
      "text/plain": "\n`isr.umich.edu-psid-inequality-3.1.2` Last Update: 2023-06-15T16:42:18\n\n__\n\n\n\n## Updating Data\n\nTo update the data, use the data extraction tool at the (PSID website. )[https://simba.isr.umich.edu/Cart/co.aspx], adding any new variables to your data cart. The (variable entry text box)[https://simba.isr.umich.edu/DC/l.aspx] is a handy way to copy the existing varibles into a new cart.  When you checkout your data cart, ( click on the cart icon ) fetch your dataset with these options: \n\n* Codebook Type: XML\n* Data output type: dBase Data File, create compressed file\n\nDownload the ZIP file ( you might have to recompress it if your browser unpacks it ) and move it into the ``data`` directory. Set the reference to the new ZIP file, then re-build the package.\n## Documentation Links\n\n* [PSID Homepage](https://psidonline.isr.umich.edu/default.aspx) \n\n \n\n## Contacts\n\n* **Wrangler** [Eric Busboom](mailto:eric@civicknowledge.com), [Civic Knowledge](http://civicknowledge.com)\n\n## Resources\n\n* **[variables](data/variables.csv)**. All PSID variables, with group infor for connecting variables across years.\n* **[cmp9919_labels](data/cmp9919_labels.csv)**. Categorical value labels\n* **[long_wealth_labels](data/long_wealth_labels.csv)**. Categorical value labels\n* **[cmp9919_dd](data/cmp9919_dd.csv)**. Data dictionary with information about variables in this collection, extracted from XML\n* **[long_wealth_dd](data/long_wealth_dd.csv)**. Data dictionary with information about variables in this collection, extracted from XML\n* **[cmp9919](data/cmp9919.csv)**. PSID, Inequality extract\n* **[long_wealth](data/long_wealth.csv)**. Longitudinal Wealth\n\n## References\n<ul><li> <strong><a href=\"https://psidonline.isr.umich.edu/help/xyr/psid.xlsx\">variables</a></strong>. Variable descriptions, in a cross-year format.</li><li> <strong>cmp9919_source</string>, <em>data/J321148.zip</em>. Source file for comparing 1999 to 2019</li><li> <strong>long_wealth_source</string>, <em>data/J321294.zip</em>. Source data package for Longitudinal Wealth Study</li><ul>\n",
      "text/html": "<p><code>isr.umich.edu-psid-inequality-3.1.2</code> Last Update: 2023-06-15T16:42:18</p>\n<p>__</p>\n<h2>Updating Data</h2>\n<p>To update the data, use the data extraction tool at the (PSID website. )[https://simba.isr.umich.edu/Cart/co.aspx], adding any new variables to your data cart. The (variable entry text box)[https://simba.isr.umich.edu/DC/l.aspx] is a handy way to copy the existing varibles into a new cart.  When you checkout your data cart, ( click on the cart icon ) fetch your dataset with these options: </p>\n<ul>\n<li>Codebook Type: XML</li>\n<li>Data output type: dBase Data File, create compressed file</li>\n</ul>\n<p>Download the ZIP file ( you might have to recompress it if your browser unpacks it ) and move it into the <code>data</code> directory. Set the reference to the new ZIP file, then re-build the package.</p>\n<h2>Documentation Links</h2>\n<ul>\n<li><a href=\"https://psidonline.isr.umich.edu/default.aspx\">PSID Homepage</a> </li>\n</ul>\n<h2>Contacts</h2>\n<ul>\n<li><strong>Wrangler</strong> <a href=\"mailto:eric@civicknowledge.com\">Eric Busboom</a>, <a href=\"http://civicknowledge.com\">Civic Knowledge</a></li>\n</ul>\n<h2>Resources</h2>\n<ul>\n<li><strong><a href=\"data/variables.csv\">variables</a></strong>. All PSID variables, with group infor for connecting variables across years.</li>\n<li><strong><a href=\"data/cmp9919_labels.csv\">cmp9919_labels</a></strong>. Categorical value labels</li>\n<li><strong><a href=\"data/long_wealth_labels.csv\">long_wealth_labels</a></strong>. Categorical value labels</li>\n<li><strong><a href=\"data/cmp9919_dd.csv\">cmp9919_dd</a></strong>. Data dictionary with information about variables in this collection, extracted from XML</li>\n<li><strong><a href=\"data/long_wealth_dd.csv\">long_wealth_dd</a></strong>. Data dictionary with information about variables in this collection, extracted from XML</li>\n<li><strong><a href=\"data/cmp9919.csv\">cmp9919</a></strong>. PSID, Inequality extract</li>\n<li><strong><a href=\"data/long_wealth.csv\">long_wealth</a></strong>. Longitudinal Wealth</li>\n</ul>\n<h2>References</h2>\n<ul><li> <strong><a href=\"https://psidonline.isr.umich.edu/help/xyr/psid.xlsx\">variables</a></strong>. Variable descriptions, in a cross-year format.</li><li> <strong>cmp9919_source</string>, <em>data/J321148.zip</em>. Source file for comparing 1999 to 2019</li><li> <strong>long_wealth_source</string>, <em>data/J321294.zip</em>. Source data package for Longitudinal Wealth Study</li><ul>"
     },
     "execution_count": 11,
     "metadata": {},
     "output_type": "execute_result"
    }
   ],
   "source": [
    "pkg = mp.jupyter.open_package()\n",
    "#pkg = mp.jupyter.open_source_package()\n",
    "pkg.set_sys_path()\n",
    "from pylib import *\n",
    "pkg"
   ],
   "metadata": {
    "collapsed": false
   }
  },
  {
   "cell_type": "code",
   "execution_count": 17,
   "outputs": [
    {
     "name": "stdout",
     "output_type": "stream",
     "text": [
      "ER16462 ER20456 ER24099 ER28037 ER41027 ER46935 ER52343 ER58152 ER65349 ER71426 ER77448\n"
     ]
    }
   ],
   "source": [
    "m = Metadata(pkg.resource('long_wealth'))\n",
    "\n",
    "years = [1999, 2001, 2003, 2005, 2007, 2009, 2011, 2013, 2015, 2017, 2019]\n",
    "\n",
    "print(\" \".join(m.find_year('ER16462',years).name.to_list()))"
   ],
   "metadata": {
    "collapsed": false
   }
  },
  {
   "cell_type": "code",
   "execution_count": 6,
   "outputs": [
    {
     "data": {
      "text/plain": "['ER33516',\n 'ER33507',\n 'ER33547',\n 'ER33546',\n 'ER33501',\n 'ER33503',\n 'ER33502',\n 'ER13013',\n 'ER13010',\n 'ER13012',\n 'ER15928',\n 'ER15929',\n 'ER15930',\n 'ER15931',\n 'ER13011',\n 'ER16515D1',\n 'ER16515C9',\n 'ER16515A2',\n 'ER16515A3',\n 'ER16515A4',\n 'ER16515A1',\n 'ER16515A6',\n 'ER16515A5',\n 'ER16515B9',\n 'ER16515B7',\n 'ER16515B6',\n 'ER13009',\n 'ER13041',\n 'ER16462',\n 'ER16519',\n 'ER16518',\n 'ER13001',\n 'S420',\n 'S417']"
     },
     "execution_count": 6,
     "metadata": {},
     "output_type": "execute_result"
    }
   ],
   "source": [
    "m.vars_for_year(1999)"
   ],
   "metadata": {
    "collapsed": false
   }
  },
  {
   "cell_type": "code",
   "execution_count": null,
   "outputs": [],
   "source": [],
   "metadata": {
    "collapsed": false
   }
  }
 ],
 "metadata": {
  "kernelspec": {
   "display_name": "Python 3",
   "language": "python",
   "name": "python3"
  },
  "language_info": {
   "codemirror_mode": {
    "name": "ipython",
    "version": 2
   },
   "file_extension": ".py",
   "mimetype": "text/x-python",
   "name": "python",
   "nbconvert_exporter": "python",
   "pygments_lexer": "ipython2",
   "version": "2.7.6"
  }
 },
 "nbformat": 4,
 "nbformat_minor": 0
}
