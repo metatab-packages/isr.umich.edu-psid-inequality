{
 "cells": [
  {
   "cell_type": "code",
   "execution_count": 1,
   "metadata": {},
   "outputs": [],
   "source": [
    "%load_ext autoreload\n",
    "%autoreload 2\n",
    "\n",
    "import seaborn as sns\n",
    "import metapack as mp\n",
    "import pandas as pd\n",
    "import numpy as np\n",
    "import matplotlib.pyplot as plt\n",
    "from IPython.display import display \n",
    "\n",
    "%matplotlib inline\n",
    "sns.set_context('notebook')\n",
    "mp.jupyter.init()\n"
   ]
  },
  {
   "cell_type": "code",
   "execution_count": 2,
   "metadata": {},
   "outputs": [
    {
     "data": {
      "text/plain": "\n`isr.umich.edu-psid-inequality-1.1.1` Last Update: 2023-06-06T00:04:04\n\n__\n\n\n## Documentation Links\n\n* [PSID Homepage](https://psidonline.isr.umich.edu/default.aspx) \n\n \n\n## Contacts\n\n* **Wrangler** [Eric Busboom](mailto:eric@civicknowledge.com), [Civic Knowledge](http://civicknowledge.com)\n\n## Resources\n\n* **[psid_ineq](data/psid_ineq.csv)**. PSID, Inequality extract\n* **[_labels](data/_labels.csv)**. Categorical value labels\n* **[data_dictionary](data/data_dictionary.csv)**. List of Variables\n\n## References\n<ul><li> <strong>source</string>, <em>data/J320886.dbf</em>. Downloaded source file</li><li> <strong><a href=\"https://psidonline.isr.umich.edu/help/xyr/psid.xlsx\">variables</a></strong>. Variable descriptions, in a cross-year format.</li><li> <strong>codebook</string>, <em>data/J320886_codebook.xml</em>. Variable descriptions and value labels</li><ul>\n",
      "text/html": "<p><code>isr.umich.edu-psid-inequality-1.1.1</code> Last Update: 2023-06-06T00:04:04</p>\n<p>__</p>\n<h2>Documentation Links</h2>\n<ul>\n<li><a href=\"https://psidonline.isr.umich.edu/default.aspx\">PSID Homepage</a> </li>\n</ul>\n<h2>Contacts</h2>\n<ul>\n<li><strong>Wrangler</strong> <a href=\"mailto:eric@civicknowledge.com\">Eric Busboom</a>, <a href=\"http://civicknowledge.com\">Civic Knowledge</a></li>\n</ul>\n<h2>Resources</h2>\n<ul>\n<li><strong><a href=\"data/psid_ineq.csv\">psid_ineq</a></strong>. PSID, Inequality extract</li>\n<li><strong><a href=\"data/_labels.csv\">_labels</a></strong>. Categorical value labels</li>\n<li><strong><a href=\"data/data_dictionary.csv\">data_dictionary</a></strong>. List of Variables</li>\n</ul>\n<h2>References</h2>\n<ul><li> <strong>source</string>, <em>data/J320886.dbf</em>. Downloaded source file</li><li> <strong><a href=\"https://psidonline.isr.umich.edu/help/xyr/psid.xlsx\">variables</a></strong>. Variable descriptions, in a cross-year format.</li><li> <strong>codebook</string>, <em>data/J320886_codebook.xml</em>. Variable descriptions and value labels</li><ul>"
     },
     "execution_count": 2,
     "metadata": {},
     "output_type": "execute_result"
    }
   ],
   "source": [
    "pkg = mp.jupyter.open_package()\n",
    "#pkg = mp.jupyter.open_source_package()\n",
    "pkg"
   ]
  },
  {
   "cell_type": "code",
   "execution_count": 3,
   "outputs": [],
   "source": [
    "labels = pkg.resource('_labels').dataframe()"
   ],
   "metadata": {
    "collapsed": false
   }
  },
  {
   "cell_type": "code",
   "execution_count": 4,
   "metadata": {},
   "outputs": [
    {
     "data": {
      "text/plain": "   year  type_id     name                                     label  \\\n0  1968        0  er30000                            RELEASE NUMBER   \n1  1968        0  er30001                     1968 INTERVIEW NUMBER   \n2  1968        0  er30002  PERSON NUMBER                         68   \n3  2001        1  er17001                            RELEASE NUMBER   \n4  2001        1  er17012                                   # IN FU   \n\n                                               qtext  \\\n0                                   Release Number     \n1             1968 Interview Number (1968 ID Number)   \n2                                      Person Number   \n3                                     Release Number   \n4  Number of Persons in FU at the Time of the 200...   \n\n                                               etext           type  \\\n0   For Release 2 we have updated Relation to Hea...     INDIVIDUAL   \n1   This variable is the 1968 family ID number. T...     INDIVIDUAL   \n2                                                        INDIVIDUAL   \n3  May 2008:  Variables ER20395-ER20458, formerly...  FAMILY PUBLIC   \n4  This variable represents the actual number of ...  FAMILY PUBLIC   \n\n             category                                               text  \\\n0  SURVEY INFORMATION  01>SURVEY INFORMATION:\\n02>Interview Informati...   \n1  SURVEY INFORMATION  01>SURVEY INFORMATION:\\n02>Interview Informati...   \n2  SURVEY INFORMATION  01>SURVEY INFORMATION:\\n02>Interview Informati...   \n3  SURVEY INFORMATION  01>SURVEY INFORMATION\\n02>Interview Informatio...   \n4  FAMILY COMPOSITION  01>FAMILY COMPOSITION\\n02>Current:\\n03>number ...   \n\n  head_wife  var_count                                               path  \n0       NaN          1  /survey information:/interview information/rel...  \n1       NaN         41  /survey information:/interview information/id ...  \n2       NaN          1  /survey information:/interview information/per...  \n3       NaN         16  /survey information/interview information/rele...  \n4       NaN         41  /family composition/current:/number in family ...  ",
      "text/html": "<div>\n<style scoped>\n    .dataframe tbody tr th:only-of-type {\n        vertical-align: middle;\n    }\n\n    .dataframe tbody tr th {\n        vertical-align: top;\n    }\n\n    .dataframe thead th {\n        text-align: right;\n    }\n</style>\n<table border=\"1\" class=\"dataframe\">\n  <thead>\n    <tr style=\"text-align: right;\">\n      <th></th>\n      <th>year</th>\n      <th>type_id</th>\n      <th>name</th>\n      <th>label</th>\n      <th>qtext</th>\n      <th>etext</th>\n      <th>type</th>\n      <th>category</th>\n      <th>text</th>\n      <th>head_wife</th>\n      <th>var_count</th>\n      <th>path</th>\n    </tr>\n  </thead>\n  <tbody>\n    <tr>\n      <th>0</th>\n      <td>1968</td>\n      <td>0</td>\n      <td>er30000</td>\n      <td>RELEASE NUMBER</td>\n      <td>Release Number</td>\n      <td>For Release 2 we have updated Relation to Hea...</td>\n      <td>INDIVIDUAL</td>\n      <td>SURVEY INFORMATION</td>\n      <td>01&gt;SURVEY INFORMATION:\\n02&gt;Interview Informati...</td>\n      <td>NaN</td>\n      <td>1</td>\n      <td>/survey information:/interview information/rel...</td>\n    </tr>\n    <tr>\n      <th>1</th>\n      <td>1968</td>\n      <td>0</td>\n      <td>er30001</td>\n      <td>1968 INTERVIEW NUMBER</td>\n      <td>1968 Interview Number (1968 ID Number)</td>\n      <td>This variable is the 1968 family ID number. T...</td>\n      <td>INDIVIDUAL</td>\n      <td>SURVEY INFORMATION</td>\n      <td>01&gt;SURVEY INFORMATION:\\n02&gt;Interview Informati...</td>\n      <td>NaN</td>\n      <td>41</td>\n      <td>/survey information:/interview information/id ...</td>\n    </tr>\n    <tr>\n      <th>2</th>\n      <td>1968</td>\n      <td>0</td>\n      <td>er30002</td>\n      <td>PERSON NUMBER                         68</td>\n      <td>Person Number</td>\n      <td></td>\n      <td>INDIVIDUAL</td>\n      <td>SURVEY INFORMATION</td>\n      <td>01&gt;SURVEY INFORMATION:\\n02&gt;Interview Informati...</td>\n      <td>NaN</td>\n      <td>1</td>\n      <td>/survey information:/interview information/per...</td>\n    </tr>\n    <tr>\n      <th>3</th>\n      <td>2001</td>\n      <td>1</td>\n      <td>er17001</td>\n      <td>RELEASE NUMBER</td>\n      <td>Release Number</td>\n      <td>May 2008:  Variables ER20395-ER20458, formerly...</td>\n      <td>FAMILY PUBLIC</td>\n      <td>SURVEY INFORMATION</td>\n      <td>01&gt;SURVEY INFORMATION\\n02&gt;Interview Informatio...</td>\n      <td>NaN</td>\n      <td>16</td>\n      <td>/survey information/interview information/rele...</td>\n    </tr>\n    <tr>\n      <th>4</th>\n      <td>2001</td>\n      <td>1</td>\n      <td>er17012</td>\n      <td># IN FU</td>\n      <td>Number of Persons in FU at the Time of the 200...</td>\n      <td>This variable represents the actual number of ...</td>\n      <td>FAMILY PUBLIC</td>\n      <td>FAMILY COMPOSITION</td>\n      <td>01&gt;FAMILY COMPOSITION\\n02&gt;Current:\\n03&gt;number ...</td>\n      <td>NaN</td>\n      <td>41</td>\n      <td>/family composition/current:/number in family ...</td>\n    </tr>\n  </tbody>\n</table>\n</div>"
     },
     "execution_count": 4,
     "metadata": {},
     "output_type": "execute_result"
    }
   ],
   "source": [
    "dd = pkg.resource('data_dictionary').dataframe()\n",
    "dd['name'] = dd['name'].str.lower()\n",
    "dd.head()"
   ]
  },
  {
   "cell_type": "code",
   "execution_count": 5,
   "metadata": {},
   "outputs": [
    {
     "data": {
      "text/plain": "   pid  er30001  er30002                      er30000  er33601  er33701  \\\n0    7        4        3  Release number 3, June 2022       96     1392   \n1    8        4        4  Release number 3, June 2022     5987     6278   \n2    9        4        5  Release number 3, June 2022     6872     7782   \n3   10        4        6  Release number 3, June 2022     5599     4812   \n4   11        4        7  Release number 3, June 2022     7091        0   \n\n   er33801  er33901  er34001  er34101  ...  er46502  er51863  er57603  \\\n0      289      148       13      218  ...    832.0    832.0      NaN   \n1     2356     5399     1827     8397  ...      0.0      0.0      0.0   \n2        0        0        0        0  ...      NaN      NaN      NaN   \n3     4097      720     1840     2541  ...      0.0      0.0      0.0   \n4     6880        0     1840     2541  ...      0.0      0.0      0.0   \n\n   er51957 er57713 er64873 er27446 er40618 er46596 er23478  \n0    936.0     NaN     NaN   936.0   936.0   936.0   936.0  \n1    516.0   516.0     NaN   516.0   516.0   516.0   516.0  \n2      NaN     NaN     NaN     NaN     NaN     NaN   742.0  \n3    476.0   476.0   476.0   476.0   476.0   476.0   476.0  \n4    476.0   476.0   476.0   832.0     NaN   476.0     NaN  \n\n[5 rows x 652 columns]",
      "text/html": "<div>\n<style scoped>\n    .dataframe tbody tr th:only-of-type {\n        vertical-align: middle;\n    }\n\n    .dataframe tbody tr th {\n        vertical-align: top;\n    }\n\n    .dataframe thead th {\n        text-align: right;\n    }\n</style>\n<table border=\"1\" class=\"dataframe\">\n  <thead>\n    <tr style=\"text-align: right;\">\n      <th></th>\n      <th>pid</th>\n      <th>er30001</th>\n      <th>er30002</th>\n      <th>er30000</th>\n      <th>er33601</th>\n      <th>er33701</th>\n      <th>er33801</th>\n      <th>er33901</th>\n      <th>er34001</th>\n      <th>er34101</th>\n      <th>...</th>\n      <th>er46502</th>\n      <th>er51863</th>\n      <th>er57603</th>\n      <th>er51957</th>\n      <th>er57713</th>\n      <th>er64873</th>\n      <th>er27446</th>\n      <th>er40618</th>\n      <th>er46596</th>\n      <th>er23478</th>\n    </tr>\n  </thead>\n  <tbody>\n    <tr>\n      <th>0</th>\n      <td>7</td>\n      <td>4</td>\n      <td>3</td>\n      <td>Release number 3, June 2022</td>\n      <td>96</td>\n      <td>1392</td>\n      <td>289</td>\n      <td>148</td>\n      <td>13</td>\n      <td>218</td>\n      <td>...</td>\n      <td>832.0</td>\n      <td>832.0</td>\n      <td>NaN</td>\n      <td>936.0</td>\n      <td>NaN</td>\n      <td>NaN</td>\n      <td>936.0</td>\n      <td>936.0</td>\n      <td>936.0</td>\n      <td>936.0</td>\n    </tr>\n    <tr>\n      <th>1</th>\n      <td>8</td>\n      <td>4</td>\n      <td>4</td>\n      <td>Release number 3, June 2022</td>\n      <td>5987</td>\n      <td>6278</td>\n      <td>2356</td>\n      <td>5399</td>\n      <td>1827</td>\n      <td>8397</td>\n      <td>...</td>\n      <td>0.0</td>\n      <td>0.0</td>\n      <td>0.0</td>\n      <td>516.0</td>\n      <td>516.0</td>\n      <td>NaN</td>\n      <td>516.0</td>\n      <td>516.0</td>\n      <td>516.0</td>\n      <td>516.0</td>\n    </tr>\n    <tr>\n      <th>2</th>\n      <td>9</td>\n      <td>4</td>\n      <td>5</td>\n      <td>Release number 3, June 2022</td>\n      <td>6872</td>\n      <td>7782</td>\n      <td>0</td>\n      <td>0</td>\n      <td>0</td>\n      <td>0</td>\n      <td>...</td>\n      <td>NaN</td>\n      <td>NaN</td>\n      <td>NaN</td>\n      <td>NaN</td>\n      <td>NaN</td>\n      <td>NaN</td>\n      <td>NaN</td>\n      <td>NaN</td>\n      <td>NaN</td>\n      <td>742.0</td>\n    </tr>\n    <tr>\n      <th>3</th>\n      <td>10</td>\n      <td>4</td>\n      <td>6</td>\n      <td>Release number 3, June 2022</td>\n      <td>5599</td>\n      <td>4812</td>\n      <td>4097</td>\n      <td>720</td>\n      <td>1840</td>\n      <td>2541</td>\n      <td>...</td>\n      <td>0.0</td>\n      <td>0.0</td>\n      <td>0.0</td>\n      <td>476.0</td>\n      <td>476.0</td>\n      <td>476.0</td>\n      <td>476.0</td>\n      <td>476.0</td>\n      <td>476.0</td>\n      <td>476.0</td>\n    </tr>\n    <tr>\n      <th>4</th>\n      <td>11</td>\n      <td>4</td>\n      <td>7</td>\n      <td>Release number 3, June 2022</td>\n      <td>7091</td>\n      <td>0</td>\n      <td>6880</td>\n      <td>0</td>\n      <td>1840</td>\n      <td>2541</td>\n      <td>...</td>\n      <td>0.0</td>\n      <td>0.0</td>\n      <td>0.0</td>\n      <td>476.0</td>\n      <td>476.0</td>\n      <td>476.0</td>\n      <td>832.0</td>\n      <td>NaN</td>\n      <td>476.0</td>\n      <td>NaN</td>\n    </tr>\n  </tbody>\n</table>\n<p>5 rows × 652 columns</p>\n</div>"
     },
     "execution_count": 5,
     "metadata": {},
     "output_type": "execute_result"
    }
   ],
   "source": [
    "\n",
    "df = pkg.resource('psid_ineq').dataframe(convert_categorical=True)\n",
    "df.head()"
   ]
  },
  {
   "cell_type": "code",
   "execution_count": 6,
   "metadata": {},
   "outputs": [],
   "source": [
    "# The race of each record will be the race of the head of household, which will be collpased from\n",
    "# multipe values over multiple years. Apparently they ask for race every year, so it can change from year to\n",
    "# year. \n",
    "#\n",
    "# L40 is 'race of head'\n",
    "\n",
    "roh_cols = dd[dd.label.str.contains('L40')].name.str.lower().to_list()\n",
    "\n",
    "# race_map = { k:'' for k in df[roh_cols].stack().unique() }\n",
    "\n",
    "race_map = {\n",
    " 'White': 'white',\n",
    " 'NA; DK': 'na',\n",
    " 'Black': 'black',\n",
    " 'Black, African-American, or Negro': 'black',\n",
    " 'NA; refused': 'na',\n",
    " 'American Indian or Alaska Native': 'aian',\n",
    " 'Other': 'other',\n",
    " 'Mentions Latino origin or descent': 'hisp',\n",
    " 'Latino origin or descent': 'hisp',\n",
    " 'DK; NA': 'na',\n",
    " 'DK; NA; refused': 'na',\n",
    " 'Asian, Pacific Islander': 'aapi',\n",
    " 'Asian': 'asian',\n",
    " 'American Indian, Aleut, Eskimo': 'aian',\n",
    " 'Wild code': 'na',\n",
    " 'Native American': 'aian',\n",
    " 'Native Hawaiian or Pacific Islander': 'nhopi',\n",
    " 'Mentions color other than black or white': 'other',\n",
    " 'Color besides black or white': 'other',\n",
    "  None: 'na'}\n",
    "\n",
    "t =df[roh_cols].replace(race_map).fillna('na').mode(axis=1)\n",
    "\n",
    "rows  = []\n",
    "for idx, r in t.replace({'na':'zzz'}).iterrows():\n",
    "    rows.append(r.sort_values())\n",
    "    \n",
    "df['race'] = pd.DataFrame(rows)[0]"
   ]
  },
  {
   "cell_type": "code",
   "execution_count": 7,
   "metadata": {},
   "outputs": [
    {
     "data": {
      "text/plain": "        pid  er30001  er30002                      er30000  er33601  er33701  \\\n12471  1696     1695        1  Release number 3, June 2022     4162     4627   \n12472  1697     1695        2  Release number 3, June 2022     4162     4627   \n12473  1698     1695        3  Release number 3, June 2022     3303     2445   \n12474  1699     1695        4  Release number 3, June 2022     2671     2341   \n12475  1700     1695        5  Release number 3, June 2022     2669     3762   \n...     ...      ...      ...                          ...      ...      ...   \n12627  1972     1695      277  Release number 3, June 2022     5565     5482   \n12628  1973     1695      278  Release number 3, June 2022     5565     5482   \n12629  1974     1695      279  Release number 3, June 2022     2787     3023   \n12630  1975     1695      280  Release number 3, June 2022     4803     2470   \n12631  1976     1695      281  Release number 3, June 2022     4803     2470   \n\n       er33801  er33901  er34001  er34101  ...  er51863  er57603  er51957  \\\n12471      560        0        0        0  ...      NaN      NaN      NaN   \n12472      560     1800     2763      491  ...      0.0      0.0    775.0   \n12473      816      658     3157      831  ...    880.0    880.0    562.0   \n12474     2100     1753     2707      112  ...    411.0    411.0    962.0   \n12475     1245        0        0        0  ...      NaN      NaN      NaN   \n...        ...      ...      ...      ...  ...      ...      ...      ...   \n12627     2463     1459     7603     8352  ...      0.0      0.0    405.0   \n12628     2463     1459     7603     8352  ...      0.0      0.0    405.0   \n12629     1395     1465     5257     1759  ...    472.0    472.0    402.0   \n12630     2011     6554     5499     8286  ...    874.0      NaN    999.0   \n12631     2011     6554     5499     8286  ...    874.0      NaN    999.0   \n\n       er57713 er64873 er27446 er40618 er46596 er23478   race  \n12471      NaN     NaN   775.0     NaN     NaN   962.0    zzz  \n12472    775.0   775.0   775.0   775.0   775.0   962.0  white  \n12473    562.0   562.0   562.0   562.0   562.0   562.0  white  \n12474    962.0   962.0   962.0   962.0   962.0   962.0  white  \n12475      NaN     NaN   810.0     NaN     NaN   810.0    zzz  \n...        ...     ...     ...     ...     ...     ...    ...  \n12627    405.0   623.0   651.0   651.0   405.0   651.0  white  \n12628    405.0   623.0   651.0   651.0   405.0   651.0  white  \n12629    402.0     0.0   402.0   402.0   402.0   402.0  white  \n12630      NaN   874.0   999.0   999.0   999.0   999.0  white  \n12631      NaN   874.0   999.0   999.0   999.0   999.0  white  \n\n[161 rows x 653 columns]",
      "text/html": "<div>\n<style scoped>\n    .dataframe tbody tr th:only-of-type {\n        vertical-align: middle;\n    }\n\n    .dataframe tbody tr th {\n        vertical-align: top;\n    }\n\n    .dataframe thead th {\n        text-align: right;\n    }\n</style>\n<table border=\"1\" class=\"dataframe\">\n  <thead>\n    <tr style=\"text-align: right;\">\n      <th></th>\n      <th>pid</th>\n      <th>er30001</th>\n      <th>er30002</th>\n      <th>er30000</th>\n      <th>er33601</th>\n      <th>er33701</th>\n      <th>er33801</th>\n      <th>er33901</th>\n      <th>er34001</th>\n      <th>er34101</th>\n      <th>...</th>\n      <th>er51863</th>\n      <th>er57603</th>\n      <th>er51957</th>\n      <th>er57713</th>\n      <th>er64873</th>\n      <th>er27446</th>\n      <th>er40618</th>\n      <th>er46596</th>\n      <th>er23478</th>\n      <th>race</th>\n    </tr>\n  </thead>\n  <tbody>\n    <tr>\n      <th>12471</th>\n      <td>1696</td>\n      <td>1695</td>\n      <td>1</td>\n      <td>Release number 3, June 2022</td>\n      <td>4162</td>\n      <td>4627</td>\n      <td>560</td>\n      <td>0</td>\n      <td>0</td>\n      <td>0</td>\n      <td>...</td>\n      <td>NaN</td>\n      <td>NaN</td>\n      <td>NaN</td>\n      <td>NaN</td>\n      <td>NaN</td>\n      <td>775.0</td>\n      <td>NaN</td>\n      <td>NaN</td>\n      <td>962.0</td>\n      <td>zzz</td>\n    </tr>\n    <tr>\n      <th>12472</th>\n      <td>1697</td>\n      <td>1695</td>\n      <td>2</td>\n      <td>Release number 3, June 2022</td>\n      <td>4162</td>\n      <td>4627</td>\n      <td>560</td>\n      <td>1800</td>\n      <td>2763</td>\n      <td>491</td>\n      <td>...</td>\n      <td>0.0</td>\n      <td>0.0</td>\n      <td>775.0</td>\n      <td>775.0</td>\n      <td>775.0</td>\n      <td>775.0</td>\n      <td>775.0</td>\n      <td>775.0</td>\n      <td>962.0</td>\n      <td>white</td>\n    </tr>\n    <tr>\n      <th>12473</th>\n      <td>1698</td>\n      <td>1695</td>\n      <td>3</td>\n      <td>Release number 3, June 2022</td>\n      <td>3303</td>\n      <td>2445</td>\n      <td>816</td>\n      <td>658</td>\n      <td>3157</td>\n      <td>831</td>\n      <td>...</td>\n      <td>880.0</td>\n      <td>880.0</td>\n      <td>562.0</td>\n      <td>562.0</td>\n      <td>562.0</td>\n      <td>562.0</td>\n      <td>562.0</td>\n      <td>562.0</td>\n      <td>562.0</td>\n      <td>white</td>\n    </tr>\n    <tr>\n      <th>12474</th>\n      <td>1699</td>\n      <td>1695</td>\n      <td>4</td>\n      <td>Release number 3, June 2022</td>\n      <td>2671</td>\n      <td>2341</td>\n      <td>2100</td>\n      <td>1753</td>\n      <td>2707</td>\n      <td>112</td>\n      <td>...</td>\n      <td>411.0</td>\n      <td>411.0</td>\n      <td>962.0</td>\n      <td>962.0</td>\n      <td>962.0</td>\n      <td>962.0</td>\n      <td>962.0</td>\n      <td>962.0</td>\n      <td>962.0</td>\n      <td>white</td>\n    </tr>\n    <tr>\n      <th>12475</th>\n      <td>1700</td>\n      <td>1695</td>\n      <td>5</td>\n      <td>Release number 3, June 2022</td>\n      <td>2669</td>\n      <td>3762</td>\n      <td>1245</td>\n      <td>0</td>\n      <td>0</td>\n      <td>0</td>\n      <td>...</td>\n      <td>NaN</td>\n      <td>NaN</td>\n      <td>NaN</td>\n      <td>NaN</td>\n      <td>NaN</td>\n      <td>810.0</td>\n      <td>NaN</td>\n      <td>NaN</td>\n      <td>810.0</td>\n      <td>zzz</td>\n    </tr>\n    <tr>\n      <th>...</th>\n      <td>...</td>\n      <td>...</td>\n      <td>...</td>\n      <td>...</td>\n      <td>...</td>\n      <td>...</td>\n      <td>...</td>\n      <td>...</td>\n      <td>...</td>\n      <td>...</td>\n      <td>...</td>\n      <td>...</td>\n      <td>...</td>\n      <td>...</td>\n      <td>...</td>\n      <td>...</td>\n      <td>...</td>\n      <td>...</td>\n      <td>...</td>\n      <td>...</td>\n      <td>...</td>\n    </tr>\n    <tr>\n      <th>12627</th>\n      <td>1972</td>\n      <td>1695</td>\n      <td>277</td>\n      <td>Release number 3, June 2022</td>\n      <td>5565</td>\n      <td>5482</td>\n      <td>2463</td>\n      <td>1459</td>\n      <td>7603</td>\n      <td>8352</td>\n      <td>...</td>\n      <td>0.0</td>\n      <td>0.0</td>\n      <td>405.0</td>\n      <td>405.0</td>\n      <td>623.0</td>\n      <td>651.0</td>\n      <td>651.0</td>\n      <td>405.0</td>\n      <td>651.0</td>\n      <td>white</td>\n    </tr>\n    <tr>\n      <th>12628</th>\n      <td>1973</td>\n      <td>1695</td>\n      <td>278</td>\n      <td>Release number 3, June 2022</td>\n      <td>5565</td>\n      <td>5482</td>\n      <td>2463</td>\n      <td>1459</td>\n      <td>7603</td>\n      <td>8352</td>\n      <td>...</td>\n      <td>0.0</td>\n      <td>0.0</td>\n      <td>405.0</td>\n      <td>405.0</td>\n      <td>623.0</td>\n      <td>651.0</td>\n      <td>651.0</td>\n      <td>405.0</td>\n      <td>651.0</td>\n      <td>white</td>\n    </tr>\n    <tr>\n      <th>12629</th>\n      <td>1974</td>\n      <td>1695</td>\n      <td>279</td>\n      <td>Release number 3, June 2022</td>\n      <td>2787</td>\n      <td>3023</td>\n      <td>1395</td>\n      <td>1465</td>\n      <td>5257</td>\n      <td>1759</td>\n      <td>...</td>\n      <td>472.0</td>\n      <td>472.0</td>\n      <td>402.0</td>\n      <td>402.0</td>\n      <td>0.0</td>\n      <td>402.0</td>\n      <td>402.0</td>\n      <td>402.0</td>\n      <td>402.0</td>\n      <td>white</td>\n    </tr>\n    <tr>\n      <th>12630</th>\n      <td>1975</td>\n      <td>1695</td>\n      <td>280</td>\n      <td>Release number 3, June 2022</td>\n      <td>4803</td>\n      <td>2470</td>\n      <td>2011</td>\n      <td>6554</td>\n      <td>5499</td>\n      <td>8286</td>\n      <td>...</td>\n      <td>874.0</td>\n      <td>NaN</td>\n      <td>999.0</td>\n      <td>NaN</td>\n      <td>874.0</td>\n      <td>999.0</td>\n      <td>999.0</td>\n      <td>999.0</td>\n      <td>999.0</td>\n      <td>white</td>\n    </tr>\n    <tr>\n      <th>12631</th>\n      <td>1976</td>\n      <td>1695</td>\n      <td>281</td>\n      <td>Release number 3, June 2022</td>\n      <td>4803</td>\n      <td>2470</td>\n      <td>2011</td>\n      <td>6554</td>\n      <td>5499</td>\n      <td>8286</td>\n      <td>...</td>\n      <td>874.0</td>\n      <td>NaN</td>\n      <td>999.0</td>\n      <td>NaN</td>\n      <td>874.0</td>\n      <td>999.0</td>\n      <td>999.0</td>\n      <td>999.0</td>\n      <td>999.0</td>\n      <td>white</td>\n    </tr>\n  </tbody>\n</table>\n<p>161 rows × 653 columns</p>\n</div>"
     },
     "execution_count": 7,
     "metadata": {},
     "output_type": "execute_result"
    }
   ],
   "source": [
    "t = df.groupby('er30001').pid.count()\n",
    "t.index[t.argmax()]\n",
    "df[df.er30001==1695.0]\n"
   ]
  },
  {
   "cell_type": "code",
   "execution_count": 35,
   "metadata": {},
   "outputs": [
    {
     "data": {
      "text/plain": "<AxesSubplot: >"
     },
     "execution_count": 35,
     "metadata": {},
     "output_type": "execute_result"
    },
    {
     "data": {
      "text/plain": "<Figure size 640x480 with 1 Axes>",
      "image/png": "[encoded data removed]"
     },
     "metadata": {},
     "output_type": "display_data"
    }
   ],
   "source": [
    "# Unweighted age of vehicles\n",
    "\n",
    "# COlumns that mention the model year\n",
    "ml_cols = dd[dd.label.str.contains('MODEL YEAR')].name.str.lower().to_list()\n",
    "\n",
    "# Add in the pid and remove non-year codes\n",
    "t =df[['pid']+ml_cols].set_index('pid').replace([0, -1, 9997, 9998, 9999],None)\n",
    "\n",
    "# Subtract from the year for each colum to get age. \n",
    "for c in ml_cols:\n",
    "    year = dd[dd['name'] == c].iloc[0].year +1 # The min ages were -1\n",
    "    t[c] = year-t[c]\n",
    "\n",
    "# Re-add race\n",
    "t = df[['pid','race']].merge(t.reset_index())\n",
    "\n",
    "# Stack so we can use group\n",
    "t = t.set_index(['pid','race']).stack().to_frame('age').reset_index()\n",
    "\n",
    "t.age.hist(bins=20)"
   ]
  },
  {
   "cell_type": "code",
   "execution_count": 36,
   "outputs": [
    {
     "data": {
      "text/plain": "       er30001  er33601  er33602\n0            4       96        1\n1            4     5987        1\n2            4     6872        2\n3            4     5599        2\n4            4     7091        1\n...        ...      ...      ...\n41448     6872     5477        0\n41449     6872     3616        0\n41450     6872     3616        0\n41451     6872     5477        0\n41452     6872     5477        0\n\n[41453 rows x 3 columns]",
      "text/html": "<div>\n<style scoped>\n    .dataframe tbody tr th:only-of-type {\n        vertical-align: middle;\n    }\n\n    .dataframe tbody tr th {\n        vertical-align: top;\n    }\n\n    .dataframe thead th {\n        text-align: right;\n    }\n</style>\n<table border=\"1\" class=\"dataframe\">\n  <thead>\n    <tr style=\"text-align: right;\">\n      <th></th>\n      <th>er30001</th>\n      <th>er33601</th>\n      <th>er33602</th>\n    </tr>\n  </thead>\n  <tbody>\n    <tr>\n      <th>0</th>\n      <td>4</td>\n      <td>96</td>\n      <td>1</td>\n    </tr>\n    <tr>\n      <th>1</th>\n      <td>4</td>\n      <td>5987</td>\n      <td>1</td>\n    </tr>\n    <tr>\n      <th>2</th>\n      <td>4</td>\n      <td>6872</td>\n      <td>2</td>\n    </tr>\n    <tr>\n      <th>3</th>\n      <td>4</td>\n      <td>5599</td>\n      <td>2</td>\n    </tr>\n    <tr>\n      <th>4</th>\n      <td>4</td>\n      <td>7091</td>\n      <td>1</td>\n    </tr>\n    <tr>\n      <th>...</th>\n      <td>...</td>\n      <td>...</td>\n      <td>...</td>\n    </tr>\n    <tr>\n      <th>41448</th>\n      <td>6872</td>\n      <td>5477</td>\n      <td>0</td>\n    </tr>\n    <tr>\n      <th>41449</th>\n      <td>6872</td>\n      <td>3616</td>\n      <td>0</td>\n    </tr>\n    <tr>\n      <th>41450</th>\n      <td>6872</td>\n      <td>3616</td>\n      <td>0</td>\n    </tr>\n    <tr>\n      <th>41451</th>\n      <td>6872</td>\n      <td>5477</td>\n      <td>0</td>\n    </tr>\n    <tr>\n      <th>41452</th>\n      <td>6872</td>\n      <td>5477</td>\n      <td>0</td>\n    </tr>\n  </tbody>\n</table>\n<p>41453 rows × 3 columns</p>\n</div>"
     },
     "execution_count": 36,
     "metadata": {},
     "output_type": "execute_result"
    }
   ],
   "source": [
    "df[['er30001','er33601','er33602']]"
   ],
   "metadata": {
    "collapsed": false
   }
  },
  {
   "cell_type": "code",
   "execution_count": 48,
   "outputs": [
    {
     "data": {
      "text/plain": "7407"
     },
     "execution_count": 48,
     "metadata": {},
     "output_type": "execute_result"
    }
   ],
   "source": [
    "df.er33601.nunique()"
   ],
   "metadata": {
    "collapsed": false
   }
  },
  {
   "cell_type": "code",
   "execution_count": 55,
   "outputs": [
    {
     "data": {
      "text/plain": "er33601\n0       3639\n4216      42\n6512      39\n4060      39\n297       35\n        ... \n5461       1\n6550       1\n6549       1\n4668       1\n6674       1\nName: pid, Length: 7407, dtype: int64"
     },
     "execution_count": 55,
     "metadata": {},
     "output_type": "execute_result"
    }
   ],
   "source": [
    "df.groupby('er33601').pid.count().sort_values(ascending=False)"
   ],
   "metadata": {
    "collapsed": false
   }
  },
  {
   "cell_type": "code",
   "execution_count": 60,
   "outputs": [
    {
     "data": {
      "text/plain": "Inap.:  from Latino sample (ER30001=7001-9308); from Immigrant 2017 sample (ER30001=4001-4851); main family nonresponse by 2001 or mover-out nonresponse by 1999 (ER33601=0); born or moved in after the 2001 interview (ER33601&gt;0 and ER33602=0)    17\nGrandson or granddaughter of Head (includes grandchildren of legal Wife (code 20), but those of a cohabitor are coded 97)                                                                                                                                5\nHead in 2001; 1999 Head who was mover-out nonresponse by the time of the 2001 interview                                                                                                                                                                  2\nGreat-grandson or great-granddaughter of Head (includes great-grandchildren of legal Wife (code 20), but those of a cohabitor are coded 97)                                                                                                              1\nGrandfather or grandmother of Head (includes stepgrandparents)                                                                                                                                                                                           0\nOther relative of cohabitor (the cohabitor is code 22 or 88)                                                                                                                                                                                             0\nOther relative of legal Wife (code 20)                                                                                                                                                                                                                   0\nOther relative of Head                                                                                                                                                                                                                                   0\nLegal husband of Head                                                                                                                                                                                                                                    0\nFirst-year cohabitor of Head                                                                                                                                                                                                                             0\nChildren of first-year cohabitor but not of Head (the parent of this child is coded 88)                                                                                                                                                                  0\nCousin of legal Wife (code 20)                                                                                                                                                                                                                           0\nCousin of Head                                                                                                                                                                                                                                           0\nUncle or Aunt of Head                                                                                                                                                                                                                                    0\nNephew or niece of legal Wife (code 20)                                                                                                                                                                                                                  0\nNephew or niece of Head                                                                                                                                                                                                                                  0\nGrandfather or grandmother of legal Wife (code 20)                                                                                                                                                                                                       0\nLegal Wife in 2001; 1999 Wife who was mover-out nonresponse by the time of the 2001 interview                                                                                                                                                            0\n&quot;Wife&quot;--female cohabitor who has lived with Head for 12 months or more; 1999 &quot;Wife&quot; who was mover-out nonresponse by the time of the 2001 interview                                                                                  0\nFather or mother of Head&apos;s cohabitor (the cohabitor is coded 22 or 88)                                                                                                                                                                              0\nFather-in-law or mother-in-law of Head (includes parents of legal wives (code 20) only)                                                                                                                                                                  0\nFather or mother of Head (includes stepparents)                                                                                                                                                                                                          0\nBrother or sister of Head&apos;s cohabitor (the cohabitor is coded 22 or 88)                                                                                                                                                                             0\nBrother-in-law or sister-in-law of Head; i.e., brother or sister of legal Wife, or spouse of Head&apos;s brother or sister.                                                                                                                              0\nBrother or sister of Head (includes step and half sisters and brothers)                                                                                                                                                                                  0\nFoster son or foster daughter, not legally adopted                                                                                                                                                                                                       0\nSon-in-law or daughter-in-law of Head (includes stepchildren-in-law)                                                                                                                                                                                     0\nSon or daughter of &quot;Wife&quot; but not Head (includes only those children of mothers whose relationship to Head is 22 but who are not children of Head)                                                                                             0\nStepson or stepdaughter of Head (children of legal Wife (code 20) who are not children of Head)                                                                                                                                                          0\nSon or daughter of Head (includes adopted children but not stepchildren)                                                                                                                                                                                 0\nOther nonrelatives (includes homosexual partners, friends of children of the FU, etc.)                                                                                                                                                                   0\nName: er33603, dtype: int64"
     },
     "execution_count": 60,
     "metadata": {},
     "output_type": "execute_result"
    }
   ],
   "source": [
    "df[df.er33601 == 6131].er33603.value_counts()"
   ],
   "metadata": {
    "collapsed": false
   }
  },
  {
   "cell_type": "code",
   "execution_count": 62,
   "outputs": [
    {
     "data": {
      "text/plain": "0     20053\n1      7406\n2      5708\n3      3638\n4      2243\n5       918\n71      392\n6       316\n51      258\n7       119\n81      114\n72      102\n73       44\n8        44\n52       41\n9        17\n74       16\n10        9\n53        5\n75        4\n11        3\n13        1\n12        1\n82        1\nName: er33602, dtype: Int64"
     },
     "execution_count": 62,
     "metadata": {},
     "output_type": "execute_result"
    }
   ],
   "source": [
    "df.er33602.value_counts()"
   ],
   "metadata": {
    "collapsed": false
   }
  },
  {
   "cell_type": "code",
   "execution_count": null,
   "outputs": [],
   "source": [],
   "metadata": {
    "collapsed": false
   }
  }
 ],
 "metadata": {
  "kernelspec": {
   "display_name": "Python 3 (ipykernel)",
   "language": "python",
   "name": "python3"
  },
  "language_info": {
   "codemirror_mode": {
    "name": "ipython",
    "version": 3
   },
   "file_extension": ".py",
   "mimetype": "text/x-python",
   "name": "python",
   "nbconvert_exporter": "python",
   "pygments_lexer": "ipython3",
   "version": "3.10.6"
  }
 },
 "nbformat": 4,
 "nbformat_minor": 4
}
