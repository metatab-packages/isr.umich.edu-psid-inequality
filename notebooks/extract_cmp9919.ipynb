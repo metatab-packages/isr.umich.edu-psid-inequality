{
 "cells": [
  {
   "cell_type": "code",
   "execution_count": 3,
   "metadata": {},
   "outputs": [
    {
     "name": "stdout",
     "output_type": "stream",
     "text": [
      "The autoreload extension is already loaded. To reload it, use:\n",
      "  %reload_ext autoreload\n"
     ]
    }
   ],
   "source": [
    "%load_ext autoreload\n",
    "%autoreload 2\n",
    "\n",
    "import seaborn as sns\n",
    "import metapack as mp\n",
    "import pandas as pd\n",
    "import numpy as np\n",
    "import matplotlib.pyplot as plt\n",
    "from IPython.display import display \n",
    "\n",
    "import re\n",
    "import xml.etree.ElementTree as ET\n",
    "import pandas as pd\n",
    "\n",
    "%matplotlib inline\n",
    "sns.set_context('notebook')\n",
    "mp.jupyter.init()\n"
   ]
  },
  {
   "cell_type": "code",
   "execution_count": 5,
   "metadata": {},
   "outputs": [
    {
     "data": {
      "text/plain": "'isr.umich.edu-psid-inequality-2.1.1'"
     },
     "execution_count": 5,
     "metadata": {},
     "output_type": "execute_result"
    }
   ],
   "source": [
    "#pkg = mp.jupyter.open_package()\n",
    "pkg = mp.jupyter.open_source_package()\n",
    "pkg.set_sys_path()\n",
    "from pylib import *\n",
    "pkg.name"
   ]
  },
  {
   "cell_type": "code",
   "execution_count": 6,
   "outputs": [],
   "source": [],
   "metadata": {
    "collapsed": false
   }
  },
  {
   "cell_type": "code",
   "execution_count": 8,
   "outputs": [],
   "source": [
    "def build(pkg, ref_name, resource_name):\n",
    "    # create URLs to the files inside the data distribution ZIP file\n",
    "\n",
    "    cmp9919_r = pkg.reference(ref_name)\n",
    "\n",
    "    df = open_dbf(cmp9919_r)\n",
    "\n",
    "    # Recommended construction of unique person id\n",
    "    df['pid'] = (df['ER30001']*1000) + df['ER30002']\n",
    "\n",
    "    varis = extract_varis(pkg) # All variables\n",
    "\n",
    "    cmp9919_mdf = extract_metadata(varis, cmp9919_r)\n",
    "\n",
    "    # Re-order the data dictionary\n",
    "    r = pkg.resource(resource_name)\n",
    "    mdf_sel = reorder_schema(r, cmp9919_mdf, df) # Dataframe of mdf in new order for schema\n",
    "\n",
    "    # Rebuild the package schema.\n",
    "    return  update_schema(r, mdf_sel, df)\n",
    "\n",
    "cmp9919 =  build(pkg, 'cmp9919_source', 'cmp9919')"
   ],
   "metadata": {
    "collapsed": false
   }
  },
  {
   "cell_type": "code",
   "execution_count": null,
   "outputs": [],
   "source": [],
   "metadata": {
    "collapsed": false
   }
  }
 ],
 "metadata": {
  "kernelspec": {
   "display_name": "Python 3 (ipykernel)",
   "language": "python",
   "name": "python3"
  },
  "language_info": {
   "codemirror_mode": {
    "name": "ipython",
    "version": 3
   },
   "file_extension": ".py",
   "mimetype": "text/x-python",
   "name": "python",
   "nbconvert_exporter": "python",
   "pygments_lexer": "ipython3",
   "version": "3.10.6"
  }
 },
 "nbformat": 4,
 "nbformat_minor": 4
}
