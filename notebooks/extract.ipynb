{
 "cells": [
  {
   "cell_type": "code",
   "execution_count": 1,
   "metadata": {},
   "outputs": [],
   "source": [
    "import seaborn as sns\n",
    "import metapack as mp\n",
    "import pandas as pd\n",
    "import numpy as np\n",
    "import matplotlib.pyplot as plt\n",
    "from IPython.display import display \n",
    "\n",
    "import re\n",
    "import xml.etree.ElementTree as ET\n",
    "import pandas as pd\n",
    "\n",
    "%matplotlib inline\n",
    "sns.set_context('notebook')\n",
    "mp.jupyter.init()\n"
   ]
  },
  {
   "cell_type": "code",
   "execution_count": 2,
   "metadata": {},
   "outputs": [
    {
     "data": {
      "text/plain": "\n`isr.umich.edu-psid-inequality-1.1.1` Last Update: 2023-06-06T04:38:40\n\n__\n\n\n\n## Updating Data\n\nTo update the data, use the data extration tool at the (PSID website. )[https://simba.isr.umich.edu/Cart/co.aspx], adding any new variables to your data cart. The (variable entry text box)[https://simba.isr.umich.edu/DC/l.aspx] is a handy way to copy the existing varibles into a new cart.  When you checkout your data cart, ( click on the cart icon ) fetch your dataset with these options: \n\n* Codebook Type: XML\n* Data output type: dBase Data File, create compressed file\n\nDownload the ZIP file ( you might have to recompress it if your browser unpacks it ) and move it into the ``data`` directory. Set the reference to the new ZIP file, then re-build the package.\n## Documentation Links\n\n* [PSID Homepage](https://psidonline.isr.umich.edu/default.aspx) \n\n \n\n## Contacts\n\n* **Wrangler** [Eric Busboom](mailto:eric@civicknowledge.com), [Civic Knowledge](http://civicknowledge.com)\n\n## Resources\n\n* **[psid_ineq](notebooks/extract.ipynb#df)**. PSID, Inequality extract\n* **[_labels](notebooks/extract.ipynb#labels)**. Categorical value labels\n* **[data_dictionary](notebooks/extract.ipynb#mdf)**. List of Variables\n\n## References\n<ul><li> <strong><a href=\"https://psidonline.isr.umich.edu/help/xyr/psid.xlsx\">variables</a></strong>. Variable descriptions, in a cross-year format.</li><li> <strong>source</string>, <em>data/J321027.zip</em>. Downloaded source file</li><ul>\n",
      "text/html": "<p><code>isr.umich.edu-psid-inequality-1.1.1</code> Last Update: 2023-06-06T04:38:40</p>\n<p>__</p>\n<h2>Updating Data</h2>\n<p>To update the data, use the data extration tool at the (PSID website. )[https://simba.isr.umich.edu/Cart/co.aspx], adding any new variables to your data cart. The (variable entry text box)[https://simba.isr.umich.edu/DC/l.aspx] is a handy way to copy the existing varibles into a new cart.  When you checkout your data cart, ( click on the cart icon ) fetch your dataset with these options: </p>\n<ul>\n<li>Codebook Type: XML</li>\n<li>Data output type: dBase Data File, create compressed file</li>\n</ul>\n<p>Download the ZIP file ( you might have to recompress it if your browser unpacks it ) and move it into the <code>data</code> directory. Set the reference to the new ZIP file, then re-build the package.</p>\n<h2>Documentation Links</h2>\n<ul>\n<li><a href=\"https://psidonline.isr.umich.edu/default.aspx\">PSID Homepage</a> </li>\n</ul>\n<h2>Contacts</h2>\n<ul>\n<li><strong>Wrangler</strong> <a href=\"mailto:eric@civicknowledge.com\">Eric Busboom</a>, <a href=\"http://civicknowledge.com\">Civic Knowledge</a></li>\n</ul>\n<h2>Resources</h2>\n<ul>\n<li><strong><a href=\"notebooks/extract.ipynb#df\">psid_ineq</a></strong>. PSID, Inequality extract</li>\n<li><strong><a href=\"notebooks/extract.ipynb#labels\">_labels</a></strong>. Categorical value labels</li>\n<li><strong><a href=\"notebooks/extract.ipynb#mdf\">data_dictionary</a></strong>. List of Variables</li>\n</ul>\n<h2>References</h2>\n<ul><li> <strong><a href=\"https://psidonline.isr.umich.edu/help/xyr/psid.xlsx\">variables</a></strong>. Variable descriptions, in a cross-year format.</li><li> <strong>source</string>, <em>data/J321027.zip</em>. Downloaded source file</li><ul>"
     },
     "execution_count": 2,
     "metadata": {},
     "output_type": "execute_result"
    }
   ],
   "source": [
    "#pkg = mp.jupyter.open_package()\n",
    "pkg = mp.jupyter.open_source_package()\n",
    "pkg.set_sys_path()\n",
    "from pylib import *\n",
    "pkg"
   ]
  },
  {
   "cell_type": "code",
   "execution_count": 3,
   "outputs": [
    {
     "data": {
      "text/plain": "<ZipUrl file:///Users/eric/proj/data-projects/metatab-packages/umich.edu/isr.umich.edu-psid-inequality/data/J321027.zip#J321027_codebook.xml>"
     },
     "execution_count": 3,
     "metadata": {},
     "output_type": "execute_result"
    }
   ],
   "source": [
    "# create URLs to the files inside the data distribution ZIP file\n",
    "surl   = pkg.reference('source').resolved_url\n",
    "base_name = surl.resource_file.split('.')[0]\n",
    "database_url = surl.set_target_file(base_name+'.dbf')\n",
    "codebook_url = surl.set_target_file(base_name+'_codebook.xml')\n",
    "\n",
    "codebook_url"
   ],
   "metadata": {
    "collapsed": false
   }
  },
  {
   "cell_type": "code",
   "execution_count": 4,
   "metadata": {},
   "outputs": [
    {
     "name": "stdout",
     "output_type": "stream",
     "text": [
      "PyTables is not installed. No support for HDF output.\n"
     ]
    }
   ],
   "source": [
    "from simpledbf import Dbf5\n",
    "dbf = Dbf5(database_url.get_target().fspath)\n",
    "df = dbf.to_dataframe()\n",
    "\n",
    "# Make everything as numerical as possible\n",
    "for c in df.columns:\n",
    "    df[c] = pd.to_numeric(df[c])\n"
   ]
  },
  {
   "cell_type": "code",
   "execution_count": 5,
   "metadata": {},
   "outputs": [
    {
     "name": "stderr",
     "output_type": "stream",
     "text": [
      "/var/folders/kp/jn04x74j43j9v0t6cl0574h00000gn/T/ipykernel_49353/1716784282.py:2: PerformanceWarning: DataFrame is highly fragmented.  This is usually the result of calling `frame.insert` many times, which has poor performance.  Consider joining all columns at once using pd.concat(axis=1) instead. To get a de-fragmented frame, use `newframe = frame.copy()`\n",
      "  df['pid'] = df['ER30001'] + df['ER30002']\n"
     ]
    }
   ],
   "source": [
    "\n",
    "# Recommended construction of unique persion id\n",
    "df['pid'] = df['ER30001'] + df['ER30002']\n",
    "\n",
    "# opening_columns. These should always be at the start of the schema. \n",
    "init_cols = ['ER30000','ER30001','ER30002']\n"
   ]
  },
  {
   "cell_type": "code",
   "execution_count": 6,
   "metadata": {},
   "outputs": [
    {
     "data": {
      "text/plain": "   year type_id     name                                     label  \\\n0  1968       0  ER30000                            RELEASE NUMBER   \n1  1968       0  ER30001                     1968 INTERVIEW NUMBER   \n2  1968       0  ER30002  PERSON NUMBER                         68   \n3  2001       1  ER17001                            RELEASE NUMBER   \n4  2001       1  ER17012                                   # IN FU   \n\n                                               qtext  \\\n0                                   Release Number     \n1             1968 Interview Number (1968 ID Number)   \n2                                      Person Number   \n3                                     Release Number   \n4  Number of Persons in FU at the Time of the 200...   \n\n                                               etext           type  \\\n0   For Release 2 we have updated Relation to Hea...     INDIVIDUAL   \n1   This variable is the 1968 family ID number. T...     INDIVIDUAL   \n2                                                        INDIVIDUAL   \n3  May 2008:  Variables ER20395-ER20458, formerly...  FAMILY PUBLIC   \n4  This variable represents the actual number of ...  FAMILY PUBLIC   \n\n             category                                               text  \\\n0  SURVEY INFORMATION  01>SURVEY INFORMATION:\\n02>Interview Informati...   \n1  SURVEY INFORMATION  01>SURVEY INFORMATION:\\n02>Interview Informati...   \n2  SURVEY INFORMATION  01>SURVEY INFORMATION:\\n02>Interview Informati...   \n3  SURVEY INFORMATION  01>SURVEY INFORMATION\\n02>Interview Informatio...   \n4  FAMILY COMPOSITION  01>FAMILY COMPOSITION\\n02>Current:\\n03>number ...   \n\n  head_wife  var_count                                               path  \n0                  1.0  /survey information:/interview information/rel...  \n1                 41.0  /survey information:/interview information/id ...  \n2                  1.0  /survey information:/interview information/per...  \n3                 16.0  /survey information/interview information/rele...  \n4                 41.0  /family composition/current:/number in family ...  ",
      "text/html": "<div>\n<style scoped>\n    .dataframe tbody tr th:only-of-type {\n        vertical-align: middle;\n    }\n\n    .dataframe tbody tr th {\n        vertical-align: top;\n    }\n\n    .dataframe thead th {\n        text-align: right;\n    }\n</style>\n<table border=\"1\" class=\"dataframe\">\n  <thead>\n    <tr style=\"text-align: right;\">\n      <th></th>\n      <th>year</th>\n      <th>type_id</th>\n      <th>name</th>\n      <th>label</th>\n      <th>qtext</th>\n      <th>etext</th>\n      <th>type</th>\n      <th>category</th>\n      <th>text</th>\n      <th>head_wife</th>\n      <th>var_count</th>\n      <th>path</th>\n    </tr>\n  </thead>\n  <tbody>\n    <tr>\n      <th>0</th>\n      <td>1968</td>\n      <td>0</td>\n      <td>ER30000</td>\n      <td>RELEASE NUMBER</td>\n      <td>Release Number</td>\n      <td>For Release 2 we have updated Relation to Hea...</td>\n      <td>INDIVIDUAL</td>\n      <td>SURVEY INFORMATION</td>\n      <td>01&gt;SURVEY INFORMATION:\\n02&gt;Interview Informati...</td>\n      <td></td>\n      <td>1.0</td>\n      <td>/survey information:/interview information/rel...</td>\n    </tr>\n    <tr>\n      <th>1</th>\n      <td>1968</td>\n      <td>0</td>\n      <td>ER30001</td>\n      <td>1968 INTERVIEW NUMBER</td>\n      <td>1968 Interview Number (1968 ID Number)</td>\n      <td>This variable is the 1968 family ID number. T...</td>\n      <td>INDIVIDUAL</td>\n      <td>SURVEY INFORMATION</td>\n      <td>01&gt;SURVEY INFORMATION:\\n02&gt;Interview Informati...</td>\n      <td></td>\n      <td>41.0</td>\n      <td>/survey information:/interview information/id ...</td>\n    </tr>\n    <tr>\n      <th>2</th>\n      <td>1968</td>\n      <td>0</td>\n      <td>ER30002</td>\n      <td>PERSON NUMBER                         68</td>\n      <td>Person Number</td>\n      <td></td>\n      <td>INDIVIDUAL</td>\n      <td>SURVEY INFORMATION</td>\n      <td>01&gt;SURVEY INFORMATION:\\n02&gt;Interview Informati...</td>\n      <td></td>\n      <td>1.0</td>\n      <td>/survey information:/interview information/per...</td>\n    </tr>\n    <tr>\n      <th>3</th>\n      <td>2001</td>\n      <td>1</td>\n      <td>ER17001</td>\n      <td>RELEASE NUMBER</td>\n      <td>Release Number</td>\n      <td>May 2008:  Variables ER20395-ER20458, formerly...</td>\n      <td>FAMILY PUBLIC</td>\n      <td>SURVEY INFORMATION</td>\n      <td>01&gt;SURVEY INFORMATION\\n02&gt;Interview Informatio...</td>\n      <td></td>\n      <td>16.0</td>\n      <td>/survey information/interview information/rele...</td>\n    </tr>\n    <tr>\n      <th>4</th>\n      <td>2001</td>\n      <td>1</td>\n      <td>ER17012</td>\n      <td># IN FU</td>\n      <td>Number of Persons in FU at the Time of the 200...</td>\n      <td>This variable represents the actual number of ...</td>\n      <td>FAMILY PUBLIC</td>\n      <td>FAMILY COMPOSITION</td>\n      <td>01&gt;FAMILY COMPOSITION\\n02&gt;Current:\\n03&gt;number ...</td>\n      <td></td>\n      <td>41.0</td>\n      <td>/family composition/current:/number in family ...</td>\n    </tr>\n  </tbody>\n</table>\n</div>"
     },
     "execution_count": 6,
     "metadata": {},
     "output_type": "execute_result"
    }
   ],
   "source": [
    "# The Path has some useful information about the variable.\n",
    "varis = pkg.reference('variables').dataframe()\n",
    "\n",
    "t = varis.set_index(['TYPE', 'CATEGORY', 'TEXT', 'HEAD_WIFE', 'VAR_COUNT'])\n",
    "t = t.stack().to_frame('NAME')\n",
    "\n",
    "t = t.reset_index()\n",
    "t.columns = ['type','category','text','head_wife','var_count','year','name']\n",
    "\n",
    "varis = t\n",
    "\n",
    "varis['path'] = varis.text.apply(clean_text)\n",
    "varis['year'] = varis.year.apply(lambda v: int(v[1:]) )\n",
    "\n",
    "# XML Codebook is the main source of variable information\n",
    "\n",
    "mdf = xml_to_dataframe(codebook_url.get_target().fspath)\n",
    "mdf['YEAR'] = pd.to_numeric(mdf.YEAR)\n",
    "mdf.columns = [c.lower() for c in mdf.columns]\n",
    "t = mdf.merge(varis, on= ('year','name' ))\n",
    "\n",
    "t['qtext'] = t.qtext.apply(lambda v: v.replace('\\n',' ') )\n",
    "t['etext'] = t.etext.apply(lambda v: v.replace('\\n',' ') )\n",
    "\n",
    "mdf = t\n",
    "mdf.head()"
   ]
  },
  {
   "cell_type": "markdown",
   "source": [],
   "metadata": {
    "collapsed": false
   }
  },
  {
   "cell_type": "code",
   "execution_count": 7,
   "outputs": [
    {
     "data": {
      "text/plain": "     year type_id     name                                     label  \\\n1    1968       0  ER30001                     1968 INTERVIEW NUMBER   \n2    1968       0  ER30002  PERSON NUMBER                         68   \n0    1968       0  ER30000                            RELEASE NUMBER   \n56   2001       2  ER33601                     2001 INTERVIEW NUMBER   \n119  2003       2  ER33701                     2003 INTERVIEW NUMBER   \n..    ...     ...      ...                                       ...   \n530  2015       1  ER64873       L72 OCCUPATION 1ST FULL TIME JOB-HD   \n177  2005       1  ER27446   L72-72A OCCUPATION 1ST FULL TIME JOB-HD   \n246  2007       1  ER40618   L72-72A OCCUPATION 1ST FULL TIME JOB-HD   \n315  2009       1  ER46596   L72-72A OCCUPATION 1ST FULL TIME JOB-HD   \n109  2003       1  ER23478      L72-72A OCCUPATION 1ST FULL-TIME JOB   \n\n                                                 qtext  \\\n1               1968 Interview Number (1968 ID Number)   \n2                                        Person Number   \n0                                     Release Number     \n56              2001 Interview Number (2001 ID Number)   \n119             2003 Interview Number (2003 ID Number)   \n..                                                 ...   \n530  L72. Thinking of (your/his/her) first full-tim...   \n177  L72. Thinking of your first full-time regular ...   \n246  L72. Thinking of your first full-time regular ...   \n315  L72. Thinking of your first full-time regular ...   \n109  L72. Thinking of your first full-time regular ...   \n\n                                                 etext           type  \\\n1     This variable is the 1968 family ID number. T...     INDIVIDUAL   \n2                                                          INDIVIDUAL   \n0     For Release 2 we have updated Relation to Hea...     INDIVIDUAL   \n56   The values for this variable represent the 200...     INDIVIDUAL   \n119  The values for this variable represent the 200...     INDIVIDUAL   \n..                                                 ...            ...   \n530   The 3-digit occupation code from 2000 CENSUS ...  FAMILY PUBLIC   \n177  See the note at ER27352.  The 3-digit occupati...  FAMILY PUBLIC   \n246  See the note at ER40527.  The 3-digit occupati...  FAMILY PUBLIC   \n315  See the note at ER46504.  The 3-digit occupati...  FAMILY PUBLIC   \n109  See the note at ER23388.  The 3-digit occupati...  FAMILY PUBLIC   \n\n               category                                               text  \\\n1    SURVEY INFORMATION  01>SURVEY INFORMATION:\\n02>Interview Informati...   \n2    SURVEY INFORMATION  01>SURVEY INFORMATION:\\n02>Interview Informati...   \n0    SURVEY INFORMATION  01>SURVEY INFORMATION:\\n02>Interview Informati...   \n56   SURVEY INFORMATION  01>SURVEY INFORMATION:\\n02>Interview Informati...   \n119  SURVEY INFORMATION  01>SURVEY INFORMATION:\\n02>Interview Informati...   \n..                  ...                                                ...   \n530                WORK  01>WORK\\n02>Occupation\\n03>1st full-time job\\n...   \n177                WORK  01>WORK\\n02>Occupation\\n03>1st full-time job\\n...   \n246                WORK  01>WORK\\n02>Occupation\\n03>1st full-time job\\n...   \n315                WORK  01>WORK\\n02>Occupation\\n03>1st full-time job\\n...   \n109                WORK  01>WORK\\n02>Occupation\\n03>1st full-time job\\n...   \n\n    head_wife  var_count                                               path  \n1                   41.0  /survey information:/interview information/id ...  \n2                    1.0  /survey information:/interview information/per...  \n0                    1.0  /survey information:/interview information/rel...  \n56                  41.0  /survey information:/interview information/id ...  \n119                 41.0  /survey information:/interview information/id ...  \n..        ...        ...                                                ...  \n530      HEAD        7.0  /work/occupation/st full-time job/-digit,  cen...  \n177      HEAD        7.0  /work/occupation/st full-time job/-digit,  cen...  \n246      HEAD        7.0  /work/occupation/st full-time job/-digit,  cen...  \n315      HEAD        7.0  /work/occupation/st full-time job/-digit,  cen...  \n109      HEAD        7.0  /work/occupation/st full-time job/-digit,  cen...  \n\n[687 rows x 12 columns]",
      "text/html": "<div>\n<style scoped>\n    .dataframe tbody tr th:only-of-type {\n        vertical-align: middle;\n    }\n\n    .dataframe tbody tr th {\n        vertical-align: top;\n    }\n\n    .dataframe thead th {\n        text-align: right;\n    }\n</style>\n<table border=\"1\" class=\"dataframe\">\n  <thead>\n    <tr style=\"text-align: right;\">\n      <th></th>\n      <th>year</th>\n      <th>type_id</th>\n      <th>name</th>\n      <th>label</th>\n      <th>qtext</th>\n      <th>etext</th>\n      <th>type</th>\n      <th>category</th>\n      <th>text</th>\n      <th>head_wife</th>\n      <th>var_count</th>\n      <th>path</th>\n    </tr>\n  </thead>\n  <tbody>\n    <tr>\n      <th>1</th>\n      <td>1968</td>\n      <td>0</td>\n      <td>ER30001</td>\n      <td>1968 INTERVIEW NUMBER</td>\n      <td>1968 Interview Number (1968 ID Number)</td>\n      <td>This variable is the 1968 family ID number. T...</td>\n      <td>INDIVIDUAL</td>\n      <td>SURVEY INFORMATION</td>\n      <td>01&gt;SURVEY INFORMATION:\\n02&gt;Interview Informati...</td>\n      <td></td>\n      <td>41.0</td>\n      <td>/survey information:/interview information/id ...</td>\n    </tr>\n    <tr>\n      <th>2</th>\n      <td>1968</td>\n      <td>0</td>\n      <td>ER30002</td>\n      <td>PERSON NUMBER                         68</td>\n      <td>Person Number</td>\n      <td></td>\n      <td>INDIVIDUAL</td>\n      <td>SURVEY INFORMATION</td>\n      <td>01&gt;SURVEY INFORMATION:\\n02&gt;Interview Informati...</td>\n      <td></td>\n      <td>1.0</td>\n      <td>/survey information:/interview information/per...</td>\n    </tr>\n    <tr>\n      <th>0</th>\n      <td>1968</td>\n      <td>0</td>\n      <td>ER30000</td>\n      <td>RELEASE NUMBER</td>\n      <td>Release Number</td>\n      <td>For Release 2 we have updated Relation to Hea...</td>\n      <td>INDIVIDUAL</td>\n      <td>SURVEY INFORMATION</td>\n      <td>01&gt;SURVEY INFORMATION:\\n02&gt;Interview Informati...</td>\n      <td></td>\n      <td>1.0</td>\n      <td>/survey information:/interview information/rel...</td>\n    </tr>\n    <tr>\n      <th>56</th>\n      <td>2001</td>\n      <td>2</td>\n      <td>ER33601</td>\n      <td>2001 INTERVIEW NUMBER</td>\n      <td>2001 Interview Number (2001 ID Number)</td>\n      <td>The values for this variable represent the 200...</td>\n      <td>INDIVIDUAL</td>\n      <td>SURVEY INFORMATION</td>\n      <td>01&gt;SURVEY INFORMATION:\\n02&gt;Interview Informati...</td>\n      <td></td>\n      <td>41.0</td>\n      <td>/survey information:/interview information/id ...</td>\n    </tr>\n    <tr>\n      <th>119</th>\n      <td>2003</td>\n      <td>2</td>\n      <td>ER33701</td>\n      <td>2003 INTERVIEW NUMBER</td>\n      <td>2003 Interview Number (2003 ID Number)</td>\n      <td>The values for this variable represent the 200...</td>\n      <td>INDIVIDUAL</td>\n      <td>SURVEY INFORMATION</td>\n      <td>01&gt;SURVEY INFORMATION:\\n02&gt;Interview Informati...</td>\n      <td></td>\n      <td>41.0</td>\n      <td>/survey information:/interview information/id ...</td>\n    </tr>\n    <tr>\n      <th>...</th>\n      <td>...</td>\n      <td>...</td>\n      <td>...</td>\n      <td>...</td>\n      <td>...</td>\n      <td>...</td>\n      <td>...</td>\n      <td>...</td>\n      <td>...</td>\n      <td>...</td>\n      <td>...</td>\n      <td>...</td>\n    </tr>\n    <tr>\n      <th>530</th>\n      <td>2015</td>\n      <td>1</td>\n      <td>ER64873</td>\n      <td>L72 OCCUPATION 1ST FULL TIME JOB-HD</td>\n      <td>L72. Thinking of (your/his/her) first full-tim...</td>\n      <td>The 3-digit occupation code from 2000 CENSUS ...</td>\n      <td>FAMILY PUBLIC</td>\n      <td>WORK</td>\n      <td>01&gt;WORK\\n02&gt;Occupation\\n03&gt;1st full-time job\\n...</td>\n      <td>HEAD</td>\n      <td>7.0</td>\n      <td>/work/occupation/st full-time job/-digit,  cen...</td>\n    </tr>\n    <tr>\n      <th>177</th>\n      <td>2005</td>\n      <td>1</td>\n      <td>ER27446</td>\n      <td>L72-72A OCCUPATION 1ST FULL TIME JOB-HD</td>\n      <td>L72. Thinking of your first full-time regular ...</td>\n      <td>See the note at ER27352.  The 3-digit occupati...</td>\n      <td>FAMILY PUBLIC</td>\n      <td>WORK</td>\n      <td>01&gt;WORK\\n02&gt;Occupation\\n03&gt;1st full-time job\\n...</td>\n      <td>HEAD</td>\n      <td>7.0</td>\n      <td>/work/occupation/st full-time job/-digit,  cen...</td>\n    </tr>\n    <tr>\n      <th>246</th>\n      <td>2007</td>\n      <td>1</td>\n      <td>ER40618</td>\n      <td>L72-72A OCCUPATION 1ST FULL TIME JOB-HD</td>\n      <td>L72. Thinking of your first full-time regular ...</td>\n      <td>See the note at ER40527.  The 3-digit occupati...</td>\n      <td>FAMILY PUBLIC</td>\n      <td>WORK</td>\n      <td>01&gt;WORK\\n02&gt;Occupation\\n03&gt;1st full-time job\\n...</td>\n      <td>HEAD</td>\n      <td>7.0</td>\n      <td>/work/occupation/st full-time job/-digit,  cen...</td>\n    </tr>\n    <tr>\n      <th>315</th>\n      <td>2009</td>\n      <td>1</td>\n      <td>ER46596</td>\n      <td>L72-72A OCCUPATION 1ST FULL TIME JOB-HD</td>\n      <td>L72. Thinking of your first full-time regular ...</td>\n      <td>See the note at ER46504.  The 3-digit occupati...</td>\n      <td>FAMILY PUBLIC</td>\n      <td>WORK</td>\n      <td>01&gt;WORK\\n02&gt;Occupation\\n03&gt;1st full-time job\\n...</td>\n      <td>HEAD</td>\n      <td>7.0</td>\n      <td>/work/occupation/st full-time job/-digit,  cen...</td>\n    </tr>\n    <tr>\n      <th>109</th>\n      <td>2003</td>\n      <td>1</td>\n      <td>ER23478</td>\n      <td>L72-72A OCCUPATION 1ST FULL-TIME JOB</td>\n      <td>L72. Thinking of your first full-time regular ...</td>\n      <td>See the note at ER23388.  The 3-digit occupati...</td>\n      <td>FAMILY PUBLIC</td>\n      <td>WORK</td>\n      <td>01&gt;WORK\\n02&gt;Occupation\\n03&gt;1st full-time job\\n...</td>\n      <td>HEAD</td>\n      <td>7.0</td>\n      <td>/work/occupation/st full-time job/-digit,  cen...</td>\n    </tr>\n  </tbody>\n</table>\n<p>687 rows × 12 columns</p>\n</div>"
     },
     "execution_count": 7,
     "metadata": {},
     "output_type": "execute_result"
    }
   ],
   "source": [
    "# Re-order the data dictionary\n",
    "mdf_sel = mdf[mdf.name.isin(df.columns)].copy()\n",
    "\n",
    "mdf_sel = mdf_sel.sort_values(['category', 'label', 'year'])\n",
    "\n",
    "is_init = mdf_sel['name'].isin(init_cols)\n",
    "is_si = mdf_sel.category == 'SURVEY INFORMATION'\n",
    "\n",
    "a = mdf_sel.loc[ is_init ]\n",
    "b = mdf_sel.loc[~is_init &  is_si]\n",
    "c = mdf_sel.loc[~is_init & ~is_si]\n",
    "\n",
    "mdf_sel = pd.concat([a,b,c])\n",
    "\n",
    "mdf_sel"
   ],
   "metadata": {
    "collapsed": false
   }
  },
  {
   "cell_type": "code",
   "execution_count": 8,
   "outputs": [],
   "source": [
    "pkg = mp.jupyter.open_source_package()\n",
    "ss = pkg['Schema']\n",
    "ss.args = ['DataType',  'Year', 'Label', 'Category', 'Description', 'Has_codes', 'Labels']\n",
    "\n",
    "st = pkg.resource('psid_ineq').schema_term\n",
    "\n",
    "# Clears out all of the schema children.\n",
    "\n",
    "\n",
    "for c in st.children:\n",
    "    ss.remove_term(c)\n",
    "st.children = []\n",
    "\n",
    "final_cols = ['pid'] + list(mdf_sel.name)\n",
    "\n",
    "st.new_child('Table.Column','pid', DataType='integer',Description='Constructed person id')\n",
    "\n",
    "for idx, c in mdf_sel.iterrows():\n",
    "    t = st.new_child('Table.Column', c['name'].lower())\n",
    "    t['DataType'] = 'number' if df[c['name']].dtype == 'float64' else 'integer'\n",
    "    t['Year'] = c.year\n",
    "    t['Label'] = c.label\n",
    "    t['Category'] = c.category\n",
    "    t['Description'] = (c.qtext+\": \"+c.etext).strip()\n",
    "\n",
    "pkg.write()\n",
    "\n",
    "\n",
    "# Make df match\n",
    "\n",
    "df = df[final_cols]\n"
   ],
   "metadata": {
    "collapsed": false
   }
  },
  {
   "cell_type": "code",
   "execution_count": 9,
   "metadata": {},
   "outputs": [
    {
     "ename": "NameError",
     "evalue": "name 'codebook_path' is not defined",
     "output_type": "error",
     "traceback": [
      "\u001B[0;31m---------------------------------------------------------------------------\u001B[0m",
      "\u001B[0;31mNameError\u001B[0m                                 Traceback (most recent call last)",
      "Cell \u001B[0;32mIn [9], line 1\u001B[0m\n\u001B[0;32m----> 1\u001B[0m labels \u001B[38;5;241m=\u001B[39m extract_code_labels(\u001B[43mcodebook_path\u001B[49m)\n\u001B[1;32m      2\u001B[0m labels \u001B[38;5;241m=\u001B[39m labels\u001B[38;5;241m.\u001B[39mrename(columns\u001B[38;5;241m=\u001B[39m{\u001B[38;5;124m'\u001B[39m\u001B[38;5;124mname\u001B[39m\u001B[38;5;124m'\u001B[39m:\u001B[38;5;124m'\u001B[39m\u001B[38;5;124mcolumn\u001B[39m\u001B[38;5;124m'\u001B[39m,\u001B[38;5;124m'\u001B[39m\u001B[38;5;124mvalue\u001B[39m\u001B[38;5;124m'\u001B[39m:\u001B[38;5;124m'\u001B[39m\u001B[38;5;124mcode\u001B[39m\u001B[38;5;124m'\u001B[39m})\n\u001B[1;32m      3\u001B[0m labels[\u001B[38;5;124m'\u001B[39m\u001B[38;5;124mcolumn\u001B[39m\u001B[38;5;124m'\u001B[39m] \u001B[38;5;241m=\u001B[39m labels[\u001B[38;5;124m'\u001B[39m\u001B[38;5;124mcolumn\u001B[39m\u001B[38;5;124m'\u001B[39m]\u001B[38;5;241m.\u001B[39mstr\u001B[38;5;241m.\u001B[39mlower()\n",
      "\u001B[0;31mNameError\u001B[0m: name 'codebook_path' is not defined"
     ]
    }
   ],
   "source": [
    "labels = extract_code_labels(codebook_path)\n",
    "labels = labels.rename(columns={'name':'column','value':'code'})\n",
    "labels['column'] = labels['column'].str.lower()\n",
    "\n",
    "rows = []\n",
    "for idx, r in labels.iterrows():\n",
    "    code = clean_code(r.code)\n",
    "\n",
    "    if isinstance(code, list):\n",
    "        \n",
    "        r['code'] = np.nan\n",
    "        r['low'], r['high'] = code\n",
    "    elif isinstance(code, int):\n",
    "        r['code'] = code\n",
    "    else:\n",
    "        assert False # Looks like this never actually happens\n",
    "        r['value'] = code\n",
    "        \n",
    "    rows.append(r)\n",
    "    \n",
    "labels = pd.DataFrame(rows)\n",
    "labels = labels[['column','code', 'low','high','label']]\n",
    "\n",
    "#\n",
    "# for columns where there is a mix of codes and high/low, move everything\n",
    "# over to value/high/low\n",
    "# \n",
    "\n",
    "mixed_cols = []\n",
    "\n",
    "for gn, g in labels.groupby('column'):\n",
    "    \n",
    "    # Either all of the codes are Nan, or all of the High/Low are nan, \n",
    "    # but there should never be some of each\n",
    "    \n",
    "    code_nans = g.code.isnull().sum()\n",
    "    low_nans = g.low.isnull().sum()\n",
    "    high_nans = g.high.isnull().sum()\n",
    "    \n",
    "    assert low_nans == high_nans\n",
    "    \n",
    "    if code_nans > 0 and low_nans > 0:\n",
    "        mixed_cols.append(gn)\n",
    "        \n",
    "mc_idx = labels.column.isin(mixed_cols)& (~labels.code.isnull())\n",
    "    \n",
    "\n",
    "labels.loc[mc_idx,'low' ] = labels.code\n",
    "labels.loc[mc_idx,'high' ] = labels.code   \n",
    "labels.loc[mc_idx,'code' ] = np.nan\n",
    "\n",
    "labels.sample(10)\n",
    "\n"
   ]
  },
  {
   "cell_type": "code",
   "execution_count": null,
   "metadata": {},
   "outputs": [],
   "source": [
    "mc_idx = (labels.low == labels.high)\n",
    "cols = labels.loc[mc_idx].column.unique()\n",
    "labels[labels.column.isin(cols)].sample(10)"
   ]
  },
  {
   "cell_type": "code",
   "execution_count": null,
   "metadata": {},
   "outputs": [],
   "source": []
  },
  {
   "cell_type": "code",
   "execution_count": null,
   "metadata": {},
   "outputs": [],
   "source": [
    "mdf_map = { r['name']:r for idx, r in mdf.iterrows() }\n",
    "mdf.head().T"
   ]
  },
  {
   "cell_type": "code",
   "execution_count": null,
   "metadata": {},
   "outputs": [],
   "source": [
    "\n",
    "\n"
   ]
  }
 ],
 "metadata": {
  "kernelspec": {
   "display_name": "Python 3 (ipykernel)",
   "language": "python",
   "name": "python3"
  },
  "language_info": {
   "codemirror_mode": {
    "name": "ipython",
    "version": 3
   },
   "file_extension": ".py",
   "mimetype": "text/x-python",
   "name": "python",
   "nbconvert_exporter": "python",
   "pygments_lexer": "ipython3",
   "version": "3.10.6"
  }
 },
 "nbformat": 4,
 "nbformat_minor": 4
}
