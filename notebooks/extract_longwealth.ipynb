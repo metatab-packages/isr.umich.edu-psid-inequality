{
 "cells": [
  {
   "cell_type": "code",
   "execution_count": 10,
   "metadata": {},
   "outputs": [
    {
     "name": "stdout",
     "output_type": "stream",
     "text": [
      "The autoreload extension is already loaded. To reload it, use:\n",
      "  %reload_ext autoreload\n"
     ]
    }
   ],
   "source": [
    "%load_ext autoreload\n",
    "%autoreload 2\n",
    "\n",
    "import seaborn as sns\n",
    "import metapack as mp\n",
    "import pandas as pd\n",
    "import numpy as np\n",
    "import matplotlib.pyplot as plt\n",
    "from IPython.display import display\n",
    "\n",
    "import re\n",
    "import xml.etree.ElementTree as ET\n",
    "import pandas as pd\n",
    "\n",
    "%matplotlib inline\n",
    "sns.set_context('notebook')\n",
    "mp.jupyter.init()\n"
   ]
  },
  {
   "cell_type": "code",
   "execution_count": 11,
   "metadata": {},
   "outputs": [
    {
     "data": {
      "text/plain": "'isr.umich.edu-psid-inequality-3.2.1'"
     },
     "execution_count": 11,
     "metadata": {},
     "output_type": "execute_result"
    }
   ],
   "source": [
    "#pkg = mp.jupyter.open_package()\n",
    "pkg = mp.jupyter.open_source_package()\n",
    "pkg.set_sys_path()\n",
    "from pylib import *\n",
    "\n",
    "pkg.name"
   ]
  },
  {
   "cell_type": "code",
   "execution_count": 12,
   "outputs": [],
   "source": [
    "varis = pkg.resource('variables').dataframe() # Can also do extract_varis(pkg)"
   ],
   "metadata": {
    "collapsed": false
   }
  },
  {
   "cell_type": "code",
   "execution_count": 13,
   "outputs": [
    {
     "data": {
      "text/plain": "           pid  ER30001  ER30002  ER30000  ER33501  ER33503  ER13001  ER33502  \\\n0         4001        4        1        3        3       10      8.0        1   \n1         4003        4        3        3        2       10      8.0        1   \n2         4004        4        4        3     6129       10      8.0        1   \n3         4006        4        6        3     4920       22      8.0        2   \n4         4007        4        7        3     6944       10      8.0        1   \n...        ...      ...      ...      ...      ...      ...      ...      ...   \n17484  6872172     6872      172        3     2246       30      8.0        3   \n17485  6872174     6872      174        3     2246       30      8.0        5   \n17486  6872180     6872      180        3     2246        0      8.0        0   \n17487  6872182     6872      182        3      625        0      8.0        0   \n17488  6872183     6872      183        3      625        0      8.0        0   \n\n       ER13013  ER13010  ...   ER16462  ER16518     S405     S419     S420  \\\n0          0.0     76.0  ...   11718.0   31.473   2000.0      0.0  60000.0   \n1          1.0     47.0  ...   62060.0   20.446      0.0      0.0   6000.0   \n2          0.0     45.0  ...   35900.0   30.397   7500.0  17000.0  32000.0   \n3          0.0     41.0  ...   81000.0   19.566  10000.0      0.0  20000.0   \n4          1.0     39.0  ...   35616.0   24.971  12000.0      0.0  15000.0   \n...        ...      ...  ...       ...      ...      ...      ...      ...   \n17484      5.0     37.0  ...   57468.0    4.323  10000.0      0.0  35000.0   \n17485      5.0     37.0  ...   57468.0    4.323  10000.0      0.0  35000.0   \n17486      5.0     37.0  ...   57468.0    4.323  10000.0      0.0  35000.0   \n17487      2.0     41.0  ...  100938.0    3.555  12000.0  13000.0  80000.0   \n17488      2.0     41.0  ...  100938.0    3.555  12000.0  13000.0  80000.0   \n\n           S415    S411     S413      S417      S416  \n0           0.0     0.0   4500.0   91500.0   31500.0  \n1           0.0  8000.0  12000.0   26000.0   20000.0  \n2           0.0  7000.0  20000.0  413500.0  381500.0  \n3           0.0     0.0  10000.0   40000.0   20000.0  \n4           0.0     0.0  15000.0   42000.0   27000.0  \n...         ...     ...      ...       ...       ...  \n17484  500000.0     0.0      0.0  664000.0  629000.0  \n17485  500000.0     0.0      0.0  664000.0  629000.0  \n17486  500000.0     0.0      0.0  664000.0  629000.0  \n17487       0.0     0.0  20000.0  123000.0   43000.0  \n17488       0.0     0.0  20000.0  123000.0   43000.0  \n\n[17489 rows x 66 columns]",
      "text/html": "<div>\n<style scoped>\n    .dataframe tbody tr th:only-of-type {\n        vertical-align: middle;\n    }\n\n    .dataframe tbody tr th {\n        vertical-align: top;\n    }\n\n    .dataframe thead th {\n        text-align: right;\n    }\n</style>\n<table border=\"1\" class=\"dataframe\">\n  <thead>\n    <tr style=\"text-align: right;\">\n      <th></th>\n      <th>pid</th>\n      <th>ER30001</th>\n      <th>ER30002</th>\n      <th>ER30000</th>\n      <th>ER33501</th>\n      <th>ER33503</th>\n      <th>ER13001</th>\n      <th>ER33502</th>\n      <th>ER13013</th>\n      <th>ER13010</th>\n      <th>...</th>\n      <th>ER16462</th>\n      <th>ER16518</th>\n      <th>S405</th>\n      <th>S419</th>\n      <th>S420</th>\n      <th>S415</th>\n      <th>S411</th>\n      <th>S413</th>\n      <th>S417</th>\n      <th>S416</th>\n    </tr>\n  </thead>\n  <tbody>\n    <tr>\n      <th>0</th>\n      <td>4001</td>\n      <td>4</td>\n      <td>1</td>\n      <td>3</td>\n      <td>3</td>\n      <td>10</td>\n      <td>8.0</td>\n      <td>1</td>\n      <td>0.0</td>\n      <td>76.0</td>\n      <td>...</td>\n      <td>11718.0</td>\n      <td>31.473</td>\n      <td>2000.0</td>\n      <td>0.0</td>\n      <td>60000.0</td>\n      <td>0.0</td>\n      <td>0.0</td>\n      <td>4500.0</td>\n      <td>91500.0</td>\n      <td>31500.0</td>\n    </tr>\n    <tr>\n      <th>1</th>\n      <td>4003</td>\n      <td>4</td>\n      <td>3</td>\n      <td>3</td>\n      <td>2</td>\n      <td>10</td>\n      <td>8.0</td>\n      <td>1</td>\n      <td>1.0</td>\n      <td>47.0</td>\n      <td>...</td>\n      <td>62060.0</td>\n      <td>20.446</td>\n      <td>0.0</td>\n      <td>0.0</td>\n      <td>6000.0</td>\n      <td>0.0</td>\n      <td>8000.0</td>\n      <td>12000.0</td>\n      <td>26000.0</td>\n      <td>20000.0</td>\n    </tr>\n    <tr>\n      <th>2</th>\n      <td>4004</td>\n      <td>4</td>\n      <td>4</td>\n      <td>3</td>\n      <td>6129</td>\n      <td>10</td>\n      <td>8.0</td>\n      <td>1</td>\n      <td>0.0</td>\n      <td>45.0</td>\n      <td>...</td>\n      <td>35900.0</td>\n      <td>30.397</td>\n      <td>7500.0</td>\n      <td>17000.0</td>\n      <td>32000.0</td>\n      <td>0.0</td>\n      <td>7000.0</td>\n      <td>20000.0</td>\n      <td>413500.0</td>\n      <td>381500.0</td>\n    </tr>\n    <tr>\n      <th>3</th>\n      <td>4006</td>\n      <td>4</td>\n      <td>6</td>\n      <td>3</td>\n      <td>4920</td>\n      <td>22</td>\n      <td>8.0</td>\n      <td>2</td>\n      <td>0.0</td>\n      <td>41.0</td>\n      <td>...</td>\n      <td>81000.0</td>\n      <td>19.566</td>\n      <td>10000.0</td>\n      <td>0.0</td>\n      <td>20000.0</td>\n      <td>0.0</td>\n      <td>0.0</td>\n      <td>10000.0</td>\n      <td>40000.0</td>\n      <td>20000.0</td>\n    </tr>\n    <tr>\n      <th>4</th>\n      <td>4007</td>\n      <td>4</td>\n      <td>7</td>\n      <td>3</td>\n      <td>6944</td>\n      <td>10</td>\n      <td>8.0</td>\n      <td>1</td>\n      <td>1.0</td>\n      <td>39.0</td>\n      <td>...</td>\n      <td>35616.0</td>\n      <td>24.971</td>\n      <td>12000.0</td>\n      <td>0.0</td>\n      <td>15000.0</td>\n      <td>0.0</td>\n      <td>0.0</td>\n      <td>15000.0</td>\n      <td>42000.0</td>\n      <td>27000.0</td>\n    </tr>\n    <tr>\n      <th>...</th>\n      <td>...</td>\n      <td>...</td>\n      <td>...</td>\n      <td>...</td>\n      <td>...</td>\n      <td>...</td>\n      <td>...</td>\n      <td>...</td>\n      <td>...</td>\n      <td>...</td>\n      <td>...</td>\n      <td>...</td>\n      <td>...</td>\n      <td>...</td>\n      <td>...</td>\n      <td>...</td>\n      <td>...</td>\n      <td>...</td>\n      <td>...</td>\n      <td>...</td>\n      <td>...</td>\n    </tr>\n    <tr>\n      <th>17484</th>\n      <td>6872172</td>\n      <td>6872</td>\n      <td>172</td>\n      <td>3</td>\n      <td>2246</td>\n      <td>30</td>\n      <td>8.0</td>\n      <td>3</td>\n      <td>5.0</td>\n      <td>37.0</td>\n      <td>...</td>\n      <td>57468.0</td>\n      <td>4.323</td>\n      <td>10000.0</td>\n      <td>0.0</td>\n      <td>35000.0</td>\n      <td>500000.0</td>\n      <td>0.0</td>\n      <td>0.0</td>\n      <td>664000.0</td>\n      <td>629000.0</td>\n    </tr>\n    <tr>\n      <th>17485</th>\n      <td>6872174</td>\n      <td>6872</td>\n      <td>174</td>\n      <td>3</td>\n      <td>2246</td>\n      <td>30</td>\n      <td>8.0</td>\n      <td>5</td>\n      <td>5.0</td>\n      <td>37.0</td>\n      <td>...</td>\n      <td>57468.0</td>\n      <td>4.323</td>\n      <td>10000.0</td>\n      <td>0.0</td>\n      <td>35000.0</td>\n      <td>500000.0</td>\n      <td>0.0</td>\n      <td>0.0</td>\n      <td>664000.0</td>\n      <td>629000.0</td>\n    </tr>\n    <tr>\n      <th>17486</th>\n      <td>6872180</td>\n      <td>6872</td>\n      <td>180</td>\n      <td>3</td>\n      <td>2246</td>\n      <td>0</td>\n      <td>8.0</td>\n      <td>0</td>\n      <td>5.0</td>\n      <td>37.0</td>\n      <td>...</td>\n      <td>57468.0</td>\n      <td>4.323</td>\n      <td>10000.0</td>\n      <td>0.0</td>\n      <td>35000.0</td>\n      <td>500000.0</td>\n      <td>0.0</td>\n      <td>0.0</td>\n      <td>664000.0</td>\n      <td>629000.0</td>\n    </tr>\n    <tr>\n      <th>17487</th>\n      <td>6872182</td>\n      <td>6872</td>\n      <td>182</td>\n      <td>3</td>\n      <td>625</td>\n      <td>0</td>\n      <td>8.0</td>\n      <td>0</td>\n      <td>2.0</td>\n      <td>41.0</td>\n      <td>...</td>\n      <td>100938.0</td>\n      <td>3.555</td>\n      <td>12000.0</td>\n      <td>13000.0</td>\n      <td>80000.0</td>\n      <td>0.0</td>\n      <td>0.0</td>\n      <td>20000.0</td>\n      <td>123000.0</td>\n      <td>43000.0</td>\n    </tr>\n    <tr>\n      <th>17488</th>\n      <td>6872183</td>\n      <td>6872</td>\n      <td>183</td>\n      <td>3</td>\n      <td>625</td>\n      <td>0</td>\n      <td>8.0</td>\n      <td>0</td>\n      <td>2.0</td>\n      <td>41.0</td>\n      <td>...</td>\n      <td>100938.0</td>\n      <td>3.555</td>\n      <td>12000.0</td>\n      <td>13000.0</td>\n      <td>80000.0</td>\n      <td>0.0</td>\n      <td>0.0</td>\n      <td>20000.0</td>\n      <td>123000.0</td>\n      <td>43000.0</td>\n    </tr>\n  </tbody>\n</table>\n<p>17489 rows × 66 columns</p>\n</div>"
     },
     "execution_count": 13,
     "metadata": {},
     "output_type": "execute_result"
    }
   ],
   "source": [
    "# Build the schema just from the 1999 columns\n",
    "def build(pkg, r, df ,  resource_name):\n",
    "    # create URLs to the files inside the data distribution ZIP file\n",
    "\n",
    "\n",
    "    # Recommended construction of unique person id\n",
    "    df['pid'] = (df['ER30001'] * 1000) + df['ER30002']\n",
    "    df['year'] = None\n",
    "    df['race'] = None\n",
    "\n",
    "    mdf = extract_metadata(varis, r)\n",
    "\n",
    "    # Re-order the data dictionary\n",
    "    r = pkg.resource(resource_name)\n",
    "    mdf_sel = reorder_schema(r, mdf, df)  # Dataframe of mdf in new order for schema\n",
    "\n",
    "    # HOWEVER ... for this dataset we only want the 1999 columns, since\n",
    "    # the columns for the other years will be linked to the 1999 column\n",
    "    mdf_sel = mdf_sel[mdf_sel.year.isin([1968,1999])]\n",
    "\n",
    "    # Rebuild the package schema.\n",
    "\n",
    "    new_terms = [\n",
    "        {'value':'pid', 'DataType':'integer', 'description':'Constructed person id'},\n",
    "        {'value':'year', 'DataType':'integer', 'description':'Year of the data'},\n",
    "        {'value':'race', 'DataType':'text', 'description':'Extracted race of head of household'},\n",
    "    ]\n",
    "\n",
    "    return update_schema(r, mdf_sel, df, new_terms)\n",
    "\n",
    "\n",
    "r = pkg.reference('long_wealth_source')\n",
    "df = open_dbf(r)\n",
    "\n",
    "\n",
    "build(pkg, r, df,  'long_wealth')"
   ],
   "metadata": {
    "collapsed": false
   }
  },
  {
   "cell_type": "code",
   "execution_count": 14,
   "outputs": [],
   "source": [
    "pkg = mp.jupyter.open_source_package()\n",
    "pkg.set_sys_path()\n",
    "from pylib import *\n",
    "\n",
    "r = pkg.resource('long_wealth')\n",
    "m = Metadata(r)"
   ],
   "metadata": {
    "collapsed": false
   }
  },
  {
   "cell_type": "code",
   "execution_count": 15,
   "outputs": [
    {
     "name": "stdout",
     "output_type": "stream",
     "text": [
      "=== Vars per year ===\n",
      "2001 63\n",
      "2003 63\n",
      "2005 63\n",
      "2007 63\n",
      "2009 63\n",
      "2011 63\n",
      "2013 63\n",
      "2015 63\n",
      "2017 63\n",
      "2019 62\n",
      "=== Missing ===\n",
      "race [2001, 2003, 2005, 2007, 2009, 2011, 2013, 2015, 2017, 2019]\n",
      "s405 [2019]\n"
     ]
    }
   ],
   "source": [
    "# Translate the 1999 columns to the columns for all of the other years,\n",
    "# then slice them into a new dataframe, then concatenate all of the dataframes into the final dataset.\n",
    "\n",
    "rows = []\n",
    "years = [2001, 2003, 2005, 2007, 2009, 2011, 2013, 2015, 2017, 2019]\n",
    "\n",
    "cols = list(r.columns())\n",
    "for y in years:\n",
    "    row = []\n",
    "    for c in cols:\n",
    "        col = m.translate_year(c['name'], y)\n",
    "        try:\n",
    "            row.append(col[0])\n",
    "        except IndexError:\n",
    "            row.append(None)\n",
    "\n",
    "    rows.append(row)\n",
    "\n",
    "lengths_per_year = [sum([c is not None for c in year_cols]) for year_cols in rows]\n",
    "\n",
    "print(\"=== Vars per year ===\")\n",
    "for y, l in zip(years, lengths_per_year):\n",
    "    #print(l, e['name'], e['label'])\n",
    "    print(y, l)\n",
    "\n",
    "print(\"=== Missing ===\")\n",
    "\n",
    "from collections import defaultdict\n",
    "\n",
    "row = rows[-1]\n",
    "missing = defaultdict(list)\n",
    "all_vars = set()\n",
    "for year, row in zip(years, rows):\n",
    "    for cr, cy in zip(cols, row):\n",
    "        if cy is None and cr['name'] not in ['pid', 'year'] and not cr['year'] == '1968':\n",
    "            missing[cr['name']].append(year)\n",
    "        else:\n",
    "            all_vars.add(cy)\n",
    "\n",
    "for k, v in missing.items():\n",
    "    print(k, v)"
   ],
   "metadata": {
    "collapsed": false
   }
  },
  {
   "cell_type": "code",
   "execution_count": 16,
   "outputs": [
    {
     "data": {
      "text/plain": "Missing?:   0%|          | 0/10 [00:00<?, ?it/s]",
      "application/vnd.jupyter.widget-view+json": {
       "version_major": 2,
       "version_minor": 0,
       "model_id": "c9adbd06bf124d13b7271c70510ce6a5"
      }
     },
     "metadata": {},
     "output_type": "display_data"
    },
    {
     "data": {
      "text/plain": "  0%|          | 0/10 [00:00<?, ?it/s]",
      "application/vnd.jupyter.widget-view+json": {
       "version_major": 2,
       "version_minor": 0,
       "model_id": "b19e8c5f314a44218f2d3d723dbbbdf0"
      }
     },
     "metadata": {},
     "output_type": "display_data"
    }
   ],
   "source": [
    "# For each year, find the equivalent of the 1999 columns and slice\n",
    "# them into a new dataframe, then concatenate all of the dataframes into the final dataset.\n",
    "\n",
    "def xlate(resource, m, year):\n",
    "    \"\"\"Translate the 1999 columns to a new year\"\"\"\n",
    "    cols = list(resource.columns())\n",
    "\n",
    "    src = []\n",
    "    dst = []\n",
    "    for c in cols:\n",
    "        cn = c['name']\n",
    "        cy = c['year']\n",
    "\n",
    "        if cy == '1968':\n",
    "            src.append(cn.upper())\n",
    "            dst.append(cn.upper())\n",
    "        elif cy is None or cy == '':\n",
    "            src.append(cn)\n",
    "            dst.append(cn)\n",
    "        else:\n",
    "            col = m.translate_year(cn, year)\n",
    "\n",
    "            try:\n",
    "                src.append(col[0].upper())\n",
    "                dst.append(cn.upper())\n",
    "            except IndexError:\n",
    "                pass\n",
    "\n",
    "    return src, dst\n",
    "\n",
    "pkg = mp.jupyter.open_source_package()\n",
    "pkg.set_sys_path()\n",
    "from pylib import *\n",
    "\n",
    "r = pkg.resource('long_wealth')\n",
    "m = Metadata(r)\n",
    "\n",
    "frames = []\n",
    "from tqdm.auto import tqdm\n",
    "\n",
    "# Look for missing columns\n",
    "extant_cols = set(df.columns.to_list())\n",
    "missing = []\n",
    "\n",
    "for year in tqdm(years, desc='Missing?'):\n",
    "    src, dst = xlate(r, m, year)\n",
    "    for c in src:\n",
    "        if c not in extant_cols:\n",
    "            missing.append(c)\n",
    "\n",
    "if len(missing):\n",
    "    print(\" \".join([str(m) for m in missing]))\n",
    "    raise KeyError(\"Missing columns\")\n",
    "\n",
    "# Actually translate the columns\n",
    "\n",
    "for year in tqdm(years):\n",
    "    src, dst = xlate(r, m, year)\n",
    "    col_map = dict(zip(src, dst))\n",
    "\n",
    "    yf = df.loc[:,src].assign(year=year).rename(columns=col_map)\n",
    "\n",
    "    frames.append(yf)\n",
    "\n",
    "\n",
    "\n",
    "dfl = pd.concat(frames) # df long"
   ],
   "metadata": {
    "collapsed": false
   }
  },
  {
   "cell_type": "code",
   "execution_count": 16,
   "outputs": [],
   "source": [],
   "metadata": {
    "collapsed": false
   }
  },
  {
   "cell_type": "code",
   "execution_count": 17,
   "outputs": [
    {
     "name": "stdout",
     "output_type": "stream",
     "text": [
      "Race Columns: ['ER15928', 'ER15929', 'ER15930', 'ER15931']\n"
     ]
    }
   ],
   "source": [
    "# The race of each record will be the race of the head of household, which will be collapsed from\n",
    "# multiple values over multiple years. Apparently they ask for race every year, so it can change from year to\n",
    "# year, so we select the most common one\n",
    "#\n",
    "# L40 is 'race of head'\n",
    "\n",
    "from pylib import race_merges\n",
    "\n",
    "roh_cols = [c.upper() for c in m.search_label('L40', 1999).name.tolist() ]\n",
    "\n",
    "print(\"Race Columns:\", roh_cols)\n",
    "\n",
    "races = {}\n",
    "for gn, g in dfl.groupby('pid'):\n",
    "    # Replace the values we aren't using, then convert the multiple race columns over multiple\n",
    "    # years into a series. Take the most common value\n",
    "    s = pd.Series(g[roh_cols].replace(race_merges).values.ravel()).value_counts()\n",
    "\n",
    "    try:\n",
    "        races[gn] = s.index[0]\n",
    "    except IndexError:\n",
    "        races[gn] = None\n",
    "\n",
    "\n",
    "dfl['race'] = dfl.pid.apply(lambda pid: races[pid])"
   ],
   "metadata": {
    "collapsed": false
   }
  },
  {
   "cell_type": "code",
   "execution_count": 18,
   "outputs": [],
   "source": [
    "# Ensure columns are in the same order as the schema\n",
    "all_cols = [ c['name'].upper() if not c['name'] in ('race', 'pid','year') else c['name']\n",
    "             for c in pkg.resource('long_wealth').columns() ]\n",
    "longwealth = dfl[all_cols]"
   ],
   "metadata": {
    "collapsed": false
   }
  },
  {
   "cell_type": "code",
   "execution_count": 19,
   "outputs": [
    {
     "data": {
      "text/plain": "(174890, 68)"
     },
     "execution_count": 19,
     "metadata": {},
     "output_type": "execute_result"
    }
   ],
   "source": [
    "\n",
    "longwealth.shape"
   ],
   "metadata": {
    "collapsed": false
   }
  },
  {
   "cell_type": "code",
   "execution_count": null,
   "outputs": [],
   "source": [],
   "metadata": {
    "collapsed": false
   }
  }
 ],
 "metadata": {
  "kernelspec": {
   "display_name": "Python 3 (ipykernel)",
   "language": "python",
   "name": "python3"
  },
  "language_info": {
   "codemirror_mode": {
    "name": "ipython",
    "version": 3
   },
   "file_extension": ".py",
   "mimetype": "text/x-python",
   "name": "python",
   "nbconvert_exporter": "python",
   "pygments_lexer": "ipython3",
   "version": "3.10.6"
  }
 },
 "nbformat": 4,
 "nbformat_minor": 4
}
