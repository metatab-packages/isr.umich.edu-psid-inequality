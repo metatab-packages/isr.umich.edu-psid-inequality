{
 "cells": [
  {
   "cell_type": "code",
   "execution_count": 1,
   "metadata": {},
   "outputs": [],
   "source": [
    "%load_ext autoreload\n",
    "%autoreload 2\n",
    "\n",
    "import seaborn as sns\n",
    "import metapack as mp\n",
    "import pandas as pd\n",
    "import numpy as np\n",
    "import matplotlib.pyplot as plt\n",
    "from IPython.display import display \n",
    "\n",
    "import re\n",
    "import xml.etree.ElementTree as ET\n",
    "import pandas as pd\n",
    "\n",
    "%matplotlib inline\n",
    "sns.set_context('notebook')\n",
    "mp.jupyter.init()\n"
   ]
  },
  {
   "cell_type": "code",
   "execution_count": 2,
   "metadata": {},
   "outputs": [
    {
     "data": {
      "text/plain": "\n`isr.umich.edu-psid-inequality-1.1.2` Last Update: 2023-06-08T23:18:30\n\n__\n\n\n\n## Updating Data\n\nTo update the data, use the data extraction tool at the (PSID website. )[https://simba.isr.umich.edu/Cart/co.aspx], adding any new variables to your data cart. The (variable entry text box)[https://simba.isr.umich.edu/DC/l.aspx] is a handy way to copy the existing varibles into a new cart.  When you checkout your data cart, ( click on the cart icon ) fetch your dataset with these options: \n\n* Codebook Type: XML\n* Data output type: dBase Data File, create compressed file\n\nDownload the ZIP file ( you might have to recompress it if your browser unpacks it ) and move it into the ``data`` directory. Set the reference to the new ZIP file, then re-build the package.\n## Documentation Links\n\n* [PSID Homepage](https://psidonline.isr.umich.edu/default.aspx) \n\n \n\n## Contacts\n\n* **Wrangler** [Eric Busboom](mailto:eric@civicknowledge.com), [Civic Knowledge](http://civicknowledge.com)\n\n## Resources\n\n* **[psid_ineq](notebooks/extract.ipynb#df)**. PSID, Inequality extract\n* **[_labels](notebooks/extract.ipynb#labels)**. Categorical value labels\n* **[data_dictionary](notebooks/extract.ipynb#mdf)**. List of Variables\n\n## References\n<ul><li> <strong><a href=\"https://psidonline.isr.umich.edu/help/xyr/psid.xlsx\">variables</a></strong>. Variable descriptions, in a cross-year format.</li><li> <strong>source</string>, <em>data/J321089.zip</em>. Downloaded source file</li><ul>\n",
      "text/html": "<p><code>isr.umich.edu-psid-inequality-1.1.2</code> Last Update: 2023-06-08T23:18:30</p>\n<p>__</p>\n<h2>Updating Data</h2>\n<p>To update the data, use the data extraction tool at the (PSID website. )[https://simba.isr.umich.edu/Cart/co.aspx], adding any new variables to your data cart. The (variable entry text box)[https://simba.isr.umich.edu/DC/l.aspx] is a handy way to copy the existing varibles into a new cart.  When you checkout your data cart, ( click on the cart icon ) fetch your dataset with these options: </p>\n<ul>\n<li>Codebook Type: XML</li>\n<li>Data output type: dBase Data File, create compressed file</li>\n</ul>\n<p>Download the ZIP file ( you might have to recompress it if your browser unpacks it ) and move it into the <code>data</code> directory. Set the reference to the new ZIP file, then re-build the package.</p>\n<h2>Documentation Links</h2>\n<ul>\n<li><a href=\"https://psidonline.isr.umich.edu/default.aspx\">PSID Homepage</a> </li>\n</ul>\n<h2>Contacts</h2>\n<ul>\n<li><strong>Wrangler</strong> <a href=\"mailto:eric@civicknowledge.com\">Eric Busboom</a>, <a href=\"http://civicknowledge.com\">Civic Knowledge</a></li>\n</ul>\n<h2>Resources</h2>\n<ul>\n<li><strong><a href=\"notebooks/extract.ipynb#df\">psid_ineq</a></strong>. PSID, Inequality extract</li>\n<li><strong><a href=\"notebooks/extract.ipynb#labels\">_labels</a></strong>. Categorical value labels</li>\n<li><strong><a href=\"notebooks/extract.ipynb#mdf\">data_dictionary</a></strong>. List of Variables</li>\n</ul>\n<h2>References</h2>\n<ul><li> <strong><a href=\"https://psidonline.isr.umich.edu/help/xyr/psid.xlsx\">variables</a></strong>. Variable descriptions, in a cross-year format.</li><li> <strong>source</string>, <em>data/J321089.zip</em>. Downloaded source file</li><ul>"
     },
     "execution_count": 2,
     "metadata": {},
     "output_type": "execute_result"
    }
   ],
   "source": [
    "#pkg = mp.jupyter.open_package()\n",
    "pkg = mp.jupyter.open_source_package()\n",
    "pkg.set_sys_path()\n",
    "from pylib import *\n",
    "pkg"
   ]
  },
  {
   "cell_type": "code",
   "execution_count": 3,
   "outputs": [
    {
     "name": "stdout",
     "output_type": "stream",
     "text": [
      "PyTables is not installed. No support for HDF output.\n"
     ]
    }
   ],
   "source": [
    "# create URLs to the files inside the data distribution ZIP file\n",
    "surl   = pkg.reference('source').resolved_url\n",
    "base_name = surl.resource_file.split('.')[0]\n",
    "database_url = surl.set_target_file(base_name+'.dbf')\n",
    "\n",
    "from simpledbf import Dbf5\n",
    "dbf = Dbf5(database_url.get_target().fspath)\n",
    "df = dbf.to_dataframe()\n",
    "\n",
    "# Make everything as numerical as possible\n",
    "for c in df.columns:\n",
    "    df[c] = pd.to_numeric(df[c])\n",
    "\n",
    "df = df.copy()\n",
    "\n",
    "# Recommended construction of unique person id\n",
    "df['pid'] = (df['ER30001']*1000) + df['ER30002']\n"
   ],
   "metadata": {
    "collapsed": false
   }
  },
  {
   "cell_type": "code",
   "execution_count": 4,
   "metadata": {},
   "outputs": [],
   "source": [
    "# opening_columns. These should always be at the start of the schema.\n",
    "init_cols = ['ER30000','ER30001','ER30002']"
   ]
  },
  {
   "cell_type": "code",
   "execution_count": 5,
   "metadata": {},
   "outputs": [],
   "source": [
    "varis, mdf = extract_metadata(pkg)\n",
    "labels = extract_labels(pkg)"
   ]
  },
  {
   "cell_type": "code",
   "execution_count": 21,
   "outputs": [
    {
     "data": {
      "text/plain": "['ER30001', 'ER30002', 'ER30000']"
     },
     "execution_count": 21,
     "metadata": {},
     "output_type": "execute_result"
    }
   ],
   "source": [
    "from pylib import *\n",
    "\n",
    "lookup_vars(varis, init_cols)\n"
   ],
   "metadata": {
    "collapsed": false
   }
  },
  {
   "cell_type": "code",
   "execution_count": 23,
   "outputs": [
    {
     "data": {
      "text/plain": "    year type_id     name                                     label  \\\n1   1968       0  ER30001                     1968 INTERVIEW NUMBER   \n2   1968       0  ER30002  PERSON NUMBER                         68   \n0   1968       0  ER30000                            RELEASE NUMBER   \n28  1999       2  ER33501                     1999 INTERVIEW NUMBER   \n64  2019       2  ER34701                     2019 INTERVIEW NUMBER   \n..   ...     ...      ...                                       ...   \n45  2019       1  ER77448                  TOTAL FAMILY INCOME-2018   \n46  2019       1  ER77507                IMP VALUE HOME EQUITY 2019   \n26  1999       1     S420                  IMP VALUE HOME EQUITY 99   \n47  2019       1  ER77511       IMP WEALTH W/ EQUITY (WEALTH2) 2019   \n27  1999       1     S417         IMP WEALTH W/ EQUITY (WEALTH2) 99   \n\n                                             qtext  \\\n1           1968 Interview Number (1968 ID Number)   \n2                                    Person Number   \n0                                 Release Number     \n28          1999 Interview Number (1999 ID Number)   \n64          2019 Interview Number (2019 ID Number)   \n..                                             ...   \n45                  Total 2018 Family Money Income   \n46               Constructed value of home equity.   \n26                                                   \n47  Constructed Wealth Variable, Including Equity.   \n27                                                   \n\n                                                etext           type  \\\n1    This variable is the 1968 family ID number. T...     INDIVIDUAL   \n2                                                         INDIVIDUAL   \n0    For Release 2 we have updated Relation to Hea...     INDIVIDUAL   \n28  The values for this variable represent the 199...     INDIVIDUAL   \n64   The values for this variable represent the 20...     INDIVIDUAL   \n..                                                ...            ...   \n45   The income reported here was collected in 201...  FAMILY PUBLIC   \n46   Constructed value of home equity.  This imput...  FAMILY PUBLIC   \n26  Constructed value of home equity.  This impute...  FAMILY PUBLIC   \n47   Constructed wealth variable, including equity...  FAMILY PUBLIC   \n27  This variable is constructed as sum of values ...  FAMILY PUBLIC   \n\n              category                                               text  \\\n1   SURVEY INFORMATION  01>SURVEY INFORMATION:\\n02>Interview Informati...   \n2   SURVEY INFORMATION  01>SURVEY INFORMATION:\\n02>Interview Informati...   \n0   SURVEY INFORMATION  01>SURVEY INFORMATION:\\n02>Interview Informati...   \n28  SURVEY INFORMATION  01>SURVEY INFORMATION:\\n02>Interview Informati...   \n64  SURVEY INFORMATION  01>SURVEY INFORMATION:\\n02>Interview Informati...   \n..                 ...                                                ...   \n45              INCOME  01>INCOME\\n02>Family Money\\n03>total family in...   \n46              WEALTH               01>WEALTH\\n02>Home Equity\\n03>value:   \n26              WEALTH               01>WEALTH\\n02>Home Equity\\n03>value:   \n47              WEALTH  01>WEALTH\\n02>Total Family Wealth\\n03>includin...   \n27              WEALTH  01>WEALTH\\n02>Total Family Wealth\\n03>includin...   \n\n   head_wife  var_count  group  \\\n1                  41.0    418   \n2                   1.0    420   \n0                   1.0    422   \n28                 41.0    418   \n64                 41.0    418   \n..       ...        ...    ...   \n45                 41.0   5562   \n46                 14.0   9047   \n26                 14.0   9047   \n47                 14.0   9235   \n27                 14.0   9235   \n\n                                                 path  \n1   /survey information:/interview information/id ...  \n2   /survey information:/interview information/per...  \n0   /survey information:/interview information/rel...  \n28  /survey information:/interview information/id ...  \n64  /survey information:/interview information/id ...  \n..                                                ...  \n45          /income/family money/total family income:  \n46                         /wealth/home equity/value:  \n26                         /wealth/home equity/value:  \n47  /wealth/total family wealth/including home equ...  \n27  /wealth/total family wealth/including home equ...  \n\n[69 rows x 13 columns]",
      "text/html": "<div>\n<style scoped>\n    .dataframe tbody tr th:only-of-type {\n        vertical-align: middle;\n    }\n\n    .dataframe tbody tr th {\n        vertical-align: top;\n    }\n\n    .dataframe thead th {\n        text-align: right;\n    }\n</style>\n<table border=\"1\" class=\"dataframe\">\n  <thead>\n    <tr style=\"text-align: right;\">\n      <th></th>\n      <th>year</th>\n      <th>type_id</th>\n      <th>name</th>\n      <th>label</th>\n      <th>qtext</th>\n      <th>etext</th>\n      <th>type</th>\n      <th>category</th>\n      <th>text</th>\n      <th>head_wife</th>\n      <th>var_count</th>\n      <th>group</th>\n      <th>path</th>\n    </tr>\n  </thead>\n  <tbody>\n    <tr>\n      <th>1</th>\n      <td>1968</td>\n      <td>0</td>\n      <td>ER30001</td>\n      <td>1968 INTERVIEW NUMBER</td>\n      <td>1968 Interview Number (1968 ID Number)</td>\n      <td>This variable is the 1968 family ID number. T...</td>\n      <td>INDIVIDUAL</td>\n      <td>SURVEY INFORMATION</td>\n      <td>01&gt;SURVEY INFORMATION:\\n02&gt;Interview Informati...</td>\n      <td></td>\n      <td>41.0</td>\n      <td>418</td>\n      <td>/survey information:/interview information/id ...</td>\n    </tr>\n    <tr>\n      <th>2</th>\n      <td>1968</td>\n      <td>0</td>\n      <td>ER30002</td>\n      <td>PERSON NUMBER                         68</td>\n      <td>Person Number</td>\n      <td></td>\n      <td>INDIVIDUAL</td>\n      <td>SURVEY INFORMATION</td>\n      <td>01&gt;SURVEY INFORMATION:\\n02&gt;Interview Informati...</td>\n      <td></td>\n      <td>1.0</td>\n      <td>420</td>\n      <td>/survey information:/interview information/per...</td>\n    </tr>\n    <tr>\n      <th>0</th>\n      <td>1968</td>\n      <td>0</td>\n      <td>ER30000</td>\n      <td>RELEASE NUMBER</td>\n      <td>Release Number</td>\n      <td>For Release 2 we have updated Relation to Hea...</td>\n      <td>INDIVIDUAL</td>\n      <td>SURVEY INFORMATION</td>\n      <td>01&gt;SURVEY INFORMATION:\\n02&gt;Interview Informati...</td>\n      <td></td>\n      <td>1.0</td>\n      <td>422</td>\n      <td>/survey information:/interview information/rel...</td>\n    </tr>\n    <tr>\n      <th>28</th>\n      <td>1999</td>\n      <td>2</td>\n      <td>ER33501</td>\n      <td>1999 INTERVIEW NUMBER</td>\n      <td>1999 Interview Number (1999 ID Number)</td>\n      <td>The values for this variable represent the 199...</td>\n      <td>INDIVIDUAL</td>\n      <td>SURVEY INFORMATION</td>\n      <td>01&gt;SURVEY INFORMATION:\\n02&gt;Interview Informati...</td>\n      <td></td>\n      <td>41.0</td>\n      <td>418</td>\n      <td>/survey information:/interview information/id ...</td>\n    </tr>\n    <tr>\n      <th>64</th>\n      <td>2019</td>\n      <td>2</td>\n      <td>ER34701</td>\n      <td>2019 INTERVIEW NUMBER</td>\n      <td>2019 Interview Number (2019 ID Number)</td>\n      <td>The values for this variable represent the 20...</td>\n      <td>INDIVIDUAL</td>\n      <td>SURVEY INFORMATION</td>\n      <td>01&gt;SURVEY INFORMATION:\\n02&gt;Interview Informati...</td>\n      <td></td>\n      <td>41.0</td>\n      <td>418</td>\n      <td>/survey information:/interview information/id ...</td>\n    </tr>\n    <tr>\n      <th>...</th>\n      <td>...</td>\n      <td>...</td>\n      <td>...</td>\n      <td>...</td>\n      <td>...</td>\n      <td>...</td>\n      <td>...</td>\n      <td>...</td>\n      <td>...</td>\n      <td>...</td>\n      <td>...</td>\n      <td>...</td>\n      <td>...</td>\n    </tr>\n    <tr>\n      <th>45</th>\n      <td>2019</td>\n      <td>1</td>\n      <td>ER77448</td>\n      <td>TOTAL FAMILY INCOME-2018</td>\n      <td>Total 2018 Family Money Income</td>\n      <td>The income reported here was collected in 201...</td>\n      <td>FAMILY PUBLIC</td>\n      <td>INCOME</td>\n      <td>01&gt;INCOME\\n02&gt;Family Money\\n03&gt;total family in...</td>\n      <td></td>\n      <td>41.0</td>\n      <td>5562</td>\n      <td>/income/family money/total family income:</td>\n    </tr>\n    <tr>\n      <th>46</th>\n      <td>2019</td>\n      <td>1</td>\n      <td>ER77507</td>\n      <td>IMP VALUE HOME EQUITY 2019</td>\n      <td>Constructed value of home equity.</td>\n      <td>Constructed value of home equity.  This imput...</td>\n      <td>FAMILY PUBLIC</td>\n      <td>WEALTH</td>\n      <td>01&gt;WEALTH\\n02&gt;Home Equity\\n03&gt;value:</td>\n      <td></td>\n      <td>14.0</td>\n      <td>9047</td>\n      <td>/wealth/home equity/value:</td>\n    </tr>\n    <tr>\n      <th>26</th>\n      <td>1999</td>\n      <td>1</td>\n      <td>S420</td>\n      <td>IMP VALUE HOME EQUITY 99</td>\n      <td></td>\n      <td>Constructed value of home equity.  This impute...</td>\n      <td>FAMILY PUBLIC</td>\n      <td>WEALTH</td>\n      <td>01&gt;WEALTH\\n02&gt;Home Equity\\n03&gt;value:</td>\n      <td></td>\n      <td>14.0</td>\n      <td>9047</td>\n      <td>/wealth/home equity/value:</td>\n    </tr>\n    <tr>\n      <th>47</th>\n      <td>2019</td>\n      <td>1</td>\n      <td>ER77511</td>\n      <td>IMP WEALTH W/ EQUITY (WEALTH2) 2019</td>\n      <td>Constructed Wealth Variable, Including Equity.</td>\n      <td>Constructed wealth variable, including equity...</td>\n      <td>FAMILY PUBLIC</td>\n      <td>WEALTH</td>\n      <td>01&gt;WEALTH\\n02&gt;Total Family Wealth\\n03&gt;includin...</td>\n      <td></td>\n      <td>14.0</td>\n      <td>9235</td>\n      <td>/wealth/total family wealth/including home equ...</td>\n    </tr>\n    <tr>\n      <th>27</th>\n      <td>1999</td>\n      <td>1</td>\n      <td>S417</td>\n      <td>IMP WEALTH W/ EQUITY (WEALTH2) 99</td>\n      <td></td>\n      <td>This variable is constructed as sum of values ...</td>\n      <td>FAMILY PUBLIC</td>\n      <td>WEALTH</td>\n      <td>01&gt;WEALTH\\n02&gt;Total Family Wealth\\n03&gt;includin...</td>\n      <td></td>\n      <td>14.0</td>\n      <td>9235</td>\n      <td>/wealth/total family wealth/including home equ...</td>\n    </tr>\n  </tbody>\n</table>\n<p>69 rows × 13 columns</p>\n</div>"
     },
     "metadata": {},
     "output_type": "display_data"
    }
   ],
   "source": [
    "# Re-order the data dictionary\n"
   ],
   "metadata": {
    "collapsed": false
   }
  },
  {
   "cell_type": "code",
   "execution_count": 8,
   "outputs": [],
   "source": [
    "df = t"
   ],
   "metadata": {
    "collapsed": false
   }
  },
  {
   "cell_type": "code",
   "execution_count": 8,
   "outputs": [],
   "source": [],
   "metadata": {
    "collapsed": false
   }
  }
 ],
 "metadata": {
  "kernelspec": {
   "display_name": "Python 3 (ipykernel)",
   "language": "python",
   "name": "python3"
  },
  "language_info": {
   "codemirror_mode": {
    "name": "ipython",
    "version": 3
   },
   "file_extension": ".py",
   "mimetype": "text/x-python",
   "name": "python",
   "nbconvert_exporter": "python",
   "pygments_lexer": "ipython3",
   "version": "3.10.6"
  }
 },
 "nbformat": 4,
 "nbformat_minor": 4
}
