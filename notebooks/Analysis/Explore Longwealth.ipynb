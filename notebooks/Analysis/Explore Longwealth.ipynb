{
 "cells": [
  {
   "cell_type": "code",
   "execution_count": 1,
   "outputs": [],
   "source": [
    "%load_ext autoreload\n",
    "%autoreload 2\n",
    "import seaborn as sns\n",
    "import metapack as mp\n",
    "import pandas as pd\n",
    "import numpy as np\n",
    "import matplotlib.pyplot as plt\n",
    "from IPython.display import display\n",
    "\n",
    "%matplotlib inline\n",
    "sns.set_context('notebook')\n",
    "mp.jupyter.init()\n"
   ],
   "metadata": {
    "collapsed": false
   }
  },
  {
   "cell_type": "code",
   "execution_count": 2,
   "outputs": [
    {
     "data": {
      "text/plain": "\n`isr.umich.edu-psid-inequality-3.2.1` Last Update: 2023-06-16T00:20:09\n\n__\n\n\n\n## Updating Data\n\nTo update the data, use the data extraction tool at the (PSID website. )[https://simba.isr.umich.edu/Cart/co.aspx], adding any new variables to your data cart. The (variable entry text box)[https://simba.isr.umich.edu/DC/l.aspx] is a handy way to copy the existing varibles into a new cart.  When you checkout your data cart, ( click on the cart icon ) fetch your dataset with these options: \n\n* Codebook Type: XML\n* Data output type: dBase Data File, create compressed file\n\nDownload the ZIP file ( you might have to recompress it if your browser unpacks it ) and move it into the ``data`` directory. Set the reference to the new ZIP file, then re-build the package.\n## Documentation Links\n\n* [PSID Homepage](https://psidonline.isr.umich.edu/default.aspx) \n\n \n\n## Contacts\n\n* **Wrangler** [Eric Busboom](mailto:eric@civicknowledge.com), [Civic Knowledge](http://civicknowledge.com)\n\n## Resources\n\n* **[variables](data/variables.csv)**. All PSID variables, with group infor for connecting variables across years.\n* **[cmp9919_labels](data/cmp9919_labels.csv)**. Categorical value labels\n* **[long_wealth_labels](data/long_wealth_labels.csv)**. Categorical value labels\n* **[cmp9919_dd](data/cmp9919_dd.csv)**. Data dictionary with information about variables in this collection, extracted from XML\n* **[long_wealth_dd](data/long_wealth_dd.csv)**. Data dictionary with information about variables in this collection, extracted from XML\n* **[cmp9919](data/cmp9919.csv)**. PSID, Inequality extract\n* **[long_wealth](data/long_wealth.csv)**. Longitudinal Wealth\n\n## References\n<ul><li> <strong><a href=\"https://fred.stlouisfed.org/graph/fredgraph.csv?&id=CPIAUCSL\">cpi</a></strong>. Consumer Price Index, from FRED series CPIAUCSL</li><li> <strong><a href=\"https://psidonline.isr.umich.edu/help/xyr/psid.xlsx\">variables</a></strong>. Variable descriptions, in a cross-year format.</li><li> <strong>cmp9919_source</string>, <em>data/J321148.zip</em>. Source file for comparing 1999 to 2019</li><li> <strong>long_wealth_source</string>, <em>data/J321388.zip</em>. Source data package for Longitudinal Wealth Study</li><ul>\n",
      "text/html": "<p><code>isr.umich.edu-psid-inequality-3.2.1</code> Last Update: 2023-06-16T00:20:09</p>\n<p>__</p>\n<h2>Updating Data</h2>\n<p>To update the data, use the data extraction tool at the (PSID website. )[https://simba.isr.umich.edu/Cart/co.aspx], adding any new variables to your data cart. The (variable entry text box)[https://simba.isr.umich.edu/DC/l.aspx] is a handy way to copy the existing varibles into a new cart.  When you checkout your data cart, ( click on the cart icon ) fetch your dataset with these options: </p>\n<ul>\n<li>Codebook Type: XML</li>\n<li>Data output type: dBase Data File, create compressed file</li>\n</ul>\n<p>Download the ZIP file ( you might have to recompress it if your browser unpacks it ) and move it into the <code>data</code> directory. Set the reference to the new ZIP file, then re-build the package.</p>\n<h2>Documentation Links</h2>\n<ul>\n<li><a href=\"https://psidonline.isr.umich.edu/default.aspx\">PSID Homepage</a> </li>\n</ul>\n<h2>Contacts</h2>\n<ul>\n<li><strong>Wrangler</strong> <a href=\"mailto:eric@civicknowledge.com\">Eric Busboom</a>, <a href=\"http://civicknowledge.com\">Civic Knowledge</a></li>\n</ul>\n<h2>Resources</h2>\n<ul>\n<li><strong><a href=\"data/variables.csv\">variables</a></strong>. All PSID variables, with group infor for connecting variables across years.</li>\n<li><strong><a href=\"data/cmp9919_labels.csv\">cmp9919_labels</a></strong>. Categorical value labels</li>\n<li><strong><a href=\"data/long_wealth_labels.csv\">long_wealth_labels</a></strong>. Categorical value labels</li>\n<li><strong><a href=\"data/cmp9919_dd.csv\">cmp9919_dd</a></strong>. Data dictionary with information about variables in this collection, extracted from XML</li>\n<li><strong><a href=\"data/long_wealth_dd.csv\">long_wealth_dd</a></strong>. Data dictionary with information about variables in this collection, extracted from XML</li>\n<li><strong><a href=\"data/cmp9919.csv\">cmp9919</a></strong>. PSID, Inequality extract</li>\n<li><strong><a href=\"data/long_wealth.csv\">long_wealth</a></strong>. Longitudinal Wealth</li>\n</ul>\n<h2>References</h2>\n<ul><li> <strong><a href=\"https://fred.stlouisfed.org/graph/fredgraph.csv?&id=CPIAUCSL\">cpi</a></strong>. Consumer Price Index, from FRED series CPIAUCSL</li><li> <strong><a href=\"https://psidonline.isr.umich.edu/help/xyr/psid.xlsx\">variables</a></strong>. Variable descriptions, in a cross-year format.</li><li> <strong>cmp9919_source</string>, <em>data/J321148.zip</em>. Source file for comparing 1999 to 2019</li><li> <strong>long_wealth_source</string>, <em>data/J321388.zip</em>. Source data package for Longitudinal Wealth Study</li><ul>"
     },
     "execution_count": 2,
     "metadata": {},
     "output_type": "execute_result"
    }
   ],
   "source": [
    "pkg = mp.jupyter.open_package()\n",
    "#pkg = mp.jupyter.open_source_package()\n",
    "pkg.set_sys_path()\n",
    "from pylib import *\n",
    "pkg"
   ],
   "metadata": {
    "collapsed": false
   }
  },
  {
   "cell_type": "code",
   "execution_count": 3,
   "outputs": [
    {
     "data": {
      "text/plain": "    pid  year race  er30001  er30002  er30000  er33501  er33503  er13001  \\\n0  4001  2001  NaN        4        1        3        0        0      NaN   \n1  4003  2001  1.0        4        3        3       96       10      6.0   \n2  4004  2001  1.0        4        4        3     5987       10      6.0   \n3  4006  2001  1.0        4        6        3     5599       22      6.0   \n4  4007  2001  1.0        4        7        3     7091       10      6.0   \n\n   er33502  ...  er16462  er16518     s405     s419     s420  s415     s411  \\\n0        0  ...      NaN      NaN      NaN      NaN      NaN   NaN      NaN   \n1        1  ...  50880.0   19.812     50.0      0.0  90000.0   0.0  15000.0   \n2        1  ...  50000.0   30.397  10000.0  35000.0  68000.0   0.0  10000.0   \n3        2  ...  92000.0   19.566   4000.0      0.0  13000.0   0.0      0.0   \n4        1  ...  55616.0   24.971  15000.0      0.0  17000.0   0.0      0.0   \n\n      s413      s417      s416  \n0      NaN       NaN       NaN  \n1   8000.0  113050.0   23050.0  \n2  20000.0  493000.0  425000.0  \n3   6000.0   23000.0   10000.0  \n4   9000.0   41000.0   24000.0  \n\n[5 rows x 68 columns]",
      "text/html": "<div>\n<style scoped>\n    .dataframe tbody tr th:only-of-type {\n        vertical-align: middle;\n    }\n\n    .dataframe tbody tr th {\n        vertical-align: top;\n    }\n\n    .dataframe thead th {\n        text-align: right;\n    }\n</style>\n<table border=\"1\" class=\"dataframe\">\n  <thead>\n    <tr style=\"text-align: right;\">\n      <th></th>\n      <th>pid</th>\n      <th>year</th>\n      <th>race</th>\n      <th>er30001</th>\n      <th>er30002</th>\n      <th>er30000</th>\n      <th>er33501</th>\n      <th>er33503</th>\n      <th>er13001</th>\n      <th>er33502</th>\n      <th>...</th>\n      <th>er16462</th>\n      <th>er16518</th>\n      <th>s405</th>\n      <th>s419</th>\n      <th>s420</th>\n      <th>s415</th>\n      <th>s411</th>\n      <th>s413</th>\n      <th>s417</th>\n      <th>s416</th>\n    </tr>\n  </thead>\n  <tbody>\n    <tr>\n      <th>0</th>\n      <td>4001</td>\n      <td>2001</td>\n      <td>NaN</td>\n      <td>4</td>\n      <td>1</td>\n      <td>3</td>\n      <td>0</td>\n      <td>0</td>\n      <td>NaN</td>\n      <td>0</td>\n      <td>...</td>\n      <td>NaN</td>\n      <td>NaN</td>\n      <td>NaN</td>\n      <td>NaN</td>\n      <td>NaN</td>\n      <td>NaN</td>\n      <td>NaN</td>\n      <td>NaN</td>\n      <td>NaN</td>\n      <td>NaN</td>\n    </tr>\n    <tr>\n      <th>1</th>\n      <td>4003</td>\n      <td>2001</td>\n      <td>1.0</td>\n      <td>4</td>\n      <td>3</td>\n      <td>3</td>\n      <td>96</td>\n      <td>10</td>\n      <td>6.0</td>\n      <td>1</td>\n      <td>...</td>\n      <td>50880.0</td>\n      <td>19.812</td>\n      <td>50.0</td>\n      <td>0.0</td>\n      <td>90000.0</td>\n      <td>0.0</td>\n      <td>15000.0</td>\n      <td>8000.0</td>\n      <td>113050.0</td>\n      <td>23050.0</td>\n    </tr>\n    <tr>\n      <th>2</th>\n      <td>4004</td>\n      <td>2001</td>\n      <td>1.0</td>\n      <td>4</td>\n      <td>4</td>\n      <td>3</td>\n      <td>5987</td>\n      <td>10</td>\n      <td>6.0</td>\n      <td>1</td>\n      <td>...</td>\n      <td>50000.0</td>\n      <td>30.397</td>\n      <td>10000.0</td>\n      <td>35000.0</td>\n      <td>68000.0</td>\n      <td>0.0</td>\n      <td>10000.0</td>\n      <td>20000.0</td>\n      <td>493000.0</td>\n      <td>425000.0</td>\n    </tr>\n    <tr>\n      <th>3</th>\n      <td>4006</td>\n      <td>2001</td>\n      <td>1.0</td>\n      <td>4</td>\n      <td>6</td>\n      <td>3</td>\n      <td>5599</td>\n      <td>22</td>\n      <td>6.0</td>\n      <td>2</td>\n      <td>...</td>\n      <td>92000.0</td>\n      <td>19.566</td>\n      <td>4000.0</td>\n      <td>0.0</td>\n      <td>13000.0</td>\n      <td>0.0</td>\n      <td>0.0</td>\n      <td>6000.0</td>\n      <td>23000.0</td>\n      <td>10000.0</td>\n    </tr>\n    <tr>\n      <th>4</th>\n      <td>4007</td>\n      <td>2001</td>\n      <td>1.0</td>\n      <td>4</td>\n      <td>7</td>\n      <td>3</td>\n      <td>7091</td>\n      <td>10</td>\n      <td>6.0</td>\n      <td>1</td>\n      <td>...</td>\n      <td>55616.0</td>\n      <td>24.971</td>\n      <td>15000.0</td>\n      <td>0.0</td>\n      <td>17000.0</td>\n      <td>0.0</td>\n      <td>0.0</td>\n      <td>9000.0</td>\n      <td>41000.0</td>\n      <td>24000.0</td>\n    </tr>\n  </tbody>\n</table>\n<p>5 rows × 68 columns</p>\n</div>"
     },
     "execution_count": 3,
     "metadata": {},
     "output_type": "execute_result"
    }
   ],
   "source": [
    "r = pkg.resource('long_wealth')\n",
    "df = pkg.resource('long_wealth').dataframe()\n",
    "df.head()"
   ],
   "metadata": {
    "collapsed": false
   }
  },
  {
   "cell_type": "code",
   "execution_count": 4,
   "outputs": [
    {
     "data": {
      "text/plain": "                                                         241\ntype                                              INDIVIDUAL\ncategory                                           EDUCATION\ntext       01>EDUCATION:\\n02>Completed Education\\n03>grad...\nhead_wife                                                NaN\nvar_count                                                 40\ngroup                                                     64\nyear                                                    2001\nname                                                 ER33616\npath       /education:/completed education/grades completed:",
      "text/html": "<div>\n<style scoped>\n    .dataframe tbody tr th:only-of-type {\n        vertical-align: middle;\n    }\n\n    .dataframe tbody tr th {\n        vertical-align: top;\n    }\n\n    .dataframe thead th {\n        text-align: right;\n    }\n</style>\n<table border=\"1\" class=\"dataframe\">\n  <thead>\n    <tr style=\"text-align: right;\">\n      <th></th>\n      <th>241</th>\n    </tr>\n  </thead>\n  <tbody>\n    <tr>\n      <th>type</th>\n      <td>INDIVIDUAL</td>\n    </tr>\n    <tr>\n      <th>category</th>\n      <td>EDUCATION</td>\n    </tr>\n    <tr>\n      <th>text</th>\n      <td>01&gt;EDUCATION:\\n02&gt;Completed Education\\n03&gt;grad...</td>\n    </tr>\n    <tr>\n      <th>head_wife</th>\n      <td>NaN</td>\n    </tr>\n    <tr>\n      <th>var_count</th>\n      <td>40</td>\n    </tr>\n    <tr>\n      <th>group</th>\n      <td>64</td>\n    </tr>\n    <tr>\n      <th>year</th>\n      <td>2001</td>\n    </tr>\n    <tr>\n      <th>name</th>\n      <td>ER33616</td>\n    </tr>\n    <tr>\n      <th>path</th>\n      <td>/education:/completed education/grades completed:</td>\n    </tr>\n  </tbody>\n</table>\n</div>"
     },
     "execution_count": 4,
     "metadata": {},
     "output_type": "execute_result"
    }
   ],
   "source": [
    "m = Metadata(r)\n",
    "m.lookup('ER33616').T"
   ],
   "metadata": {
    "collapsed": false
   }
  },
  {
   "cell_type": "code",
   "execution_count": 27,
   "outputs": [],
   "source": [
    "r = pkg.resource('long_wealth')\n",
    "cat = r.cat\n",
    "\n",
    "# These have missing/imputed values that make them categories, but they really should be numeric\n",
    "non_cats = ['ER16515B3', 'ER16515B2', 'ER16515B5', 'ER16515B4',\n",
    "            'S405', 'S419', 'S420', 'S415', 'S411', 'S413', 'S417', 'S416' ]\n",
    "\n",
    "non_cats = [c.lower() for c in non_cats]\n",
    "\n",
    "for c in non_cats:\n",
    "    try:\n",
    "        cat.remove(c)\n",
    "    except KeyError:\n",
    "        print(\"Can't remove \", c, \" from cat\")\n",
    "\n",
    "    if not c.startswith('S'):\n",
    "        df[c] = df[c].replace( { 9999999.0: np.nan } )\n",
    "\n",
    "df['married'] = (df.er33507 != 0)\n",
    "\n",
    "\n",
    "dfc = cat.to_categorical(df)\n"
   ],
   "metadata": {
    "collapsed": false
   }
  },
  {
   "cell_type": "code",
   "execution_count": 28,
   "outputs": [],
   "source": [
    "# Calculate the sum of all expenditures\n",
    "\n",
    "# Exclude some to avoid double counts.\n",
    "excludes = ['er16515a2', 'er16515a3', 'er16515a4', # components of food\n",
    "            'er16515a6' # mortgage, component of housing\n",
    "\n",
    "            ]\n",
    "\n",
    "exp_cols = [c['name'] for c in r.columns() if c['category'] == 'EXPENDITURES' and c['name'] not in excludes ]\n",
    "dfc['exp'] = dfc[exp_cols].sum(axis=1) # df categorized\n",
    "\n"
   ],
   "metadata": {
    "collapsed": false
   }
  },
  {
   "cell_type": "code",
   "execution_count": 28,
   "outputs": [],
   "source": [],
   "metadata": {
    "collapsed": false
   }
  },
  {
   "cell_type": "code",
   "execution_count": 35,
   "outputs": [],
   "source": [
    "col_map = {\n",
    "\n",
    "    'er30001':'1968_interview_number',\n",
    "    'er30002':'person_number',\n",
    "    'er30000':'release_number',\n",
    "\n",
    "    'er13001': 'release_number',\n",
    "    'er13009': 'num_in_fu',\n",
    "    'er13010': 'age_of_head',\n",
    "    'er13011': 'sex_of_head',\n",
    "    'er13012': 'age_of_wife',\n",
    "    'er13013': 'num_children_in_fu',\n",
    "    'er13041': 'house_value',\n",
    "    'er15928': 'race_of_head_1',\n",
    "    'er15929': 'race_of_head_2',\n",
    "    'er15930': 'race_of_head_3',\n",
    "    'er15931': 'race_of_head_4',\n",
    "    'er16462': 'total_family_income',\n",
    "\n",
    "    's420': 'home_equity',\n",
    "    's416': 'wealth_wo_equity',\n",
    "    's417': 'wealth_w_equity',\n",
    "    'er33501': 'interview_number',\n",
    "    'er33502': 'sequence_number',\n",
    "    'er33503': 'relation_to_head',\n",
    "    'er33507': 'marital_pairs_indicator',\n",
    "    'er33516': 'years_completed_education',\n",
    "\n",
    "    'er16519': 'family_weight_cs', # Cross-sectional family weight\n",
    "    'er16518':'family_weight',\n",
    "\n",
    "    'er15836':'k34_87_race_of_wife_1',\n",
    "    'er15837':'k34_87_race_of_wife_2',\n",
    "    'er15838':'k34_87_race_of_wife_3',\n",
    "    'er15839':'k34_87_race_of_wife_4',\n",
    "\n",
    "    'er16515a1': 'food_expenditure',\n",
    "    'er16515a2': 'food_at_home_expenditure',\n",
    "    'er16515a3': 'food_away_from_home_expenditure',\n",
    "    'er16515a4': 'food_delivered_expenditure',\n",
    "    'er16515a5': 'housing_expenditure',\n",
    "    'er16515a6': 'mortgage_expenditure',\n",
    "    'er16515b6': 'transportation_expenditure',\n",
    "    'er16515b7': 'vehicle_loan_payment_expenditure',\n",
    "    'er16515b9': 'vehicle_lease_payment_expenditure',\n",
    "    'er16515c9': 'education_expenditure',\n",
    "    'er16515d1': 'childcare_expenditure',\n",
    "    'er16515c2':'additional_vehicle_expenditure',\n",
    "    'er16515c1':'auto_insurance_expenditure',\n",
    "    'er16515c6':'bus_train_expenditure',\n",
    "    'er16515d4':'doctor_expenditure_1998',\n",
    "    'er16515b3':'electricity_expenditure',\n",
    "    'er16515b2':'gas_for_home_expenditure',\n",
    "    'er16515c4':'gasoline_expenditure',\n",
    "    'er16515d2':'health_care_expenditure',\n",
    "    'er16515d6':'health_insurance_expenditure',\n",
    "    'er16515a9':'home_insurance_expenditure',\n",
    "    'er16515d3':'hospital_nursing_home_expenditure_1998',\n",
    "    'er16515c8':'other_transportation_expenditure',\n",
    "    'er16515b5':'other_utility__expenditure',\n",
    "    'er16515c5':'parking_expenditure',\n",
    "    'er16515d5':'prescriptions_other_expenditure_1998',\n",
    "    'er16515a8':'property_tax_expenditure',\n",
    "    'er16515a7':'rent_expenditure',\n",
    "    'er16515c7':'taxicab_expenditure',\n",
    "    'er16515b1':'utility_expenditure',\n",
    "    'er16515b8':'vehicle_down_payment_expenditure',\n",
    "    'er16515c3':'vehicle_repair_expenditure',\n",
    "    'er16515b4':'water_sewer_expenditure'\n",
    "\n",
    "}\n",
    "\n",
    "cmap = { c['name']:c for c in r.columns() }\n",
    "\n",
    "for c in dfc.rename(columns=col_map).columns:\n",
    "    if  c.startswith('er'):\n",
    "        print(f\"'{c}':'{cmap[c]['label'].replace('/','_').replace(' ','_').replace('_1999','').lower()}',\")\n",
    "\n",
    "dfm = dfc.rename(columns=col_map) # df mapped"
   ],
   "metadata": {
    "collapsed": false
   }
  },
  {
   "cell_type": "code",
   "execution_count": 36,
   "outputs": [],
   "source": [
    "cats = dfm.relation_to_head.cat.categories.to_list()\n",
    "cats[0] = 'na'\n",
    "cats[1] = 'head'\n",
    "cats[2] = 'wife'\n",
    "cats[3] = 'chwife'\n",
    "cats[4] = 'child_of_head'\n",
    "\n",
    "dfm['relation_to_head'] = dfm.relation_to_head.cat.rename_categories(cats)\n",
    "\n",
    "dfm['nonmort_housing_expenditure'] = dfm.housing_expenditure - dfm.mortgage_expenditure\n",
    "\n"
   ],
   "metadata": {
    "collapsed": false
   }
  },
  {
   "cell_type": "code",
   "execution_count": 37,
   "outputs": [
    {
     "data": {
      "text/plain": "(31510, 71)"
     },
     "execution_count": 37,
     "metadata": {},
     "output_type": "execute_result"
    }
   ],
   "source": [
    "# Remove the records with an inconsistent head of family and fewer than 9 income observations\n",
    "\n",
    "t = dfm[(dfm.relation_to_head == 'head')].dropna(subset=['total_family_income','race'])\n",
    "t = t.groupby('pid').total_family_income.count()\n",
    "valid_pids = t[t==10].index.to_list() # For now, us 10 so we don't have to interpolate\n",
    "\n",
    "dfh = dfm[(dfm.pid.isin(valid_pids))]\n",
    "\n",
    "dfh.shape"
   ],
   "metadata": {
    "collapsed": false
   }
  },
  {
   "cell_type": "code",
   "execution_count": 38,
   "outputs": [],
   "source": [
    "# Add in CPI to adjust for inflation\n",
    "cpi = pkg.reference('cpi').dataframe()\n",
    "cpi.columns = ['date','cpi']\n",
    "cpi['date'] = pd.to_datetime(cpi.date)\n",
    "cpi.date = pd.to_datetime(cpi.date)\n",
    "cpi = cpi.groupby(cpi.date.dt.year).mean(numeric_only=True).reset_index().rename(columns={'date':'year'})\n",
    "\n",
    "cpi = cpi[cpi.year <= dfh.year.max()] # So cpi.max() uses the last year of the dataset\n",
    "\n",
    "cpi['cpi_current'] = cpi.cpi.max()/cpi.cpi\n",
    "\n",
    "dfh = dfh.merge(cpi,how='left',on='year')"
   ],
   "metadata": {
    "collapsed": false
   }
  },
  {
   "cell_type": "code",
   "execution_count": 39,
   "outputs": [],
   "source": [
    "dfe  = dfh[['pid','year','race','age_of_head', 'num_children_in_fu',\n",
    "            'total_family_income','exp','home_equity','wealth_w_equity','wealth_wo_equity',\n",
    "            'housing_expenditure', 'nonmort_housing_expenditure', 'mortgage_expenditure',\n",
    "            'cpi_current','family_weight'\n",
    "            ]].copy().sort_values(['pid','year'])"
   ],
   "metadata": {
    "collapsed": false
   }
  },
  {
   "cell_type": "code",
   "execution_count": 40,
   "outputs": [
    {
     "data": {
      "text/plain": "           pid  year   race  age_of_head  num_children_in_fu  \\\n0         5003  2001  white         38.0                 2.0   \n3151      5003  2003  white         41.0                 0.0   \n6302      5003  2005  white         42.0                 0.0   \n9453      5003  2007  white         45.0                 0.0   \n12604     5003  2009  white         46.0                 0.0   \n...        ...   ...    ...          ...                 ...   \n18905  6872003  2011  black         49.0                 2.0   \n22056  6872003  2013  black         51.0                 2.0   \n25207  6872003  2015  black         53.0                 0.0   \n28358  6872003  2017  black         55.0                 0.0   \n31509  6872003  2019  black         57.0                 0.0   \n\n       total_family_income     exp  home_equity  wealth_w_equity  \\\n0                   114366   81581        72200           222379   \n3151                 88227  101838        25009           144498   \n6302                 57606  168324        94265           168892   \n9453                 42661   66551       101104           162753   \n12604                51234   56514       157276           284766   \n...                    ...     ...          ...              ...   \n18905               139376  115971       125028           176175   \n22056                89527   98234        91087            97453   \n25207                58249   65928        97082            97621   \n28358                82234   55568       140799           141843   \n31509               103080   48250        75000            78900   \n\n       wealth_wo_equity  housing_expenditure  nonmort_housing_expenditure  \\\n0                150178              12416.0                         7220   \n3151             119489              10806.0                         4710   \n6302              74626              13746.0                         8287   \n9453              61649              13366.0                         7336   \n12604            127489              15974.0                        10196   \n...                 ...                  ...                          ...   \n18905             51147              22184.0                        11120   \n22056              6365              23740.0                        12752   \n25207               539              29184.0                        16121   \n28358              1044              21800.0                        10429   \n31509              3900              17570.0                         9070   \n\n       mortgage_expenditure  cpi_current  family_weight  \n0                     10708     1.444020         22.220  \n3151                  10303     1.389411         23.444  \n6302                   9709     1.309244         23.473  \n9453                   9143     1.232982         25.066  \n12604                  8836     1.191490         25.066  \n...                     ...          ...            ...  \n18905                 14094     1.136619          4.676  \n22056                 13301     1.097445          3.827  \n25207                 15359     1.078691          2.814  \n28358                 12306     1.042961          2.814  \n31509                  8500     1.000000          6.136  \n\n[31510 rows x 15 columns]",
      "text/html": "<div>\n<style scoped>\n    .dataframe tbody tr th:only-of-type {\n        vertical-align: middle;\n    }\n\n    .dataframe tbody tr th {\n        vertical-align: top;\n    }\n\n    .dataframe thead th {\n        text-align: right;\n    }\n</style>\n<table border=\"1\" class=\"dataframe\">\n  <thead>\n    <tr style=\"text-align: right;\">\n      <th></th>\n      <th>pid</th>\n      <th>year</th>\n      <th>race</th>\n      <th>age_of_head</th>\n      <th>num_children_in_fu</th>\n      <th>total_family_income</th>\n      <th>exp</th>\n      <th>home_equity</th>\n      <th>wealth_w_equity</th>\n      <th>wealth_wo_equity</th>\n      <th>housing_expenditure</th>\n      <th>nonmort_housing_expenditure</th>\n      <th>mortgage_expenditure</th>\n      <th>cpi_current</th>\n      <th>family_weight</th>\n    </tr>\n  </thead>\n  <tbody>\n    <tr>\n      <th>0</th>\n      <td>5003</td>\n      <td>2001</td>\n      <td>white</td>\n      <td>38.0</td>\n      <td>2.0</td>\n      <td>114366</td>\n      <td>81581</td>\n      <td>72200</td>\n      <td>222379</td>\n      <td>150178</td>\n      <td>12416.0</td>\n      <td>7220</td>\n      <td>10708</td>\n      <td>1.444020</td>\n      <td>22.220</td>\n    </tr>\n    <tr>\n      <th>3151</th>\n      <td>5003</td>\n      <td>2003</td>\n      <td>white</td>\n      <td>41.0</td>\n      <td>0.0</td>\n      <td>88227</td>\n      <td>101838</td>\n      <td>25009</td>\n      <td>144498</td>\n      <td>119489</td>\n      <td>10806.0</td>\n      <td>4710</td>\n      <td>10303</td>\n      <td>1.389411</td>\n      <td>23.444</td>\n    </tr>\n    <tr>\n      <th>6302</th>\n      <td>5003</td>\n      <td>2005</td>\n      <td>white</td>\n      <td>42.0</td>\n      <td>0.0</td>\n      <td>57606</td>\n      <td>168324</td>\n      <td>94265</td>\n      <td>168892</td>\n      <td>74626</td>\n      <td>13746.0</td>\n      <td>8287</td>\n      <td>9709</td>\n      <td>1.309244</td>\n      <td>23.473</td>\n    </tr>\n    <tr>\n      <th>9453</th>\n      <td>5003</td>\n      <td>2007</td>\n      <td>white</td>\n      <td>45.0</td>\n      <td>0.0</td>\n      <td>42661</td>\n      <td>66551</td>\n      <td>101104</td>\n      <td>162753</td>\n      <td>61649</td>\n      <td>13366.0</td>\n      <td>7336</td>\n      <td>9143</td>\n      <td>1.232982</td>\n      <td>25.066</td>\n    </tr>\n    <tr>\n      <th>12604</th>\n      <td>5003</td>\n      <td>2009</td>\n      <td>white</td>\n      <td>46.0</td>\n      <td>0.0</td>\n      <td>51234</td>\n      <td>56514</td>\n      <td>157276</td>\n      <td>284766</td>\n      <td>127489</td>\n      <td>15974.0</td>\n      <td>10196</td>\n      <td>8836</td>\n      <td>1.191490</td>\n      <td>25.066</td>\n    </tr>\n    <tr>\n      <th>...</th>\n      <td>...</td>\n      <td>...</td>\n      <td>...</td>\n      <td>...</td>\n      <td>...</td>\n      <td>...</td>\n      <td>...</td>\n      <td>...</td>\n      <td>...</td>\n      <td>...</td>\n      <td>...</td>\n      <td>...</td>\n      <td>...</td>\n      <td>...</td>\n      <td>...</td>\n    </tr>\n    <tr>\n      <th>18905</th>\n      <td>6872003</td>\n      <td>2011</td>\n      <td>black</td>\n      <td>49.0</td>\n      <td>2.0</td>\n      <td>139376</td>\n      <td>115971</td>\n      <td>125028</td>\n      <td>176175</td>\n      <td>51147</td>\n      <td>22184.0</td>\n      <td>11120</td>\n      <td>14094</td>\n      <td>1.136619</td>\n      <td>4.676</td>\n    </tr>\n    <tr>\n      <th>22056</th>\n      <td>6872003</td>\n      <td>2013</td>\n      <td>black</td>\n      <td>51.0</td>\n      <td>2.0</td>\n      <td>89527</td>\n      <td>98234</td>\n      <td>91087</td>\n      <td>97453</td>\n      <td>6365</td>\n      <td>23740.0</td>\n      <td>12752</td>\n      <td>13301</td>\n      <td>1.097445</td>\n      <td>3.827</td>\n    </tr>\n    <tr>\n      <th>25207</th>\n      <td>6872003</td>\n      <td>2015</td>\n      <td>black</td>\n      <td>53.0</td>\n      <td>0.0</td>\n      <td>58249</td>\n      <td>65928</td>\n      <td>97082</td>\n      <td>97621</td>\n      <td>539</td>\n      <td>29184.0</td>\n      <td>16121</td>\n      <td>15359</td>\n      <td>1.078691</td>\n      <td>2.814</td>\n    </tr>\n    <tr>\n      <th>28358</th>\n      <td>6872003</td>\n      <td>2017</td>\n      <td>black</td>\n      <td>55.0</td>\n      <td>0.0</td>\n      <td>82234</td>\n      <td>55568</td>\n      <td>140799</td>\n      <td>141843</td>\n      <td>1044</td>\n      <td>21800.0</td>\n      <td>10429</td>\n      <td>12306</td>\n      <td>1.042961</td>\n      <td>2.814</td>\n    </tr>\n    <tr>\n      <th>31509</th>\n      <td>6872003</td>\n      <td>2019</td>\n      <td>black</td>\n      <td>57.0</td>\n      <td>0.0</td>\n      <td>103080</td>\n      <td>48250</td>\n      <td>75000</td>\n      <td>78900</td>\n      <td>3900</td>\n      <td>17570.0</td>\n      <td>9070</td>\n      <td>8500</td>\n      <td>1.000000</td>\n      <td>6.136</td>\n    </tr>\n  </tbody>\n</table>\n<p>31510 rows × 15 columns</p>\n</div>"
     },
     "execution_count": 40,
     "metadata": {},
     "output_type": "execute_result"
    }
   ],
   "source": [
    "cpi_cols = ['total_family_income','exp','home_equity','wealth_w_equity',  'wealth_wo_equity',\n",
    "            'nonmort_housing_expenditure', 'mortgage_expenditure']\n",
    "\n",
    "dfe[cpi_cols] = dfe[cpi_cols].multiply(dfe.cpi_current,axis=0).astype(int)\n",
    "\n",
    "dfe"
   ],
   "metadata": {
    "collapsed": false
   }
  },
  {
   "cell_type": "code",
   "execution_count": 41,
   "outputs": [
    {
     "data": {
      "text/plain": "-9324"
     },
     "execution_count": 41,
     "metadata": {},
     "output_type": "execute_result"
    }
   ],
   "source": [
    "x = dfe[dfe.pid ==  5003]\n",
    "\n",
    "def mean_growth(s):\n",
    "    return ((s-s.shift(1))/s.shift(1)).mean()\n",
    "\n",
    "\n",
    "(x.total_family_income - x.exp).sum()\n"
   ],
   "metadata": {
    "collapsed": false
   }
  },
  {
   "cell_type": "code",
   "execution_count": 45,
   "outputs": [
    {
     "data": {
      "text/plain": "127800"
     },
     "execution_count": 45,
     "metadata": {},
     "output_type": "execute_result"
    }
   ],
   "source": [
    "x.home_equity.iloc[-1] - x.home_equity.iloc[0]"
   ],
   "metadata": {
    "collapsed": false
   }
  },
  {
   "cell_type": "code",
   "execution_count": 144,
   "outputs": [],
   "source": [
    "# Columns where we will compute a difference between the first and last year\n",
    "diff_cols = ['home_equity','wealth_w_equity',  'wealth_wo_equity']\n",
    "\n",
    "# Columns where we will sum the values\n",
    "sum_cols = ['total_family_income','exp','housing_expenditure', 'nonmort_housing_expenditure', 'mortgage_expenditure']\n",
    "\n",
    "\n",
    "def compile(x):\n",
    "    return pd.concat([\n",
    "        pd.Series({'age':x.age_of_head.mean(), 'race': x.race.mode()[0], 'num_children':x.num_children_in_fu.mean()}),\n",
    "        x[sum_cols].sum() * 2, # x2 because we only have samples for 1/2 of the years\n",
    "        x[diff_cols].iloc[-1] - x[diff_cols].iloc[0]\n",
    "    ])\n",
    "\n",
    "\n",
    "sumry = dfe[dfe.race.isin(['black','white'])].groupby('pid').apply(compile)\n"
   ],
   "metadata": {
    "collapsed": false
   }
  },
  {
   "cell_type": "code",
   "execution_count": 145,
   "outputs": [
    {
     "data": {
      "text/plain": "                        level_0                      level_1         0\n89              wealth_w_equity             wealth_wo_equity  0.977504\n98             wealth_wo_equity              wealth_w_equity  0.977504\n43          housing_expenditure                          exp  0.870981\n34                          exp          housing_expenditure  0.870981\n46          housing_expenditure         mortgage_expenditure  0.841173\n64         mortgage_expenditure          housing_expenditure  0.841173\n45          housing_expenditure  nonmort_housing_expenditure  0.840668\n54  nonmort_housing_expenditure          housing_expenditure  0.840668\n32                          exp          total_family_income  0.776554\n23          total_family_income                          exp  0.776554",
      "text/html": "<div>\n<style scoped>\n    .dataframe tbody tr th:only-of-type {\n        vertical-align: middle;\n    }\n\n    .dataframe tbody tr th {\n        vertical-align: top;\n    }\n\n    .dataframe thead th {\n        text-align: right;\n    }\n</style>\n<table border=\"1\" class=\"dataframe\">\n  <thead>\n    <tr style=\"text-align: right;\">\n      <th></th>\n      <th>level_0</th>\n      <th>level_1</th>\n      <th>0</th>\n    </tr>\n  </thead>\n  <tbody>\n    <tr>\n      <th>89</th>\n      <td>wealth_w_equity</td>\n      <td>wealth_wo_equity</td>\n      <td>0.977504</td>\n    </tr>\n    <tr>\n      <th>98</th>\n      <td>wealth_wo_equity</td>\n      <td>wealth_w_equity</td>\n      <td>0.977504</td>\n    </tr>\n    <tr>\n      <th>43</th>\n      <td>housing_expenditure</td>\n      <td>exp</td>\n      <td>0.870981</td>\n    </tr>\n    <tr>\n      <th>34</th>\n      <td>exp</td>\n      <td>housing_expenditure</td>\n      <td>0.870981</td>\n    </tr>\n    <tr>\n      <th>46</th>\n      <td>housing_expenditure</td>\n      <td>mortgage_expenditure</td>\n      <td>0.841173</td>\n    </tr>\n    <tr>\n      <th>64</th>\n      <td>mortgage_expenditure</td>\n      <td>housing_expenditure</td>\n      <td>0.841173</td>\n    </tr>\n    <tr>\n      <th>45</th>\n      <td>housing_expenditure</td>\n      <td>nonmort_housing_expenditure</td>\n      <td>0.840668</td>\n    </tr>\n    <tr>\n      <th>54</th>\n      <td>nonmort_housing_expenditure</td>\n      <td>housing_expenditure</td>\n      <td>0.840668</td>\n    </tr>\n    <tr>\n      <th>32</th>\n      <td>exp</td>\n      <td>total_family_income</td>\n      <td>0.776554</td>\n    </tr>\n    <tr>\n      <th>23</th>\n      <td>total_family_income</td>\n      <td>exp</td>\n      <td>0.776554</td>\n    </tr>\n  </tbody>\n</table>\n</div>"
     },
     "execution_count": 145,
     "metadata": {},
     "output_type": "execute_result"
    }
   ],
   "source": [
    "z = sumry.corr(numeric_only=True).stack().reset_index().sort_values(0, ascending=False)\n",
    "z[z[0]!=1].head(10)"
   ],
   "metadata": {
    "collapsed": false
   }
  },
  {
   "cell_type": "code",
   "execution_count": 146,
   "outputs": [
    {
     "data": {
      "text/plain": "wealth_w_equity                1.000000\nwealth_wo_equity               0.976539\ntotal_family_income            0.462240\nhome_equity                    0.356173\nexp                            0.321057\nhousing_expenditure            0.283785\nnonmort_housing_expenditure    0.248196\nmortgage_expenditure           0.226978\nnum_children                  -0.005011\nage                           -0.037886\ndtype: float64"
     },
     "execution_count": 146,
     "metadata": {},
     "output_type": "execute_result"
    }
   ],
   "source": [
    "t.corrwith(t.wealth_w_equity, numeric_only=True).sort_values(ascending=False)"
   ],
   "metadata": {
    "collapsed": false
   }
  },
  {
   "cell_type": "code",
   "execution_count": 147,
   "outputs": [
    {
     "name": "stdout",
     "output_type": "stream",
     "text": [
      "1208384.4000000001 1829699.2\n"
     ]
    }
   ],
   "source": [
    "a,b = sumry.total_family_income.quantile([.4,.6])\n",
    "print(a,b)\n",
    "sumry_46 = sumry[(sumry.total_family_income >= a) & (sumry.total_family_income <= b)].copy()"
   ],
   "metadata": {
    "collapsed": false
   }
  },
  {
   "cell_type": "code",
   "execution_count": 148,
   "outputs": [],
   "source": [
    "sumry_46['wir'] = sumry.wealth_w_equity/sumry.total_family_income\n",
    "sumry_46['eir'] = sumry.exp/sumry.total_family_income"
   ],
   "metadata": {
    "collapsed": false
   }
  },
  {
   "cell_type": "code",
   "execution_count": 149,
   "outputs": [
    {
     "data": {
      "text/plain": "             age  num_children  total_family_income           exp  \\\nrace                                                                \nblack  49.401099      0.839560         1.479462e+06  1.411499e+06   \nwhite  50.564183      0.717308         1.519375e+06  1.412132e+06   \n\n       housing_expenditure  nonmort_housing_expenditure  mortgage_expenditure  \\\nrace                                                                            \nblack        325301.449231                263547.021978         115269.879121   \nwhite        311751.596827                247336.504808         115846.394231   \n\n        home_equity  wealth_w_equity  wealth_wo_equity       wir       eir  \\\nrace                                                                         \nblack  30524.412088      9568.379121     -20955.917582  0.004256  0.960822   \nwhite  43162.987981     82711.550481      39548.853365  0.055607  0.936356   \n\n                 sav  \nrace                  \nblack   67962.186813  \nwhite  107242.447115  ",
      "text/html": "<div>\n<style scoped>\n    .dataframe tbody tr th:only-of-type {\n        vertical-align: middle;\n    }\n\n    .dataframe tbody tr th {\n        vertical-align: top;\n    }\n\n    .dataframe thead th {\n        text-align: right;\n    }\n</style>\n<table border=\"1\" class=\"dataframe\">\n  <thead>\n    <tr style=\"text-align: right;\">\n      <th></th>\n      <th>age</th>\n      <th>num_children</th>\n      <th>total_family_income</th>\n      <th>exp</th>\n      <th>housing_expenditure</th>\n      <th>nonmort_housing_expenditure</th>\n      <th>mortgage_expenditure</th>\n      <th>home_equity</th>\n      <th>wealth_w_equity</th>\n      <th>wealth_wo_equity</th>\n      <th>wir</th>\n      <th>eir</th>\n      <th>sav</th>\n    </tr>\n    <tr>\n      <th>race</th>\n      <th></th>\n      <th></th>\n      <th></th>\n      <th></th>\n      <th></th>\n      <th></th>\n      <th></th>\n      <th></th>\n      <th></th>\n      <th></th>\n      <th></th>\n      <th></th>\n      <th></th>\n    </tr>\n  </thead>\n  <tbody>\n    <tr>\n      <th>black</th>\n      <td>49.401099</td>\n      <td>0.839560</td>\n      <td>1.479462e+06</td>\n      <td>1.411499e+06</td>\n      <td>325301.449231</td>\n      <td>263547.021978</td>\n      <td>115269.879121</td>\n      <td>30524.412088</td>\n      <td>9568.379121</td>\n      <td>-20955.917582</td>\n      <td>0.004256</td>\n      <td>0.960822</td>\n      <td>67962.186813</td>\n    </tr>\n    <tr>\n      <th>white</th>\n      <td>50.564183</td>\n      <td>0.717308</td>\n      <td>1.519375e+06</td>\n      <td>1.412132e+06</td>\n      <td>311751.596827</td>\n      <td>247336.504808</td>\n      <td>115846.394231</td>\n      <td>43162.987981</td>\n      <td>82711.550481</td>\n      <td>39548.853365</td>\n      <td>0.055607</td>\n      <td>0.936356</td>\n      <td>107242.447115</td>\n    </tr>\n  </tbody>\n</table>\n</div>"
     },
     "execution_count": 149,
     "metadata": {},
     "output_type": "execute_result"
    }
   ],
   "source": [
    "z = sumry_46.groupby('race').mean()\n",
    "z['sav'] = z.total_family_income - z.exp\n",
    "z"
   ],
   "metadata": {
    "collapsed": false
   }
  },
  {
   "cell_type": "code",
   "execution_count": null,
   "outputs": [],
   "source": [
    "sumry.describe().T"
   ],
   "metadata": {
    "collapsed": false
   }
  },
  {
   "cell_type": "code",
   "execution_count": null,
   "outputs": [],
   "source": [],
   "metadata": {
    "collapsed": false
   }
  }
 ],
 "metadata": {
  "kernelspec": {
   "display_name": "Python 3",
   "language": "python",
   "name": "python3"
  },
  "language_info": {
   "codemirror_mode": {
    "name": "ipython",
    "version": 2
   },
   "file_extension": ".py",
   "mimetype": "text/x-python",
   "name": "python",
   "nbconvert_exporter": "python",
   "pygments_lexer": "ipython2",
   "version": "2.7.6"
  }
 },
 "nbformat": 4,
 "nbformat_minor": 0
}
