{
 "cells": [
  {
   "cell_type": "code",
   "execution_count": 1,
   "metadata": {},
   "outputs": [],
   "source": [
    "%load_ext autoreload\n",
    "%autoreload 2\n",
    "\n",
    "import seaborn as sns\n",
    "import metapack as mp\n",
    "import pandas as pd\n",
    "import numpy as np\n",
    "import matplotlib.pyplot as plt\n",
    "from IPython.display import display \n",
    "\n",
    "%matplotlib inline\n",
    "sns.set_context('notebook')\n",
    "mp.jupyter.init()\n"
   ]
  },
  {
   "cell_type": "code",
   "execution_count": 2,
   "metadata": {},
   "outputs": [
    {
     "data": {
      "text/plain": "\n`isr.umich.edu-psid-inequality-1.1.2` Last Update: 2023-06-08T00:22:01\n\n__\n\n\n\n## Updating Data\n\nTo update the data, use the data extraction tool at the (PSID website. )[https://simba.isr.umich.edu/Cart/co.aspx], adding any new variables to your data cart. The (variable entry text box)[https://simba.isr.umich.edu/DC/l.aspx] is a handy way to copy the existing varibles into a new cart.  When you checkout your data cart, ( click on the cart icon ) fetch your dataset with these options: \n\n* Codebook Type: XML\n* Data output type: dBase Data File, create compressed file\n\nDownload the ZIP file ( you might have to recompress it if your browser unpacks it ) and move it into the ``data`` directory. Set the reference to the new ZIP file, then re-build the package.\n## Documentation Links\n\n* [PSID Homepage](https://psidonline.isr.umich.edu/default.aspx) \n\n \n\n## Contacts\n\n* **Wrangler** [Eric Busboom](mailto:eric@civicknowledge.com), [Civic Knowledge](http://civicknowledge.com)\n\n## Resources\n\n* **[psid_ineq](data/psid_ineq.csv)**. PSID, Inequality extract\n* **[_labels](data/_labels.csv)**. Categorical value labels\n* **[data_dictionary](data/data_dictionary.csv)**. List of Variables\n\n## References\n<ul><li> <strong><a href=\"https://psidonline.isr.umich.edu/help/xyr/psid.xlsx\">variables</a></strong>. Variable descriptions, in a cross-year format.</li><li> <strong>source</string>, <em>data/J321073.zip</em>. Downloaded source file</li><ul>\n",
      "text/html": "<p><code>isr.umich.edu-psid-inequality-1.1.2</code> Last Update: 2023-06-08T00:22:01</p>\n<p>__</p>\n<h2>Updating Data</h2>\n<p>To update the data, use the data extraction tool at the (PSID website. )[https://simba.isr.umich.edu/Cart/co.aspx], adding any new variables to your data cart. The (variable entry text box)[https://simba.isr.umich.edu/DC/l.aspx] is a handy way to copy the existing varibles into a new cart.  When you checkout your data cart, ( click on the cart icon ) fetch your dataset with these options: </p>\n<ul>\n<li>Codebook Type: XML</li>\n<li>Data output type: dBase Data File, create compressed file</li>\n</ul>\n<p>Download the ZIP file ( you might have to recompress it if your browser unpacks it ) and move it into the <code>data</code> directory. Set the reference to the new ZIP file, then re-build the package.</p>\n<h2>Documentation Links</h2>\n<ul>\n<li><a href=\"https://psidonline.isr.umich.edu/default.aspx\">PSID Homepage</a> </li>\n</ul>\n<h2>Contacts</h2>\n<ul>\n<li><strong>Wrangler</strong> <a href=\"mailto:eric@civicknowledge.com\">Eric Busboom</a>, <a href=\"http://civicknowledge.com\">Civic Knowledge</a></li>\n</ul>\n<h2>Resources</h2>\n<ul>\n<li><strong><a href=\"data/psid_ineq.csv\">psid_ineq</a></strong>. PSID, Inequality extract</li>\n<li><strong><a href=\"data/_labels.csv\">_labels</a></strong>. Categorical value labels</li>\n<li><strong><a href=\"data/data_dictionary.csv\">data_dictionary</a></strong>. List of Variables</li>\n</ul>\n<h2>References</h2>\n<ul><li> <strong><a href=\"https://psidonline.isr.umich.edu/help/xyr/psid.xlsx\">variables</a></strong>. Variable descriptions, in a cross-year format.</li><li> <strong>source</string>, <em>data/J321073.zip</em>. Downloaded source file</li><ul>"
     },
     "execution_count": 2,
     "metadata": {},
     "output_type": "execute_result"
    }
   ],
   "source": [
    "pkg = mp.jupyter.open_package()\n",
    "#pkg = mp.jupyter.open_source_package()\n",
    "pkg"
   ]
  },
  {
   "cell_type": "code",
   "execution_count": 3,
   "outputs": [],
   "source": [
    "labels = pkg.resource('_labels').dataframe()"
   ],
   "metadata": {
    "collapsed": false
   }
  },
  {
   "cell_type": "code",
   "execution_count": 4,
   "metadata": {},
   "outputs": [
    {
     "data": {
      "text/plain": "   year  type_id     name                                     label  \\\n0  1968        0  er30000                            RELEASE NUMBER   \n1  1968        0  er30001                     1968 INTERVIEW NUMBER   \n2  1968        0  er30002  PERSON NUMBER                         68   \n3  2001        1  er17001                            RELEASE NUMBER   \n4  2001        1  er17012                                   # IN FU   \n\n                                               qtext  \\\n0                                   Release Number     \n1             1968 Interview Number (1968 ID Number)   \n2                                      Person Number   \n3                                     Release Number   \n4  Number of Persons in FU at the Time of the 200...   \n\n                                               etext           type  \\\n0   For Release 2 we have updated Relation to Hea...     INDIVIDUAL   \n1   This variable is the 1968 family ID number. T...     INDIVIDUAL   \n2                                                        INDIVIDUAL   \n3  May 2008:  Variables ER20395-ER20458, formerly...  FAMILY PUBLIC   \n4  This variable represents the actual number of ...  FAMILY PUBLIC   \n\n             category                                               text  \\\n0  SURVEY INFORMATION  01>SURVEY INFORMATION:\\n02>Interview Informati...   \n1  SURVEY INFORMATION  01>SURVEY INFORMATION:\\n02>Interview Informati...   \n2  SURVEY INFORMATION  01>SURVEY INFORMATION:\\n02>Interview Informati...   \n3  SURVEY INFORMATION  01>SURVEY INFORMATION\\n02>Interview Informatio...   \n4  FAMILY COMPOSITION  01>FAMILY COMPOSITION\\n02>Current:\\n03>number ...   \n\n  head_wife  var_count                                               path  \n0       NaN          1  /survey information:/interview information/rel...  \n1       NaN         41  /survey information:/interview information/id ...  \n2       NaN          1  /survey information:/interview information/per...  \n3       NaN         16  /survey information/interview information/rele...  \n4       NaN         41  /family composition/current:/number in family ...  ",
      "text/html": "<div>\n<style scoped>\n    .dataframe tbody tr th:only-of-type {\n        vertical-align: middle;\n    }\n\n    .dataframe tbody tr th {\n        vertical-align: top;\n    }\n\n    .dataframe thead th {\n        text-align: right;\n    }\n</style>\n<table border=\"1\" class=\"dataframe\">\n  <thead>\n    <tr style=\"text-align: right;\">\n      <th></th>\n      <th>year</th>\n      <th>type_id</th>\n      <th>name</th>\n      <th>label</th>\n      <th>qtext</th>\n      <th>etext</th>\n      <th>type</th>\n      <th>category</th>\n      <th>text</th>\n      <th>head_wife</th>\n      <th>var_count</th>\n      <th>path</th>\n    </tr>\n  </thead>\n  <tbody>\n    <tr>\n      <th>0</th>\n      <td>1968</td>\n      <td>0</td>\n      <td>er30000</td>\n      <td>RELEASE NUMBER</td>\n      <td>Release Number</td>\n      <td>For Release 2 we have updated Relation to Hea...</td>\n      <td>INDIVIDUAL</td>\n      <td>SURVEY INFORMATION</td>\n      <td>01&gt;SURVEY INFORMATION:\\n02&gt;Interview Informati...</td>\n      <td>NaN</td>\n      <td>1</td>\n      <td>/survey information:/interview information/rel...</td>\n    </tr>\n    <tr>\n      <th>1</th>\n      <td>1968</td>\n      <td>0</td>\n      <td>er30001</td>\n      <td>1968 INTERVIEW NUMBER</td>\n      <td>1968 Interview Number (1968 ID Number)</td>\n      <td>This variable is the 1968 family ID number. T...</td>\n      <td>INDIVIDUAL</td>\n      <td>SURVEY INFORMATION</td>\n      <td>01&gt;SURVEY INFORMATION:\\n02&gt;Interview Informati...</td>\n      <td>NaN</td>\n      <td>41</td>\n      <td>/survey information:/interview information/id ...</td>\n    </tr>\n    <tr>\n      <th>2</th>\n      <td>1968</td>\n      <td>0</td>\n      <td>er30002</td>\n      <td>PERSON NUMBER                         68</td>\n      <td>Person Number</td>\n      <td></td>\n      <td>INDIVIDUAL</td>\n      <td>SURVEY INFORMATION</td>\n      <td>01&gt;SURVEY INFORMATION:\\n02&gt;Interview Informati...</td>\n      <td>NaN</td>\n      <td>1</td>\n      <td>/survey information:/interview information/per...</td>\n    </tr>\n    <tr>\n      <th>3</th>\n      <td>2001</td>\n      <td>1</td>\n      <td>er17001</td>\n      <td>RELEASE NUMBER</td>\n      <td>Release Number</td>\n      <td>May 2008:  Variables ER20395-ER20458, formerly...</td>\n      <td>FAMILY PUBLIC</td>\n      <td>SURVEY INFORMATION</td>\n      <td>01&gt;SURVEY INFORMATION\\n02&gt;Interview Informatio...</td>\n      <td>NaN</td>\n      <td>16</td>\n      <td>/survey information/interview information/rele...</td>\n    </tr>\n    <tr>\n      <th>4</th>\n      <td>2001</td>\n      <td>1</td>\n      <td>er17012</td>\n      <td># IN FU</td>\n      <td>Number of Persons in FU at the Time of the 200...</td>\n      <td>This variable represents the actual number of ...</td>\n      <td>FAMILY PUBLIC</td>\n      <td>FAMILY COMPOSITION</td>\n      <td>01&gt;FAMILY COMPOSITION\\n02&gt;Current:\\n03&gt;number ...</td>\n      <td>NaN</td>\n      <td>41</td>\n      <td>/family composition/current:/number in family ...</td>\n    </tr>\n  </tbody>\n</table>\n</div>"
     },
     "execution_count": 4,
     "metadata": {},
     "output_type": "execute_result"
    }
   ],
   "source": [
    "dd = pkg.resource('data_dictionary').dataframe()\n",
    "dd['name'] = dd['name'].str.lower()\n",
    "dd.head()"
   ]
  },
  {
   "cell_type": "code",
   "execution_count": 5,
   "metadata": {},
   "outputs": [
    {
     "data": {
      "text/plain": "    pid  er30001  er30002                      er30000  er33601  er33701  \\\n0  4003        4        3  Release number 3, June 2022       96     1392   \n1  4004        4        4  Release number 3, June 2022     5987     6278   \n2  4005        4        5  Release number 3, June 2022     6872     7782   \n3  4006        4        6  Release number 3, June 2022     5599     4812   \n4  4007        4        7  Release number 3, June 2022     7091        0   \n\n   er33801  er33901  er34001  er34101  ...  er46502  er51863  er57603  \\\n0      289      148       13      218  ...    832.0    832.0      NaN   \n1     2356     5399     1827     8397  ...      0.0      0.0      0.0   \n2        0        0        0        0  ...      NaN      NaN      NaN   \n3     4097      720     1840     2541  ...      0.0      0.0      0.0   \n4     6880        0     1840     2541  ...      0.0      0.0      0.0   \n\n   er51957 er57713 er64873 er27446 er40618 er46596 er23478  \n0    936.0     NaN     NaN   936.0   936.0   936.0   936.0  \n1    516.0   516.0     NaN   516.0   516.0   516.0   516.0  \n2      NaN     NaN     NaN     NaN     NaN     NaN   742.0  \n3    476.0   476.0   476.0   476.0   476.0   476.0   476.0  \n4    476.0   476.0   476.0   832.0     NaN   476.0     NaN  \n\n[5 rows x 696 columns]",
      "text/html": "<div>\n<style scoped>\n    .dataframe tbody tr th:only-of-type {\n        vertical-align: middle;\n    }\n\n    .dataframe tbody tr th {\n        vertical-align: top;\n    }\n\n    .dataframe thead th {\n        text-align: right;\n    }\n</style>\n<table border=\"1\" class=\"dataframe\">\n  <thead>\n    <tr style=\"text-align: right;\">\n      <th></th>\n      <th>pid</th>\n      <th>er30001</th>\n      <th>er30002</th>\n      <th>er30000</th>\n      <th>er33601</th>\n      <th>er33701</th>\n      <th>er33801</th>\n      <th>er33901</th>\n      <th>er34001</th>\n      <th>er34101</th>\n      <th>...</th>\n      <th>er46502</th>\n      <th>er51863</th>\n      <th>er57603</th>\n      <th>er51957</th>\n      <th>er57713</th>\n      <th>er64873</th>\n      <th>er27446</th>\n      <th>er40618</th>\n      <th>er46596</th>\n      <th>er23478</th>\n    </tr>\n  </thead>\n  <tbody>\n    <tr>\n      <th>0</th>\n      <td>4003</td>\n      <td>4</td>\n      <td>3</td>\n      <td>Release number 3, June 2022</td>\n      <td>96</td>\n      <td>1392</td>\n      <td>289</td>\n      <td>148</td>\n      <td>13</td>\n      <td>218</td>\n      <td>...</td>\n      <td>832.0</td>\n      <td>832.0</td>\n      <td>NaN</td>\n      <td>936.0</td>\n      <td>NaN</td>\n      <td>NaN</td>\n      <td>936.0</td>\n      <td>936.0</td>\n      <td>936.0</td>\n      <td>936.0</td>\n    </tr>\n    <tr>\n      <th>1</th>\n      <td>4004</td>\n      <td>4</td>\n      <td>4</td>\n      <td>Release number 3, June 2022</td>\n      <td>5987</td>\n      <td>6278</td>\n      <td>2356</td>\n      <td>5399</td>\n      <td>1827</td>\n      <td>8397</td>\n      <td>...</td>\n      <td>0.0</td>\n      <td>0.0</td>\n      <td>0.0</td>\n      <td>516.0</td>\n      <td>516.0</td>\n      <td>NaN</td>\n      <td>516.0</td>\n      <td>516.0</td>\n      <td>516.0</td>\n      <td>516.0</td>\n    </tr>\n    <tr>\n      <th>2</th>\n      <td>4005</td>\n      <td>4</td>\n      <td>5</td>\n      <td>Release number 3, June 2022</td>\n      <td>6872</td>\n      <td>7782</td>\n      <td>0</td>\n      <td>0</td>\n      <td>0</td>\n      <td>0</td>\n      <td>...</td>\n      <td>NaN</td>\n      <td>NaN</td>\n      <td>NaN</td>\n      <td>NaN</td>\n      <td>NaN</td>\n      <td>NaN</td>\n      <td>NaN</td>\n      <td>NaN</td>\n      <td>NaN</td>\n      <td>742.0</td>\n    </tr>\n    <tr>\n      <th>3</th>\n      <td>4006</td>\n      <td>4</td>\n      <td>6</td>\n      <td>Release number 3, June 2022</td>\n      <td>5599</td>\n      <td>4812</td>\n      <td>4097</td>\n      <td>720</td>\n      <td>1840</td>\n      <td>2541</td>\n      <td>...</td>\n      <td>0.0</td>\n      <td>0.0</td>\n      <td>0.0</td>\n      <td>476.0</td>\n      <td>476.0</td>\n      <td>476.0</td>\n      <td>476.0</td>\n      <td>476.0</td>\n      <td>476.0</td>\n      <td>476.0</td>\n    </tr>\n    <tr>\n      <th>4</th>\n      <td>4007</td>\n      <td>4</td>\n      <td>7</td>\n      <td>Release number 3, June 2022</td>\n      <td>7091</td>\n      <td>0</td>\n      <td>6880</td>\n      <td>0</td>\n      <td>1840</td>\n      <td>2541</td>\n      <td>...</td>\n      <td>0.0</td>\n      <td>0.0</td>\n      <td>0.0</td>\n      <td>476.0</td>\n      <td>476.0</td>\n      <td>476.0</td>\n      <td>832.0</td>\n      <td>NaN</td>\n      <td>476.0</td>\n      <td>NaN</td>\n    </tr>\n  </tbody>\n</table>\n<p>5 rows × 696 columns</p>\n</div>"
     },
     "execution_count": 5,
     "metadata": {},
     "output_type": "execute_result"
    }
   ],
   "source": [
    "df = pkg.resource('psid_ineq').dataframe(convert_categorical=True)\n",
    "df.head()"
   ]
  },
  {
   "cell_type": "code",
   "execution_count": 6,
   "metadata": {},
   "outputs": [],
   "source": [
    "# The race of each record will be the race of the head of household, which will be collapsed from\n",
    "# multiple values over multiple years. Apparently they ask for race every year, so it can change from year to\n",
    "# year. \n",
    "#\n",
    "# L40 is 'race of head'\n",
    "\n",
    "roh_cols = dd[dd.label.str.contains('L40')].name.str.lower().to_list()\n",
    "\n",
    "# race_map = { k:'' for k in df[roh_cols].stack().unique() }\n",
    "\n",
    "race_map = {\n",
    " 'White': 'white',\n",
    " 'NA; DK': 'na',\n",
    " 'Black': 'black',\n",
    " 'Black, African-American, or Negro': 'black',\n",
    " 'NA; refused': 'na',\n",
    " 'American Indian or Alaska Native': 'aian',\n",
    " 'Other': 'other',\n",
    " 'Mentions Latino origin or descent': 'hisp',\n",
    " 'Latino origin or descent': 'hisp',\n",
    " 'DK; NA': 'na',\n",
    " 'DK; NA; refused': 'na',\n",
    " 'Asian, Pacific Islander': 'aapi',\n",
    " 'Asian': 'asian',\n",
    " 'American Indian, Aleut, Eskimo': 'aian',\n",
    " 'Wild code': 'na',\n",
    " 'Native American': 'aian',\n",
    " 'Native Hawaiian or Pacific Islander': 'nhopi',\n",
    " 'Mentions color other than black or white': 'other',\n",
    " 'Color besides black or white': 'other',\n",
    "  None: 'na'}\n",
    "\n",
    "t =df[roh_cols].replace(race_map).fillna('na').mode(axis=1)\n",
    "\n",
    "rows  = []\n",
    "for idx, r in t.replace({'na':'zzz'}).iterrows():\n",
    "    rows.append(r.sort_values())\n",
    "    \n",
    "df['race'] = pd.DataFrame(rows)[0]"
   ]
  },
  {
   "cell_type": "code",
   "execution_count": null,
   "outputs": [],
   "source": [
    "\n",
    "\n",
    "r = pkg.resource('psid_ineq')\n",
    "\n",
    "translate_year(vars_for_year(r, 1999), 2019)\n",
    "find_year(varis, 'er13011', (2005, 2019) ).T\n",
    "vars_for_year(r, 1999)"
   ],
   "metadata": {
    "collapsed": false
   }
  },
  {
   "cell_type": "code",
   "execution_count": 7,
   "metadata": {},
   "outputs": [
    {
     "data": {
      "text/plain": "           pid  er30001  er30002                      er30000  er33601  \\\n12471  1695001     1695        1  Release number 3, June 2022     4162   \n12472  1695002     1695        2  Release number 3, June 2022     4162   \n12473  1695003     1695        3  Release number 3, June 2022     3303   \n12474  1695004     1695        4  Release number 3, June 2022     2671   \n12475  1695005     1695        5  Release number 3, June 2022     2669   \n...        ...      ...      ...                          ...      ...   \n12627  1695277     1695      277  Release number 3, June 2022     5565   \n12628  1695278     1695      278  Release number 3, June 2022     5565   \n12629  1695279     1695      279  Release number 3, June 2022     2787   \n12630  1695280     1695      280  Release number 3, June 2022     4803   \n12631  1695281     1695      281  Release number 3, June 2022     4803   \n\n       er33701  er33801  er33901  er34001  er34101  ...  er51863  er57603  \\\n12471     4627      560        0        0        0  ...      NaN      NaN   \n12472     4627      560     1800     2763      491  ...      0.0      0.0   \n12473     2445      816      658     3157      831  ...    880.0    880.0   \n12474     2341     2100     1753     2707      112  ...    411.0    411.0   \n12475     3762     1245        0        0        0  ...      NaN      NaN   \n...        ...      ...      ...      ...      ...  ...      ...      ...   \n12627     5482     2463     1459     7603     8352  ...      0.0      0.0   \n12628     5482     2463     1459     7603     8352  ...      0.0      0.0   \n12629     3023     1395     1465     5257     1759  ...    472.0    472.0   \n12630     2470     2011     6554     5499     8286  ...    874.0      NaN   \n12631     2470     2011     6554     5499     8286  ...    874.0      NaN   \n\n       er51957  er57713 er64873 er27446 er40618 er46596 er23478   race  \n12471      NaN      NaN     NaN   775.0     NaN     NaN   962.0    zzz  \n12472    775.0    775.0   775.0   775.0   775.0   775.0   962.0  white  \n12473    562.0    562.0   562.0   562.0   562.0   562.0   562.0  white  \n12474    962.0    962.0   962.0   962.0   962.0   962.0   962.0  white  \n12475      NaN      NaN     NaN   810.0     NaN     NaN   810.0    zzz  \n...        ...      ...     ...     ...     ...     ...     ...    ...  \n12627    405.0    405.0   623.0   651.0   651.0   405.0   651.0  white  \n12628    405.0    405.0   623.0   651.0   651.0   405.0   651.0  white  \n12629    402.0    402.0     0.0   402.0   402.0   402.0   402.0  white  \n12630    999.0      NaN   874.0   999.0   999.0   999.0   999.0  white  \n12631    999.0      NaN   874.0   999.0   999.0   999.0   999.0  white  \n\n[161 rows x 697 columns]",
      "text/html": "<div>\n<style scoped>\n    .dataframe tbody tr th:only-of-type {\n        vertical-align: middle;\n    }\n\n    .dataframe tbody tr th {\n        vertical-align: top;\n    }\n\n    .dataframe thead th {\n        text-align: right;\n    }\n</style>\n<table border=\"1\" class=\"dataframe\">\n  <thead>\n    <tr style=\"text-align: right;\">\n      <th></th>\n      <th>pid</th>\n      <th>er30001</th>\n      <th>er30002</th>\n      <th>er30000</th>\n      <th>er33601</th>\n      <th>er33701</th>\n      <th>er33801</th>\n      <th>er33901</th>\n      <th>er34001</th>\n      <th>er34101</th>\n      <th>...</th>\n      <th>er51863</th>\n      <th>er57603</th>\n      <th>er51957</th>\n      <th>er57713</th>\n      <th>er64873</th>\n      <th>er27446</th>\n      <th>er40618</th>\n      <th>er46596</th>\n      <th>er23478</th>\n      <th>race</th>\n    </tr>\n  </thead>\n  <tbody>\n    <tr>\n      <th>12471</th>\n      <td>1695001</td>\n      <td>1695</td>\n      <td>1</td>\n      <td>Release number 3, June 2022</td>\n      <td>4162</td>\n      <td>4627</td>\n      <td>560</td>\n      <td>0</td>\n      <td>0</td>\n      <td>0</td>\n      <td>...</td>\n      <td>NaN</td>\n      <td>NaN</td>\n      <td>NaN</td>\n      <td>NaN</td>\n      <td>NaN</td>\n      <td>775.0</td>\n      <td>NaN</td>\n      <td>NaN</td>\n      <td>962.0</td>\n      <td>zzz</td>\n    </tr>\n    <tr>\n      <th>12472</th>\n      <td>1695002</td>\n      <td>1695</td>\n      <td>2</td>\n      <td>Release number 3, June 2022</td>\n      <td>4162</td>\n      <td>4627</td>\n      <td>560</td>\n      <td>1800</td>\n      <td>2763</td>\n      <td>491</td>\n      <td>...</td>\n      <td>0.0</td>\n      <td>0.0</td>\n      <td>775.0</td>\n      <td>775.0</td>\n      <td>775.0</td>\n      <td>775.0</td>\n      <td>775.0</td>\n      <td>775.0</td>\n      <td>962.0</td>\n      <td>white</td>\n    </tr>\n    <tr>\n      <th>12473</th>\n      <td>1695003</td>\n      <td>1695</td>\n      <td>3</td>\n      <td>Release number 3, June 2022</td>\n      <td>3303</td>\n      <td>2445</td>\n      <td>816</td>\n      <td>658</td>\n      <td>3157</td>\n      <td>831</td>\n      <td>...</td>\n      <td>880.0</td>\n      <td>880.0</td>\n      <td>562.0</td>\n      <td>562.0</td>\n      <td>562.0</td>\n      <td>562.0</td>\n      <td>562.0</td>\n      <td>562.0</td>\n      <td>562.0</td>\n      <td>white</td>\n    </tr>\n    <tr>\n      <th>12474</th>\n      <td>1695004</td>\n      <td>1695</td>\n      <td>4</td>\n      <td>Release number 3, June 2022</td>\n      <td>2671</td>\n      <td>2341</td>\n      <td>2100</td>\n      <td>1753</td>\n      <td>2707</td>\n      <td>112</td>\n      <td>...</td>\n      <td>411.0</td>\n      <td>411.0</td>\n      <td>962.0</td>\n      <td>962.0</td>\n      <td>962.0</td>\n      <td>962.0</td>\n      <td>962.0</td>\n      <td>962.0</td>\n      <td>962.0</td>\n      <td>white</td>\n    </tr>\n    <tr>\n      <th>12475</th>\n      <td>1695005</td>\n      <td>1695</td>\n      <td>5</td>\n      <td>Release number 3, June 2022</td>\n      <td>2669</td>\n      <td>3762</td>\n      <td>1245</td>\n      <td>0</td>\n      <td>0</td>\n      <td>0</td>\n      <td>...</td>\n      <td>NaN</td>\n      <td>NaN</td>\n      <td>NaN</td>\n      <td>NaN</td>\n      <td>NaN</td>\n      <td>810.0</td>\n      <td>NaN</td>\n      <td>NaN</td>\n      <td>810.0</td>\n      <td>zzz</td>\n    </tr>\n    <tr>\n      <th>...</th>\n      <td>...</td>\n      <td>...</td>\n      <td>...</td>\n      <td>...</td>\n      <td>...</td>\n      <td>...</td>\n      <td>...</td>\n      <td>...</td>\n      <td>...</td>\n      <td>...</td>\n      <td>...</td>\n      <td>...</td>\n      <td>...</td>\n      <td>...</td>\n      <td>...</td>\n      <td>...</td>\n      <td>...</td>\n      <td>...</td>\n      <td>...</td>\n      <td>...</td>\n      <td>...</td>\n    </tr>\n    <tr>\n      <th>12627</th>\n      <td>1695277</td>\n      <td>1695</td>\n      <td>277</td>\n      <td>Release number 3, June 2022</td>\n      <td>5565</td>\n      <td>5482</td>\n      <td>2463</td>\n      <td>1459</td>\n      <td>7603</td>\n      <td>8352</td>\n      <td>...</td>\n      <td>0.0</td>\n      <td>0.0</td>\n      <td>405.0</td>\n      <td>405.0</td>\n      <td>623.0</td>\n      <td>651.0</td>\n      <td>651.0</td>\n      <td>405.0</td>\n      <td>651.0</td>\n      <td>white</td>\n    </tr>\n    <tr>\n      <th>12628</th>\n      <td>1695278</td>\n      <td>1695</td>\n      <td>278</td>\n      <td>Release number 3, June 2022</td>\n      <td>5565</td>\n      <td>5482</td>\n      <td>2463</td>\n      <td>1459</td>\n      <td>7603</td>\n      <td>8352</td>\n      <td>...</td>\n      <td>0.0</td>\n      <td>0.0</td>\n      <td>405.0</td>\n      <td>405.0</td>\n      <td>623.0</td>\n      <td>651.0</td>\n      <td>651.0</td>\n      <td>405.0</td>\n      <td>651.0</td>\n      <td>white</td>\n    </tr>\n    <tr>\n      <th>12629</th>\n      <td>1695279</td>\n      <td>1695</td>\n      <td>279</td>\n      <td>Release number 3, June 2022</td>\n      <td>2787</td>\n      <td>3023</td>\n      <td>1395</td>\n      <td>1465</td>\n      <td>5257</td>\n      <td>1759</td>\n      <td>...</td>\n      <td>472.0</td>\n      <td>472.0</td>\n      <td>402.0</td>\n      <td>402.0</td>\n      <td>0.0</td>\n      <td>402.0</td>\n      <td>402.0</td>\n      <td>402.0</td>\n      <td>402.0</td>\n      <td>white</td>\n    </tr>\n    <tr>\n      <th>12630</th>\n      <td>1695280</td>\n      <td>1695</td>\n      <td>280</td>\n      <td>Release number 3, June 2022</td>\n      <td>4803</td>\n      <td>2470</td>\n      <td>2011</td>\n      <td>6554</td>\n      <td>5499</td>\n      <td>8286</td>\n      <td>...</td>\n      <td>874.0</td>\n      <td>NaN</td>\n      <td>999.0</td>\n      <td>NaN</td>\n      <td>874.0</td>\n      <td>999.0</td>\n      <td>999.0</td>\n      <td>999.0</td>\n      <td>999.0</td>\n      <td>white</td>\n    </tr>\n    <tr>\n      <th>12631</th>\n      <td>1695281</td>\n      <td>1695</td>\n      <td>281</td>\n      <td>Release number 3, June 2022</td>\n      <td>4803</td>\n      <td>2470</td>\n      <td>2011</td>\n      <td>6554</td>\n      <td>5499</td>\n      <td>8286</td>\n      <td>...</td>\n      <td>874.0</td>\n      <td>NaN</td>\n      <td>999.0</td>\n      <td>NaN</td>\n      <td>874.0</td>\n      <td>999.0</td>\n      <td>999.0</td>\n      <td>999.0</td>\n      <td>999.0</td>\n      <td>white</td>\n    </tr>\n  </tbody>\n</table>\n<p>161 rows × 697 columns</p>\n</div>"
     },
     "execution_count": 7,
     "metadata": {},
     "output_type": "execute_result"
    }
   ],
   "source": [
    "t = df.groupby('er30001').pid.count()\n",
    "t.index[t.argmax()]\n",
    "df[df.er30001==1695.0]\n"
   ]
  },
  {
   "cell_type": "code",
   "execution_count": 8,
   "metadata": {},
   "outputs": [
    {
     "data": {
      "text/plain": "<AxesSubplot: >"
     },
     "execution_count": 8,
     "metadata": {},
     "output_type": "execute_result"
    },
    {
     "data": {
      "text/plain": "<Figure size 640x480 with 1 Axes>",
      "image/png": "[encoded data removed]"
     },
     "metadata": {},
     "output_type": "display_data"
    }
   ],
   "source": [
    "# Unweighted age of vehicles\n",
    "\n",
    "# COlumns that mention the model year\n",
    "ml_cols = dd[dd.label.str.contains('MODEL YEAR')].name.str.lower().to_list()\n",
    "\n",
    "# Add in the pid and remove non-year codes\n",
    "t =df[['pid']+ml_cols].set_index('pid').replace([0, -1, 9997, 9998, 9999],None)\n",
    "\n",
    "# Subtract from the year for each colum to get age. \n",
    "for c in ml_cols:\n",
    "    year = dd[dd['name'] == c].iloc[0].year +1 # The min ages were -1\n",
    "    t[c] = year-t[c]\n",
    "\n",
    "# Re-add race\n",
    "t = df[['pid','race']].merge(t.reset_index())\n",
    "\n",
    "# Stack so we can use group\n",
    "t = t.set_index(['pid','race']).stack().to_frame('age').reset_index()\n",
    "\n",
    "t.age.hist(bins=int(t.age.max()))"
   ]
  },
  {
   "cell_type": "code",
   "execution_count": 9,
   "outputs": [],
   "source": [
    "# Could also use the data dictionary, but using the Metatab metadata will be more\n",
    "# common acorss packages.\n",
    "\n",
    "cols = pkg.resource('psid_ineq').columns()\n"
   ],
   "metadata": {
    "collapsed": false
   }
  },
  {
   "cell_type": "code",
   "execution_count": 10,
   "outputs": [
    {
     "data": {
      "text/plain": "{1: 'Head in 2001; 1999 Head who was mover-out nonresponse by the time of the 2001 interview',\n 2: 'Legal Wife in 2001; 1999 Wife who was mover-out nonresponse by the time of the 2001 interview',\n 3: '&quot;Wife&quot;--female cohabitor who has lived with Head for 12 months or more; 1999 &quot;Wife&quot; who was mover-out nonresponse by the time of the 2001 interview',\n 0: 'Inap.:  from Latino sample (ER30001=7001-9308); from Immigrant 2017 sample (ER30001=4001-4851); main family nonresponse by 2001 or mover-out nonresponse by 1999 (ER33601=0); born or moved in after the 2001 interview (ER33601&gt;0 and ER33602=0)',\n 4: 'Son or daughter of Head (includes adopted children but not stepchildren)',\n 15: 'Grandson or granddaughter of Head (includes grandchildren of legal Wife (code 20), but those of a cohabitor are coded 97)',\n 5: 'Stepson or stepdaughter of Head (children of legal Wife (code 20) who are not children of Head)',\n 25: 'First-year cohabitor of Head',\n 12: 'Father or mother of Head (includes stepparents)',\n 6: 'Son or daughter of &quot;Wife&quot; but not Head (includes only those children of mothers whose relationship to Head is 22 but who are not children of Head)',\n 9: 'Brother or sister of Head (includes step and half sisters and brothers)',\n 8: 'Foster son or foster daughter, not legally adopted',\n 30: 'Other nonrelatives (includes homosexual partners, friends of children of the FU, etc.)',\n 24: 'Children of first-year cohabitor but not of Head (the parent of this child is coded 88)',\n 29: 'Other relative of cohabitor (the cohabitor is code 22 or 88)',\n 19: 'Nephew or niece of Head',\n 10: 'Brother-in-law or sister-in-law of Head; i.e., brother or sister of legal Wife, or spouse of Head&apos;s brother or sister.',\n 20: 'Nephew or niece of legal Wife (code 20)',\n 7: 'Son-in-law or daughter-in-law of Head (includes stepchildren-in-law)',\n 26: 'Legal husband of Head',\n 13: 'Father-in-law or mother-in-law of Head (includes parents of legal wives (code 20) only)',\n 11: 'Brother or sister of Head&apos;s cohabitor (the cohabitor is coded 22 or 88)',\n 22: 'Cousin of Head',\n 17: 'Grandfather or grandmother of Head (includes stepgrandparents)',\n 16: 'Great-grandson or great-granddaughter of Head (includes great-grandchildren of legal Wife (code 20), but those of a cohabitor are coded 97)',\n 21: 'Uncle or Aunt of Head',\n 14: 'Father or mother of Head&apos;s cohabitor (the cohabitor is coded 22 or 88)',\n 18: 'Grandfather or grandmother of legal Wife (code 20)',\n 27: 'Other relative of Head',\n 23: 'Cousin of legal Wife (code 20)',\n 28: 'Other relative of legal Wife (code 20)'}"
     },
     "execution_count": 10,
     "metadata": {},
     "output_type": "execute_result"
    }
   ],
   "source": [
    "cm = dict( zip( df['er33603'].cat.codes, df['er33603'] ) )\n",
    "cm"
   ],
   "metadata": {
    "collapsed": false
   }
  },
  {
   "cell_type": "markdown",
   "source": [
    "er19989\tnumber\t2001\tL40/95 RACE OF HEAD 1\n",
    "er76897\tnumber\t2019\tL40 RACE OF REFERENCE PERSON-MENTION 1\n",
    "\n",
    "er33603\tinteger\t2001\tRELATION TO HEAD                      01\n",
    "er34703\tinteger\t2019\tRELATION TO REFERENCE PERSON          19\n",
    "\n",
    "er33607\tinteger\t2001\tMARITAL PAIRS INDICATOR               01\n",
    "er34707\tinteger\t2019\tMARITAL PAIRS INDICATOR               19\n",
    "\n",
    "er17012\tnumber\t2001\t# IN FU\n",
    "er72016\tnumber\t2019\t# IN FU\n",
    "\n",
    "!!!er47318\tnumber\t2011\tSEX OF HEAD\n",
    "er72018\tnumber\t2019\tSEX OF REFERENCE PERSON\n",
    "\n",
    "\n",
    "er20456a3\tnumber\t2001\tFOOD AWAY FROM HOME EXPENDITURE 2001\n",
    "er77516\tnumber\t2019\tFOOD AWAY FROM HOME EXPENDITURE 2019\n",
    "\n",
    "er28037e3\tnumber\t2005\tOTHER RECREATION EXPENDITURE 2004\n",
    "er77585\tnumber\t2019\tOTHER RECREATION EXPENDITURE 2018\n",
    "\n",
    "er17044\tnumber\t2001\tA20 HOUSE VALUE\n",
    "er72031\tnumber\t2019\tA20 HOUSE VALUE\n",
    "\n",
    "er33639\tinteger\t2001\tCORE/IMM INDIVIDUAL CROSS-SECTION WT  01\tSAMPLE WEIGHT\n",
    "\n",
    "s505\tnumber\t2001\tIMP VAL CHECKING/SAVING (W28) 01\n",
    "\n",
    "s504\tnumber\t2001\tIMP WTR CHECKING/SAVING (W27) 01\n",
    "er71433\tnumber\t2017\tIMP WTR CHECKING/SAVING (W27) 2017\n",
    "\n",
    "s520\tnumber\t2001\tIMP VALUE HOME EQUITY 01\n",
    "er77507\tnumber\t2019\tIMP VALUE HOME EQUITY 2019\n",
    "\n",
    "W125 Inheritance\n"
   ],
   "metadata": {
    "collapsed": false
   }
  },
  {
   "cell_type": "code",
   "execution_count": 11,
   "outputs": [
    {
     "data": {
      "text/plain": "                                         er18429  er20456a3\n0      Inap.:  received no food stamps this year     1560.0\n1      Inap.:  received no food stamps this year      600.0\n4      Inap.:  received no food stamps this year      960.0\n5      Inap.:  received no food stamps this year     1560.0\n8      Inap.:  received no food stamps this year     1820.0\n...                                          ...        ...\n41415  Inap.:  received no food stamps this year      360.0\n41418  Inap.:  received no food stamps this year     1300.0\n41427  Inap.:  received no food stamps this year      780.0\n41428  Inap.:  received no food stamps this year     2400.0\n41429  Inap.:  received no food stamps this year     1200.0\n\n[7574 rows x 2 columns]",
      "text/html": "<div>\n<style scoped>\n    .dataframe tbody tr th:only-of-type {\n        vertical-align: middle;\n    }\n\n    .dataframe tbody tr th {\n        vertical-align: top;\n    }\n\n    .dataframe thead th {\n        text-align: right;\n    }\n</style>\n<table border=\"1\" class=\"dataframe\">\n  <thead>\n    <tr style=\"text-align: right;\">\n      <th></th>\n      <th>er18429</th>\n      <th>er20456a3</th>\n    </tr>\n  </thead>\n  <tbody>\n    <tr>\n      <th>0</th>\n      <td>Inap.:  received no food stamps this year</td>\n      <td>1560.0</td>\n    </tr>\n    <tr>\n      <th>1</th>\n      <td>Inap.:  received no food stamps this year</td>\n      <td>600.0</td>\n    </tr>\n    <tr>\n      <th>4</th>\n      <td>Inap.:  received no food stamps this year</td>\n      <td>960.0</td>\n    </tr>\n    <tr>\n      <th>5</th>\n      <td>Inap.:  received no food stamps this year</td>\n      <td>1560.0</td>\n    </tr>\n    <tr>\n      <th>8</th>\n      <td>Inap.:  received no food stamps this year</td>\n      <td>1820.0</td>\n    </tr>\n    <tr>\n      <th>...</th>\n      <td>...</td>\n      <td>...</td>\n    </tr>\n    <tr>\n      <th>41415</th>\n      <td>Inap.:  received no food stamps this year</td>\n      <td>360.0</td>\n    </tr>\n    <tr>\n      <th>41418</th>\n      <td>Inap.:  received no food stamps this year</td>\n      <td>1300.0</td>\n    </tr>\n    <tr>\n      <th>41427</th>\n      <td>Inap.:  received no food stamps this year</td>\n      <td>780.0</td>\n    </tr>\n    <tr>\n      <th>41428</th>\n      <td>Inap.:  received no food stamps this year</td>\n      <td>2400.0</td>\n    </tr>\n    <tr>\n      <th>41429</th>\n      <td>Inap.:  received no food stamps this year</td>\n      <td>1200.0</td>\n    </tr>\n  </tbody>\n</table>\n<p>7574 rows × 2 columns</p>\n</div>"
     },
     "execution_count": 11,
     "metadata": {},
     "output_type": "execute_result"
    }
   ],
   "source": [
    "t = df[df.er33603.cat.codes == 1] # Heads in 2001\n",
    "t[['er18429','er20456a3']]"
   ],
   "metadata": {
    "collapsed": false
   }
  },
  {
   "cell_type": "code",
   "execution_count": 12,
   "outputs": [
    {
     "data": {
      "text/plain": "(9816, 697)"
     },
     "execution_count": 12,
     "metadata": {},
     "output_type": "execute_result"
    }
   ],
   "source": [
    "df[df.er34703.cat.codes == 1].shape # Heads in 2019"
   ],
   "metadata": {
    "collapsed": false
   }
  },
  {
   "cell_type": "markdown",
   "source": [],
   "metadata": {
    "collapsed": false
   }
  },
  {
   "cell_type": "code",
   "execution_count": 12,
   "outputs": [],
   "source": [],
   "metadata": {
    "collapsed": false
   }
  }
 ],
 "metadata": {
  "kernelspec": {
   "display_name": "Python 3 (ipykernel)",
   "language": "python",
   "name": "python3"
  },
  "language_info": {
   "codemirror_mode": {
    "name": "ipython",
    "version": 3
   },
   "file_extension": ".py",
   "mimetype": "text/x-python",
   "name": "python",
   "nbconvert_exporter": "python",
   "pygments_lexer": "ipython3",
   "version": "3.10.6"
  }
 },
 "nbformat": 4,
 "nbformat_minor": 4
}
